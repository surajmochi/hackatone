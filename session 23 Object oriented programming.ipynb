{
 "cells": [
  {
   "cell_type": "code",
   "execution_count": null,
   "metadata": {},
   "outputs": [],
   "source": [
    "Instance Variable  ="
   ]
  },
  {
   "cell_type": "code",
   "execution_count": null,
   "metadata": {},
   "outputs": [],
   "source": [
    "class User:\n",
    "    \n",
    "    @classmethod\n",
    "    def incr_count(cls):\n",
    "        cls.count += 1\n",
    "        \n",
    "    def __init__(self,id,name):\n",
    "        self.id = id\n",
    "        self.name = name\n",
    "    count = 0\n",
    "    \n",
    "user1 = User(1,\"ABC\")\n",
    "print(User.count) # this is class variable\n",
    "print(user1._dict__) #To access all the instance variable\n",
    "user1.count = 50\n",
    "\n"
   ]
  },
  {
   "cell_type": "code",
   "execution_count": null,
   "metadata": {},
   "outputs": [],
   "source": [
    "__str__ : human readable presentation for object and return string\n",
    "\n",
    "__add__ : help in overrite + operator (Obj1 + obj2)\n",
    "    \n"
   ]
  },
  {
   "cell_type": "code",
   "execution_count": null,
   "metadata": {},
   "outputs": [],
   "source": []
  },
  {
   "cell_type": "code",
   "execution_count": null,
   "metadata": {},
   "outputs": [],
   "source": [
    "Intheritance -> resuing and extending the functionality\n"
   ]
  },
  {
   "cell_type": "code",
   "execution_count": 15,
   "metadata": {},
   "outputs": [
    {
     "name": "stdout",
     "output_type": "stream",
     "text": [
      "abc@123\n",
      "{'user_name': 'pqr@123', 'email': 'abc@gmail.com', 'password': 'password@123', 'contact': '9231812154', 'github': 'www.github.com/ABC', 'linkedin': 'www.linkedin.com/srj'}\n",
      "AB\n",
      "www.github.com/l*nd\n"
     ]
    }
   ],
   "source": [
    "class User:\n",
    "    def __init__(self,username,email,password):\n",
    "        \n",
    "        self.user_name = username\n",
    "        self.email = email\n",
    "        self.password = password\n",
    "        \n",
    "    def Login(self,username,password):\n",
    "        if self.user_name == username and self.password == password:\n",
    "            return True\n",
    "        else:\n",
    "            return False\n",
    "        \n",
    "    def add_name(self,name):\n",
    "        self.name = name\n",
    "    \n",
    "    def change_password(self,new_password):\n",
    "        self.password = new_password\n",
    "        \n",
    "    def get_details(self):\n",
    "        return \"{} {}\".format(self.user_name,self.email)\n",
    "    \n",
    "class Admin:\n",
    "        def get_details(self):\n",
    "            return \"{},{}\".format(\"admin,admin@zyz.com\")\n",
    "                                  \n",
    "\n",
    "class Profile(Admin,User):\n",
    "    def __init__(self,username,email,password,contact,github,linkedin):\n",
    "        super().__init__(username,email,password)\n",
    "        self.contact = contact\n",
    "        self.github = github\n",
    "        self.linkedin = linkedin\n",
    "        \n",
    "    def update_github(self,new_url):\n",
    "        self.github_url = new_url\n",
    "        \n",
    "    def get_details(self):\n",
    "        \n",
    "        return \"{} {} {} {}\".format(super().get_details(),self.user_name,self.email,self.github_url,self.linkedin )\n",
    "    \n",
    "        \n",
    "\n",
    "profile1 = Profile(\"abc@123\",\"abc@gmail.com\",\"password@123\",\"9231812154\",\"www.github.com/ABC\",\"www.linkedin.com/srj\")\n",
    "print(profile1.__dict__[\"user_name\"])\n",
    "\n",
    "profile2 = Profile(\"pqr@123\",\"abc@gmail.com\",\"password@123\",\"9231812154\",\"www.github.com/ABC\",\"www.linkedin.com/srj\")\n",
    "print(profile2.__dict__)\n",
    "\n",
    "profile1.add_name(\"AB\")\n",
    "print(profile1.name)\n",
    "\n",
    "profile1.update_github(\"www.github.com/l*nd\")\n",
    "print(profile1.github_url)\n",
    "\n",
    "\n",
    "\n",
    "#print(profile1.get_details())\n",
    "\n",
    "\n",
    "\n",
    "\n",
    "# user1 = User(\"abc@123\",\"abc@gmail.com\",\"password@123\")\n",
    "# #User(user1,\"abc@123\",\"abc@gmail.com\",\"password@123\")\n",
    "\n",
    "# user2 = User(\"xyz@123\",\"xyz@gmail.com\",\"password@123\")\n",
    "# #User(user2,xyz@123\",\"xyz@gmail.com\",\"password@123\")\n",
    "\n",
    "# print(user1.Login(\"abc@123\",\"password@123\"))\n",
    "# #User.Login(user1,\"abc@123\",\"password@123\")\n",
    "\n",
    "# user1.add_name(\"ABC\")\n",
    "# user2.add_name(\"PQR\")\n",
    "# print(user1.add_name)\n",
    "# print(user2.add_name)\n",
    "\n",
    "# user1.change_password(\"abc@12345\")\n",
    "# print(user1.password)"
   ]
  },
  {
   "cell_type": "code",
   "execution_count": null,
   "metadata": {},
   "outputs": [],
   "source": [
    "* Single inherintance :\n",
    "    User(parent)\n",
    "    Profile(child)\n",
    "\n",
    "\n",
    "*Multilevel inheritance:    \n",
    "    parent1 \n",
    "    \n",
    "    parent2(parent1)\n",
    "    \n",
    "    child(parent2)\n",
    "\n",
    "*Multiple inheritance :\n",
    "    User(parent 1) Admin(parent 2)\n",
    "        Profile(child)\n",
    "        \n",
    "*Hybrid : \n",
    "    \n",
    "     "
   ]
  },
  {
   "cell_type": "code",
   "execution_count": null,
   "metadata": {},
   "outputs": [],
   "source": [
    "Method overiding"
   ]
  },
  {
   "cell_type": "code",
   "execution_count": 16,
   "metadata": {},
   "outputs": [
    {
     "name": "stdout",
     "output_type": "stream",
     "text": [
      "Help on Profile in module __main__ object:\n",
      "\n",
      "class Profile(Admin, User)\n",
      " |  Profile(username, email, password, contact, github, linkedin)\n",
      " |  \n",
      " |  Method resolution order:\n",
      " |      Profile\n",
      " |      Admin\n",
      " |      User\n",
      " |      builtins.object\n",
      " |  \n",
      " |  Methods defined here:\n",
      " |  \n",
      " |  __init__(self, username, email, password, contact, github, linkedin)\n",
      " |      Initialize self.  See help(type(self)) for accurate signature.\n",
      " |  \n",
      " |  get_details(self)\n",
      " |  \n",
      " |  update_github(self, new_url)\n",
      " |  \n",
      " |  ----------------------------------------------------------------------\n",
      " |  Data descriptors inherited from Admin:\n",
      " |  \n",
      " |  __dict__\n",
      " |      dictionary for instance variables (if defined)\n",
      " |  \n",
      " |  __weakref__\n",
      " |      list of weak references to the object (if defined)\n",
      " |  \n",
      " |  ----------------------------------------------------------------------\n",
      " |  Methods inherited from User:\n",
      " |  \n",
      " |  Login(self, username, password)\n",
      " |  \n",
      " |  add_name(self, name)\n",
      " |  \n",
      " |  change_password(self, new_password)\n",
      "\n"
     ]
    }
   ],
   "source": [
    "help(profile1)"
   ]
  },
  {
   "cell_type": "code",
   "execution_count": null,
   "metadata": {},
   "outputs": [],
   "source": [
    "python follows : depth first to right algo"
   ]
  },
  {
   "cell_type": "markdown",
   "metadata": {},
   "source": [
    "* Getters -> to retrive the value for particular variable\n",
    "* setters -> to change value for particular variable\n",
    "----------------------------------------------------------\n",
    " \n",
    " *Public \n",
    "  \n",
    "#  we can access variable both inside and outside the child class\n",
    "\n",
    "\n",
    "*Private\n",
    "\n",
    "# if we put __ it means its a private variable (we have to use getters and setters method)\n",
    "\n",
    "\n",
    "*protected\n",
    "\n",
    "# if we put _ it means its a protected variable (we can access inside child class but not outside the class)\n",
    "\n"
   ]
  },
  {
   "cell_type": "code",
   "execution_count": 35,
   "metadata": {},
   "outputs": [
    {
     "name": "stdout",
     "output_type": "stream",
     "text": [
      "password@123\n"
     ]
    },
    {
     "ename": "AttributeError",
     "evalue": "'Profile' object has no attribute '_User__name'",
     "output_type": "error",
     "traceback": [
      "\u001b[1;31m---------------------------------------------------------------------------\u001b[0m",
      "\u001b[1;31mAttributeError\u001b[0m                            Traceback (most recent call last)",
      "\u001b[1;32m<ipython-input-35-10685fe2c121>\u001b[0m in \u001b[0;36m<module>\u001b[1;34m\u001b[0m\n\u001b[0;32m     63\u001b[0m \u001b[1;33m\u001b[0m\u001b[0m\n\u001b[0;32m     64\u001b[0m \u001b[1;33m\u001b[0m\u001b[0m\n\u001b[1;32m---> 65\u001b[1;33m \u001b[0mprint\u001b[0m\u001b[1;33m(\u001b[0m\u001b[0mprofile1\u001b[0m\u001b[1;33m.\u001b[0m\u001b[0mget_name\u001b[0m\u001b[1;33m(\u001b[0m\u001b[1;33m)\u001b[0m\u001b[1;33m)\u001b[0m\u001b[1;33m\u001b[0m\u001b[1;33m\u001b[0m\u001b[0m\n\u001b[0m\u001b[0;32m     66\u001b[0m \u001b[0mprint\u001b[0m\u001b[1;33m(\u001b[0m\u001b[0mprofile1\u001b[0m\u001b[1;33m.\u001b[0m\u001b[0mget_user_name\u001b[0m\u001b[1;33m)\u001b[0m\u001b[1;33m\u001b[0m\u001b[1;33m\u001b[0m\u001b[0m\n",
      "\u001b[1;32m<ipython-input-35-10685fe2c121>\u001b[0m in \u001b[0;36mget_name\u001b[1;34m(self)\u001b[0m\n\u001b[0;32m     19\u001b[0m \u001b[1;33m\u001b[0m\u001b[0m\n\u001b[0;32m     20\u001b[0m     \u001b[1;32mdef\u001b[0m \u001b[0mget_name\u001b[0m\u001b[1;33m(\u001b[0m\u001b[0mself\u001b[0m\u001b[1;33m)\u001b[0m\u001b[1;33m:\u001b[0m\u001b[1;33m\u001b[0m\u001b[1;33m\u001b[0m\u001b[0m\n\u001b[1;32m---> 21\u001b[1;33m         \u001b[1;32mreturn\u001b[0m \u001b[0mself\u001b[0m\u001b[1;33m.\u001b[0m\u001b[0m__name\u001b[0m\u001b[1;33m\u001b[0m\u001b[1;33m\u001b[0m\u001b[0m\n\u001b[0m\u001b[0;32m     22\u001b[0m \u001b[1;33m\u001b[0m\u001b[0m\n\u001b[0;32m     23\u001b[0m     \u001b[1;32mdef\u001b[0m \u001b[0mchange_password\u001b[0m\u001b[1;33m(\u001b[0m\u001b[0mself\u001b[0m\u001b[1;33m,\u001b[0m\u001b[0mnew_password\u001b[0m\u001b[1;33m)\u001b[0m\u001b[1;33m:\u001b[0m\u001b[1;33m\u001b[0m\u001b[1;33m\u001b[0m\u001b[0m\n",
      "\u001b[1;31mAttributeError\u001b[0m: 'Profile' object has no attribute '_User__name'"
     ]
    }
   ],
   "source": [
    "class User:\n",
    "    def __init__(self,username,email,password):\n",
    "        \n",
    "        self.__user_name = username\n",
    "        self.email = email\n",
    "        self.__password = password\n",
    "        \n",
    "    def get_user_name(self):\n",
    "        return self.__username\n",
    "        \n",
    "    def Login(self,username,password):\n",
    "        if self.__user_name == username and self.__password == password:\n",
    "            return True\n",
    "        else:\n",
    "            return False\n",
    "        \n",
    "    def set_name(self,new_name):\n",
    "        self.__name = new_name    # __name is private \n",
    "        \n",
    "    def get_name(self):\n",
    "        return self.__name\n",
    "    \n",
    "    def change_password(self,new_password):\n",
    "        self.__password = new_password\n",
    "        \n",
    "    def get_details(self):\n",
    "        return \"{} {}\".format(self._user__name,self.email)\n",
    "    \n",
    "class Admin:\n",
    "        def get_details(self):\n",
    "            return \"{},{}\".format(\"admin,admin@zyz.com\")\n",
    "                                  \n",
    "\n",
    "class Profile(Admin,User):\n",
    "    def __init__(self,username,email,password,contact,github,linkedin):\n",
    "        super().__init__(username,email,password)\n",
    "        self.contact = contact\n",
    "        self.github = github\n",
    "        self.linkedin = linkedin\n",
    "        \n",
    "    def update_github(self,new_url):\n",
    "        self.github_url = new_url\n",
    "        \n",
    "    def get_details(self):\n",
    "        \n",
    "        return \"{} {} {} {}\".format(self._User__name,self.email,self.github_url,self.linkedin )\n",
    "    \n",
    "        \n",
    "\n",
    "profile1 = Profile(\"abc@123\",\"abc@gmail.com\",\"password@123\",\"9231812154\",\"www.github.com/ABC\",\"www.linkedin.com/srj\")\n",
    "print(profile1._User__password)\n",
    "#profile1.set_name(\"ABC\")\n",
    "# profile1.add_name(\"AB\")\n",
    "# print(profile1.name)\n",
    "\n",
    "# profile1.update_github(\"www.github.com/l*nd\")\n",
    "# print(profile1.github_url)\n",
    "\n",
    "\n",
    "\n",
    "#print(profile1.get_details())\n",
    "\n",
    "\n",
    "\n",
    "print(profile1.get_name())\n",
    "print(profile1.get_user_name)"
   ]
  },
  {
   "cell_type": "code",
   "execution_count": null,
   "metadata": {},
   "outputs": [],
   "source": [
    "Getters -> to retrive the value for particular variable\n",
    "setters -> to change value for particular variable\n"
   ]
  }
 ],
 "metadata": {
  "kernelspec": {
   "display_name": "Python 3",
   "language": "python",
   "name": "python3"
  },
  "language_info": {
   "codemirror_mode": {
    "name": "ipython",
    "version": 3
   },
   "file_extension": ".py",
   "mimetype": "text/x-python",
   "name": "python",
   "nbconvert_exporter": "python",
   "pygments_lexer": "ipython3",
   "version": "3.8.2"
  }
 },
 "nbformat": 4,
 "nbformat_minor": 4
}
