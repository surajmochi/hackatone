{
 "cells": [
  {
   "cell_type": "code",
   "execution_count": null,
   "metadata": {},
   "outputs": [],
   "source": [
    "import re\n",
    "\n",
    "Meta :\n",
    "        [a-z] => character class\n",
    "        [0-9] => digit class\n",
    "        .     => any char\n",
    "        +     => atleat one \n",
    "        *    => zero or more\n",
    "        \n",
    "        [a-z]{5} => five occurence zero to five\n",
    "        [a-z]{2,5} => two to five\n",
    "        ^         => start of the string\n",
    "        $        => end of the string\n",
    "        ?        => optional\n",
    "        [^a-z]  \n",
    "        [^0-9]\n",
    "        "
   ]
  },
  {
   "cell_type": "code",
   "execution_count": null,
   "metadata": {},
   "outputs": [],
   "source": [
    "compile\n",
    "search => match object m.group\n",
    "findall => list\n",
    "\n",
    "\n",
    "w\\ [a-zA-Z0-9] [a-z][A-Z][0-9]\n",
    "W\\ [^a-zA-Z0-9]\n",
    "\n",
    "\\d [0-9]\n",
    "\\D [^0-9]\n",
    "\n",
    "\\s space\n",
    "\\S\n",
    "\n",
    "\n",
    "\\."
   ]
  },
  {
   "cell_type": "code",
   "execution_count": null,
   "metadata": {},
   "outputs": [],
   "source": [
    "product :\n",
    "    \n",
    "            id\n",
    "            name\n",
    "            specification\n",
    "            rating\n",
    "            price\n",
    "            reviews\n",
    "            quantity"
   ]
  },
  {
   "cell_type": "code",
   "execution_count": null,
   "metadata": {},
   "outputs": [],
   "source": [
    "class Product:\n",
    "    pass\n",
    "\n",
    "prod1 = Product()"
   ]
  },
  {
   "cell_type": "code",
   "execution_count": null,
   "metadata": {},
   "outputs": [],
   "source": [
    "instance varialble"
   ]
  },
  {
   "cell_type": "code",
   "execution_count": null,
   "metadata": {},
   "outputs": [],
   "source": [
    "Class :\n",
    "        attribites\n",
    "        \n",
    "        Methods"
   ]
  },
  {
   "cell_type": "code",
   "execution_count": null,
   "metadata": {},
   "outputs": [],
   "source": [
    "instance method"
   ]
  },
  {
   "cell_type": "code",
   "execution_count": null,
   "metadata": {},
   "outputs": [],
   "source": [
    "class method"
   ]
  },
  {
   "cell_type": "code",
   "execution_count": null,
   "metadata": {},
   "outputs": [],
   "source": [
    "class variable"
   ]
  },
  {
   "cell_type": "code",
   "execution_count": 12,
   "metadata": {},
   "outputs": [
    {
     "ename": "TypeError",
     "evalue": "add_product() missing 1 required positional argument: 'obj'",
     "output_type": "error",
     "traceback": [
      "\u001b[1;31m---------------------------------------------------------------------------\u001b[0m",
      "\u001b[1;31mTypeError\u001b[0m                                 Traceback (most recent call last)",
      "\u001b[1;32m<ipython-input-12-9afe409bd80c>\u001b[0m in \u001b[0;36m<module>\u001b[1;34m\u001b[0m\n\u001b[0;32m     26\u001b[0m \u001b[1;33m\u001b[0m\u001b[0m\n\u001b[0;32m     27\u001b[0m \u001b[1;33m\u001b[0m\u001b[0m\n\u001b[1;32m---> 28\u001b[1;33m \u001b[0mprod1\u001b[0m \u001b[1;33m=\u001b[0m \u001b[0mProduct\u001b[0m\u001b[1;33m(\u001b[0m\u001b[1;36m101\u001b[0m\u001b[1;33m,\u001b[0m\u001b[1;34m\"ABC\"\u001b[0m\u001b[1;33m,\u001b[0m\u001b[1;34m\"4.5\"\u001b[0m\u001b[1;33m,\u001b[0m\u001b[1;36m5000\u001b[0m\u001b[1;33m)\u001b[0m\u001b[1;33m\u001b[0m\u001b[1;33m\u001b[0m\u001b[0m\n\u001b[0m\u001b[0;32m     29\u001b[0m \u001b[0mprint\u001b[0m\u001b[1;33m(\u001b[0m\u001b[0mprod1\u001b[0m\u001b[1;33m.\u001b[0m\u001b[0m_Product__name\u001b[0m\u001b[1;33m)\u001b[0m\u001b[1;33m\u001b[0m\u001b[1;33m\u001b[0m\u001b[0m\n\u001b[0;32m     30\u001b[0m \u001b[1;33m\u001b[0m\u001b[0m\n",
      "\u001b[1;32m<ipython-input-12-9afe409bd80c>\u001b[0m in \u001b[0;36m__init__\u001b[1;34m(self, id, name, rating, price)\u001b[0m\n\u001b[0;32m     17\u001b[0m         \u001b[0mself\u001b[0m\u001b[1;33m.\u001b[0m\u001b[0mprice\u001b[0m  \u001b[1;33m=\u001b[0m \u001b[0mprice\u001b[0m\u001b[1;33m\u001b[0m\u001b[1;33m\u001b[0m\u001b[0m\n\u001b[0;32m     18\u001b[0m         \u001b[0mProduct\u001b[0m\u001b[1;33m.\u001b[0m\u001b[0mincr_count\u001b[0m\u001b[1;33m(\u001b[0m\u001b[1;33m)\u001b[0m\u001b[1;33m\u001b[0m\u001b[1;33m\u001b[0m\u001b[0m\n\u001b[1;32m---> 19\u001b[1;33m         \u001b[0mProduct\u001b[0m\u001b[1;33m.\u001b[0m\u001b[0madd_product\u001b[0m\u001b[1;33m(\u001b[0m\u001b[0mself\u001b[0m\u001b[1;33m)\u001b[0m\u001b[1;33m\u001b[0m\u001b[1;33m\u001b[0m\u001b[0m\n\u001b[0m\u001b[0;32m     20\u001b[0m \u001b[1;33m\u001b[0m\u001b[0m\n\u001b[0;32m     21\u001b[0m     \u001b[1;32mdef\u001b[0m \u001b[0mset_name\u001b[0m\u001b[1;33m(\u001b[0m\u001b[0mself\u001b[0m\u001b[1;33m,\u001b[0m\u001b[0mnew_name\u001b[0m\u001b[1;33m)\u001b[0m\u001b[1;33m:\u001b[0m\u001b[1;33m\u001b[0m\u001b[1;33m\u001b[0m\u001b[0m\n",
      "\u001b[1;31mTypeError\u001b[0m: add_product() missing 1 required positional argument: 'obj'"
     ]
    }
   ],
   "source": [
    "class Product:\n",
    "    \n",
    "    count = 0\n",
    "    products = []\n",
    "    \n",
    "    @classmethod\n",
    "    def incr_count(cls):\n",
    "            cls.count += 1\n",
    "            \n",
    "    def add_product(cls,obj):\n",
    "        cls.products.append(obj)\n",
    "    \n",
    "    def __init__(self,id,name,rating,price):\n",
    "        self.prod_id = id\n",
    "        self.__name = name\n",
    "        self.rating = rating\n",
    "        self.price  = price\n",
    "        Product.incr_count()\n",
    "        Product.add_product(self)\n",
    "\n",
    "    def set_name(self,new_name):\n",
    "        self.name = new_name \n",
    "        \n",
    "    def get_name(self):\n",
    "        return self.__name\n",
    "        \n",
    "\n",
    "prod1 = Product(101,\"ABC\",\"4.5\",5000)\n",
    "print(prod1._Product__name)\n",
    "\n",
    "# prod2 = Product(101,\"PQR\",\"4.5\",5000)\n",
    "# print(prod2.name)\n",
    "\n",
    "# prod1.set_name(\"XYZ\")\n",
    "# print(prod1.name)\n",
    "\n",
    "print(Product.products)"
   ]
  },
  {
   "cell_type": "code",
   "execution_count": null,
   "metadata": {},
   "outputs": [],
   "source": [
    "MRO => depth first left to right"
   ]
  },
  {
   "cell_type": "code",
   "execution_count": null,
   "metadata": {},
   "outputs": [],
   "source": [
    "class A(B,C)\n",
    "\n",
    "class D(A)\n",
    "\n",
    "class E(A)\n",
    "a.get()\n",
    "\n",
    "e: E => A => B => C\n",
    "    \n",
    "        super.get()\n",
    "        B.get(self)\n",
    "        "
   ]
  },
  {
   "cell_type": "code",
   "execution_count": null,
   "metadata": {},
   "outputs": [],
   "source": [
    "method overriding :\n",
    "            "
   ]
  },
  {
   "cell_type": "code",
   "execution_count": null,
   "metadata": {},
   "outputs": [],
   "source": [
    "__add__\n",
    "\n",
    "__init__"
   ]
  },
  {
   "cell_type": "code",
   "execution_count": null,
   "metadata": {},
   "outputs": [],
   "source": [
    "Method overiding : add(num1,num2)\n",
    "    \n",
    "        add(int num1,int num2)\n",
    "\n",
    "1. Number of para\n",
    "2. Type of para"
   ]
  },
  {
   "cell_type": "code",
   "execution_count": null,
   "metadata": {},
   "outputs": [],
   "source": []
  },
  {
   "cell_type": "code",
   "execution_count": null,
   "metadata": {},
   "outputs": [],
   "source": [
    "soup = BeautufulSoup(response.content,\"html.parser\")\n",
    "\n",
    "print(soup.get(\"href\"))\n",
    "print(soup.text)"
   ]
  }
 ],
 "metadata": {
  "kernelspec": {
   "display_name": "Python 3",
   "language": "python",
   "name": "python3"
  },
  "language_info": {
   "codemirror_mode": {
    "name": "ipython",
    "version": 3
   },
   "file_extension": ".py",
   "mimetype": "text/x-python",
   "name": "python",
   "nbconvert_exporter": "python",
   "pygments_lexer": "ipython3",
   "version": "3.8.2"
  }
 },
 "nbformat": 4,
 "nbformat_minor": 4
}
