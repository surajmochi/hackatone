{
 "cells": [
  {
   "cell_type": "code",
   "execution_count": null,
   "metadata": {},
   "outputs": [],
   "source": [
    "l = [10,20,30,40,50,60]\n",
    "m = map(lambda num1:num1 * num1,l)\n",
    "#print(next(m))\n",
    "#print(next(m))\n",
    "print(list(m))"
   ]
  },
  {
   "cell_type": "code",
   "execution_count": null,
   "metadata": {},
   "outputs": [],
   "source": [
    "Iterator : Which suppurts this two below operators..\n",
    "    \n",
    "__iter__\n",
    "__next__\n",
    "\n"
   ]
  },
  {
   "cell_type": "code",
   "execution_count": null,
   "metadata": {},
   "outputs": [],
   "source": [
    "print(dir(list))"
   ]
  },
  {
   "cell_type": "code",
   "execution_count": null,
   "metadata": {},
   "outputs": [],
   "source": [
    "l = [10,20,30,40,50,]\n",
    "i = iter(l)\n",
    "print(i)\n",
    "# print(next(i))\n",
    "# print(next(i))\n",
    "# print(next(i))\n",
    "# print(next(i))\n",
    "# print(next(i))\n",
    "\n",
    "#for value in i:\n",
    "#     print(value)\n",
    "\n",
    "#for value in i:\n",
    "    #print(value)\n",
    "    \n",
    "#for index in range(5):\n",
    "   # print(next(i))\n",
    "\n",
    "for value in i:\n",
    "    print(value)"
   ]
  },
  {
   "cell_type": "code",
   "execution_count": 11,
   "metadata": {},
   "outputs": [],
   "source": [
    "import itertools"
   ]
  },
  {
   "cell_type": "code",
   "execution_count": null,
   "metadata": {},
   "outputs": [],
   "source": [
    "l1 = [10,20,30,40,50]\n",
    "s1 = \"python,java,c\"\n",
    "t1 = (10,20,30,40,50,60)\n",
    "r1 = range(5)\n",
    "\n",
    "i = itertools.chain(l1,s1,t1,r1) # combined iterator over multiple datatype\n",
    "print(next(i))\n",
    "print(next(i))\n",
    "\n",
    "for value in i:\n",
    "    print(value)"
   ]
  },
  {
   "cell_type": "code",
   "execution_count": null,
   "metadata": {},
   "outputs": [],
   "source": [
    "l1 = [10,20,30,40,50]\n",
    "s1 = \"python,java,c\"\n",
    "t1 = (10,20,30,40,50,60)\n",
    "r1 = range(5)\n",
    "\n",
    "i = itertools.chain(l1,s1,t1,r1)\n",
    "\n",
    "#islice is used for slicing the iterators and for specific portion\n",
    "\n",
    "for value in itertools.islice(i,2,9): \n",
    "    print(value)"
   ]
  },
  {
   "cell_type": "code",
   "execution_count": null,
   "metadata": {},
   "outputs": [],
   "source": [
    "l1 = [10,20,30,40,50]\n",
    "s1 = \"python,java,c\"\n",
    "t1 = (10,20,30,40,50,60)\n",
    "r1 = range(5)\n",
    "\n",
    "i = itertools.chain(l1,s1,t1,r1)\n",
    "\n",
    "# create multiple copies of the iterator\n",
    "t = itertools.tee(i,5)\n",
    "print(i)\n",
    "\n",
    "\n",
    "for value in t[0]:\n",
    "    print(value)\n",
    "\n",
    "for value in t[1]:\n",
    "    print(value)"
   ]
  },
  {
   "cell_type": "code",
   "execution_count": null,
   "metadata": {},
   "outputs": [],
   "source": [
    "# iterate over a pair or combinaion of element\n",
    "\n",
    "l = [10,20,30,40,50]\n",
    "i = itertools.combinations(l,2)\n",
    "i = itertools.permutations(l,2) #swap words too given\n",
    "for value in i:\n",
    "    print(value)"
   ]
  },
  {
   "cell_type": "code",
   "execution_count": null,
   "metadata": {},
   "outputs": [],
   "source": []
  },
  {
   "cell_type": "code",
   "execution_count": 14,
   "metadata": {},
   "outputs": [
    {
     "name": "stdout",
     "output_type": "stream",
     "text": [
      "10\n",
      "20\n",
      "30\n",
      "40\n",
      "50\n",
      "10\n",
      "20\n",
      "30\n",
      "210\n"
     ]
    }
   ],
   "source": [
    "l = [10,20,30,40,50]\n",
    "i = itertools.cycle(l)\n",
    "sum = 0 \n",
    "for value in i:\n",
    "    print(value)\n",
    "    sum = sum + value\n",
    "    if sum > 200:\n",
    "        print(sum)\n",
    "        break\n",
    "    "
   ]
  },
  {
   "cell_type": "code",
   "execution_count": 20,
   "metadata": {},
   "outputs": [
    {
     "name": "stdout",
     "output_type": "stream",
     "text": [
      "5\n",
      "7\n",
      "9\n",
      "11\n",
      "13\n",
      "15\n",
      "17\n",
      "19\n",
      "21\n",
      "23\n",
      "25\n",
      "27\n",
      "29\n",
      "31\n",
      "33\n",
      "35\n",
      "37\n",
      "39\n",
      "41\n",
      "43\n",
      "45\n"
     ]
    }
   ],
   "source": [
    "import itertools\n",
    "count = 0\n",
    "for value in itertools.count(5,2): # here 5 is starting point and 2 is increment value\n",
    "    print(value)\n",
    "    count += 1\n",
    "    if count > 20:\n",
    "        break"
   ]
  },
  {
   "cell_type": "code",
   "execution_count": null,
   "metadata": {},
   "outputs": [],
   "source": [
    "list()\n",
    "for \n",
    "next()"
   ]
  },
  {
   "cell_type": "code",
   "execution_count": null,
   "metadata": {},
   "outputs": [],
   "source": [
    "chain\n",
    "islice\n",
    "repeat\n",
    "cycle\n",
    "permutation\n",
    "combination\n",
    "count"
   ]
  },
  {
   "cell_type": "code",
   "execution_count": null,
   "metadata": {},
   "outputs": [],
   "source": []
  },
  {
   "cell_type": "markdown",
   "metadata": {},
   "source": [
    "# Generators  : - function acting as iterator\n",
    "\n",
    "give only required value as in function"
   ]
  },
  {
   "cell_type": "code",
   "execution_count": 30,
   "metadata": {},
   "outputs": [
    {
     "name": "stdout",
     "output_type": "stream",
     "text": [
      "90\n"
     ]
    },
    {
     "ename": "NameError",
     "evalue": "name 'num1' is not defined",
     "output_type": "error",
     "traceback": [
      "\u001b[1;31m---------------------------------------------------------------------------\u001b[0m",
      "\u001b[1;31mNameError\u001b[0m                                 Traceback (most recent call last)",
      "\u001b[1;32m<ipython-input-30-d144e466e944>\u001b[0m in \u001b[0;36m<module>\u001b[1;34m\u001b[0m\n\u001b[0;32m      6\u001b[0m \u001b[1;33m\u001b[0m\u001b[0m\n\u001b[0;32m      7\u001b[0m \u001b[0mprint\u001b[0m\u001b[1;33m(\u001b[0m\u001b[0madd\u001b[0m\u001b[1;33m(\u001b[0m\u001b[1;36m10\u001b[0m\u001b[1;33m,\u001b[0m\u001b[1;36m20\u001b[0m\u001b[1;33m)\u001b[0m\u001b[1;33m)\u001b[0m\u001b[1;33m\u001b[0m\u001b[1;33m\u001b[0m\u001b[0m\n\u001b[1;32m----> 8\u001b[1;33m \u001b[0mprint\u001b[0m\u001b[1;33m(\u001b[0m\u001b[0mnum1\u001b[0m\u001b[1;33m)\u001b[0m\u001b[1;33m\u001b[0m\u001b[1;33m\u001b[0m\u001b[0m\n\u001b[0m\u001b[0;32m      9\u001b[0m \u001b[0mprint\u001b[0m\u001b[1;33m(\u001b[0m\u001b[0mnum2\u001b[0m\u001b[1;33m)\u001b[0m\u001b[1;33m\u001b[0m\u001b[1;33m\u001b[0m\u001b[0m\n",
      "\u001b[1;31mNameError\u001b[0m: name 'num1' is not defined"
     ]
    }
   ],
   "source": [
    "def add(num1,num2):\n",
    "    num3 = 100\n",
    "    num1+= num1 * 2\n",
    "    num2+= num2 * 2\n",
    "    return num1 + num2\n",
    "\n",
    "print(add(10,20))\n",
    "print(num1)\n",
    "print(num2)"
   ]
  },
  {
   "cell_type": "code",
   "execution_count": null,
   "metadata": {},
   "outputs": [],
   "source": [
    "first_num = 0\n",
    "sec_num = 1\n",
    "next_val = first_num + sec_num\n",
    "\n",
    "0,1  => 0+1 = 1\n",
    "\n",
    "first_num  = 1\n",
    "sec_num = 1\n",
    "next_val = 2`b`"
   ]
  },
  {
   "cell_type": "code",
   "execution_count": 8,
   "metadata": {},
   "outputs": [
    {
     "name": "stdout",
     "output_type": "stream",
     "text": [
      "<generator object fibo at 0x06BCC3E0>\n",
      "[0, 1, 1, 2, 3]\n",
      "[5, 8, 13, 21, 34]\n"
     ]
    }
   ],
   "source": [
    "def fibo():\n",
    "    l = []\n",
    "    num1 = 0\n",
    "    num2 = 1\n",
    "    \n",
    "    \n",
    "    l.append(num1)\n",
    "    l.append(num2)\n",
    "    \n",
    "    count = 2\n",
    "    \n",
    "    while True:\n",
    "        next_num = num1 + num2\n",
    "        l.append(next_num)\n",
    "        count += 1\n",
    "        \n",
    "        if count == 5:\n",
    "            yield l\n",
    "            l = []\n",
    "            count= 0 \n",
    "        num1,num2 = num2,next_num\n",
    "    \n",
    "g = fibo()\n",
    "print(g)\n",
    "print(next(g))\n",
    "print(next(g))\n",
    "\n",
    "\n",
    "\n",
    "\n",
    "    "
   ]
  },
  {
   "cell_type": "code",
   "execution_count": 10,
   "metadata": {},
   "outputs": [
    {
     "name": "stdout",
     "output_type": "stream",
     "text": [
      "sample.txt\n",
      "\n",
      " PEP 578: Python Runtime Audit HooksThe\n",
      "PEP adds an Audit Hook and Verified Open Hook. \n",
      "Both are available from Python and native code,\n",
      "allowing applications and frameworks written in pure Python code to take advantage of extra notifications,\n",
      "while also allowing embedders or system administrators to deploy builds of Python where auditing is always enabled.\n",
      " \n",
      "\n",
      "sample12.txt\n"
     ]
    }
   ],
   "source": [
    "def get_fille_name():\n",
    "    files = [\"sample.txt\",\"sample1.txt\",\"sample12.txt\"]\n",
    "    for file in files:\n",
    "        yield file\n",
    "        \n",
    "def read_file_name(filename):\n",
    "    fp = open(filename,'r')\n",
    "    print(fp.read())\n",
    "\n",
    "g = get_fille_name()\n",
    "print(next(g))\n",
    "read_file_name(next(g))\n",
    "print(next(g))\n"
   ]
  },
  {
   "cell_type": "code",
   "execution_count": 21,
   "metadata": {},
   "outputs": [
    {
     "name": "stdout",
     "output_type": "stream",
     "text": [
      "100\n"
     ]
    }
   ],
   "source": [
    "#concept of generator operator\n",
    "\n",
    "l = [10,20,30,40,50,60]\n",
    "l2 = (value * value for value in l) #() will return generator object\n",
    "# print(l2)\n",
    "print(next(l2)) # picking up one value at a time is called lazy evaluation\n",
    "# print(next(l2))\n",
    "# for value in l2:\n",
    "#     print(value)\n"
   ]
  },
  {
   "cell_type": "code",
   "execution_count": null,
   "metadata": {},
   "outputs": [],
   "source": []
  },
  {
   "cell_type": "code",
   "execution_count": null,
   "metadata": {},
   "outputs": [],
   "source": [
    "Decorator : a func which takes a function as an argument and return a new function\n"
   ]
  },
  {
   "cell_type": "code",
   "execution_count": null,
   "metadata": {},
   "outputs": [],
   "source": [
    "@classmethod"
   ]
  },
  {
   "cell_type": "code",
   "execution_count": 1,
   "metadata": {},
   "outputs": [
    {
     "ename": "TypeError",
     "evalue": "'NoneType' object is not callable",
     "output_type": "error",
     "traceback": [
      "\u001b[1;31m---------------------------------------------------------------------------\u001b[0m",
      "\u001b[1;31mTypeError\u001b[0m                                 Traceback (most recent call last)",
      "\u001b[1;32m<ipython-input-1-1d990106cde0>\u001b[0m in \u001b[0;36m<module>\u001b[1;34m\u001b[0m\n\u001b[0;32m     12\u001b[0m     \u001b[1;32mreturn\u001b[0m \u001b[0mval1\u001b[0m \u001b[1;33m+\u001b[0m \u001b[0mval2\u001b[0m\u001b[1;33m\u001b[0m\u001b[1;33m\u001b[0m\u001b[0m\n\u001b[0;32m     13\u001b[0m \u001b[1;33m\u001b[0m\u001b[0m\n\u001b[1;32m---> 14\u001b[1;33m \u001b[0mprint\u001b[0m\u001b[1;33m(\u001b[0m\u001b[0madd\u001b[0m\u001b[1;33m(\u001b[0m\u001b[1;36m10\u001b[0m\u001b[1;33m,\u001b[0m\u001b[1;36m20\u001b[0m\u001b[1;33m)\u001b[0m\u001b[1;33m)\u001b[0m\u001b[1;33m\u001b[0m\u001b[1;33m\u001b[0m\u001b[0m\n\u001b[0m\u001b[0;32m     15\u001b[0m \u001b[0mprint\u001b[0m\u001b[1;33m(\u001b[0m\u001b[0madd\u001b[0m\u001b[1;33m(\u001b[0m\u001b[1;34m\"python\"\u001b[0m\u001b[1;33m,\u001b[0m\u001b[1;34m\"Java\"\u001b[0m\u001b[1;33m)\u001b[0m\u001b[1;33m)\u001b[0m\u001b[1;33m\u001b[0m\u001b[1;33m\u001b[0m\u001b[0m\n\u001b[0;32m     16\u001b[0m \u001b[0mprint\u001b[0m\u001b[1;33m(\u001b[0m\u001b[0madd\u001b[0m\u001b[1;33m(\u001b[0m\u001b[1;36m10\u001b[0m\u001b[1;33m,\u001b[0m\u001b[1;34m\"python\"\u001b[0m\u001b[1;33m)\u001b[0m\u001b[1;33m)\u001b[0m\u001b[1;33m\u001b[0m\u001b[1;33m\u001b[0m\u001b[0m\n",
      "\u001b[1;31mTypeError\u001b[0m: 'NoneType' object is not callable"
     ]
    }
   ],
   "source": [
    "def add_deco(func):\n",
    "    def new_func(val1,val2):\n",
    "        if type(val1) == type(val2):\n",
    "            return func(val1,val2)\n",
    "        else:\n",
    "            return func(str(val1),str(val2))\n",
    "        \n",
    "        return new_func\n",
    "\n",
    "@add_deco\n",
    "def add(val1,val2):\n",
    "    return val1 + val2\n",
    "\n",
    "print(add(10,20))\n",
    "print(add(\"python\",\"Java\"))\n",
    "print(add(10,\"python\"))"
   ]
  },
  {
   "cell_type": "code",
   "execution_count": null,
   "metadata": {},
   "outputs": [],
   "source": []
  },
  {
   "cell_type": "code",
   "execution_count": 8,
   "metadata": {},
   "outputs": [
    {
     "name": "stdout",
     "output_type": "stream",
     "text": [
      "Name updated\n",
      "email updated\n"
     ]
    }
   ],
   "source": [
    "def login(username,password):\n",
    "    if username == \"abc@123\"  and password == \"password\":\n",
    "        return True\n",
    "    else:\n",
    "        return False\n",
    "\n",
    "\n",
    "\n",
    "def edit_name(username,password,new_name):\n",
    "    r = login(username,password)\n",
    "    if r:\n",
    "        return \"Name updated\"\n",
    "    else:\n",
    "        return \"Unauthorized user\"\n",
    "    \n",
    "def edit_email(username,password,new_name):\n",
    "    r = login(username,password)\n",
    "    if r:\n",
    "        return \"email updated\"\n",
    "    else:\n",
    "        return \"Unauthorized user\"\n",
    "    \n",
    "    \n",
    "\n",
    "print(edit_name(\"abc@123\",\"password\",\"ABZ\"))\n",
    "print(edit_email(\"abc@123\",\"password\",\"ABZ\"))"
   ]
  },
  {
   "cell_type": "code",
   "execution_count": 13,
   "metadata": {},
   "outputs": [
    {
     "name": "stdout",
     "output_type": "stream",
     "text": [
      "Unauthorized\n",
      "getting in edit email\n",
      "email updated\n"
     ]
    }
   ],
   "source": [
    "def login(func):\n",
    "    def new_func(username,password,val):\n",
    "        if username == \"abc@123\"  and password == \"password\":\n",
    "            return func(username,password,val)\n",
    "        else:\n",
    "            return \"Unauthorized\"\n",
    "    \n",
    "    return new_func\n",
    "\n",
    "\n",
    "@login\n",
    "def edit_name(username,password,new_name):\n",
    "    print(\"getting in edit name\")\n",
    "    return \"Name updated\"\n",
    "    \n",
    "@login\n",
    "def edit_email(username,password,new_name):\n",
    "    print(\"getting in edit email\")\n",
    "    return \"email updated\"\n",
    "\n",
    "    \n",
    "\n",
    "print(edit_name(\"abc@1234\",\"password\",\"ABZ\"))\n",
    "print(edit_email(\"abc@123\",\"password\",\"ABZ\"))"
   ]
  },
  {
   "cell_type": "code",
   "execution_count": null,
   "metadata": {},
   "outputs": [],
   "source": []
  },
  {
   "cell_type": "code",
   "execution_count": null,
   "metadata": {},
   "outputs": [],
   "source": []
  }
 ],
 "metadata": {
  "kernelspec": {
   "display_name": "Python 3",
   "language": "python",
   "name": "python3"
  },
  "language_info": {
   "codemirror_mode": {
    "name": "ipython",
    "version": 3
   },
   "file_extension": ".py",
   "mimetype": "text/x-python",
   "name": "python",
   "nbconvert_exporter": "python",
   "pygments_lexer": "ipython3",
   "version": "3.8.2"
  }
 },
 "nbformat": 4,
 "nbformat_minor": 4
}
