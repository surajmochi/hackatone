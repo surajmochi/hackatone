{
 "cells": [
  {
   "cell_type": "code",
   "execution_count": 1,
   "metadata": {},
   "outputs": [
    {
     "name": "stdout",
     "output_type": "stream",
     "text": [
      "20.5\n"
     ]
    },
    {
     "data": {
      "text/plain": [
       "int"
      ]
     },
     "execution_count": 1,
     "metadata": {},
     "output_type": "execute_result"
    }
   ],
   "source": [
    "a = 10\n",
    "b = 10.50\n",
    "c = a + b\n",
    "print(c)\n",
    "type(a)"
   ]
  },
  {
   "cell_type": "code",
   "execution_count": 2,
   "metadata": {},
   "outputs": [
    {
     "data": {
      "text/plain": [
       "float"
      ]
     },
     "execution_count": 2,
     "metadata": {},
     "output_type": "execute_result"
    }
   ],
   "source": [
    "type(b)"
   ]
  },
  {
   "cell_type": "code",
   "execution_count": 4,
   "metadata": {},
   "outputs": [
    {
     "name": "stdout",
     "output_type": "stream",
     "text": [
      "sagar is lodu\n"
     ]
    }
   ],
   "source": [
    "def suraj():\n",
    "    print(\"sagar is lodu\")\n",
    "\n",
    "suraj()"
   ]
  },
  {
   "cell_type": "code",
   "execution_count": 15,
   "metadata": {},
   "outputs": [
    {
     "name": "stdout",
     "output_type": "stream",
     "text": [
      "hello suraj\n"
     ]
    }
   ],
   "source": [
    "def abc(name):\n",
    "    print(\"hello\" + \" \" + name)\n",
    "abc(\"suraj\")"
   ]
  },
  {
   "cell_type": "code",
   "execution_count": 17,
   "metadata": {},
   "outputs": [
    {
     "name": "stdout",
     "output_type": "stream",
     "text": [
      "hellosurajchouhan\n"
     ]
    }
   ],
   "source": [
    "def abc(name, sname):\n",
    "    print(\"hbello\" + name + sname)\n",
    "\n",
    "abc(\"suraj\" , \"chouhan\")"
   ]
  },
  {
   "cell_type": "code",
   "execution_count": 19,
   "metadata": {},
   "outputs": [
    {
     "name": "stdout",
     "output_type": "stream",
     "text": [
      "hellosuraj\n"
     ]
    }
   ],
   "source": [
    "def q(name3 , name1 , name2):\n",
    "    print(\"hello\" + name2)\n",
    "    \n",
    "q(name1 = \"shivam\" , name2 = \"suraj\" , name3 = \"chouhan\")"
   ]
  },
  {
   "cell_type": "code",
   "execution_count": 20,
   "metadata": {},
   "outputs": [
    {
     "name": "stdout",
     "output_type": "stream",
     "text": [
      "name is : suraj\n"
     ]
    }
   ],
   "source": [
    "def qq(**name):\n",
    "    print(\"name is : \" + name [\"name1\"])\n",
    "    \n",
    "qq(name1 = \"suraj\" , name2 = \"Software\")"
   ]
  },
  {
   "cell_type": "code",
   "execution_count": 24,
   "metadata": {},
   "outputs": [
    {
     "name": "stdout",
     "output_type": "stream",
     "text": [
      "name is :manisha\n"
     ]
    }
   ],
   "source": [
    "def qq(**name):\n",
    "    print(\"name is :\" + name[\"name1\"])\n",
    "qq(name1 = \"manisha\" , name2 = \"software\")"
   ]
  },
  {
   "cell_type": "code",
   "execution_count": 25,
   "metadata": {},
   "outputs": [],
   "source": [
    "def city(cityname = \"jaipur\"):\n",
    "    print(\"name:\" + cityname)\n",
    "    "
   ]
  },
  {
   "cell_type": "code",
   "execution_count": 26,
   "metadata": {},
   "outputs": [
    {
     "name": "stdout",
     "output_type": "stream",
     "text": [
      "name:Delhi\n",
      "name:Mumbai\n",
      "name:jaipur\n"
     ]
    }
   ],
   "source": [
    "city(\"Delhi\")\n",
    "city(\"Mumbai\")\n",
    "city()"
   ]
  },
  {
   "cell_type": "code",
   "execution_count": null,
   "metadata": {},
   "outputs": [],
   "source": []
  },
  {
   "cell_type": "code",
   "execution_count": 10,
   "metadata": {},
   "outputs": [
    {
     "name": "stdout",
     "output_type": "stream",
     "text": [
      "this is vowel\n"
     ]
    }
   ],
   "source": [
    "char = \"e\"\n",
    "if char in 'aeiou':\n",
    "    print(\"this is vowel\")\n",
    "else:\n",
    "    print(\"this is consonent\")"
   ]
  },
  {
   "cell_type": "code",
   "execution_count": 33,
   "metadata": {},
   "outputs": [
    {
     "name": "stdout",
     "output_type": "stream",
     "text": [
      "odd\n"
     ]
    }
   ],
   "source": [
    "num1 = 43\n",
    "if num1 % 2 == 0:\n",
    "    print(\"even\")\n",
    "else:\n",
    "    print(\"odd\")"
   ]
  },
  {
   "cell_type": "code",
   "execution_count": 2,
   "metadata": {},
   "outputs": [
    {
     "name": "stdout",
     "output_type": "stream",
     "text": [
      "150\n"
     ]
    }
   ],
   "source": [
    "l = [10,20,30,40,50]\n",
    "sum = 0 \n",
    "\n",
    "for value in l:\n",
    "    sum = sum + value\n",
    "print(sum)"
   ]
  },
  {
   "cell_type": "code",
   "execution_count": 10,
   "metadata": {},
   "outputs": [
    {
     "name": "stdout",
     "output_type": "stream",
     "text": [
      "4 14\n"
     ]
    }
   ],
   "source": [
    "s = \"python simple string\"\n",
    "vowel_count = 0\n",
    "consonent_count = 0\n",
    "\n",
    "for value in s:\n",
    "    if value in \"AEIOUaeiou\":\n",
    "        vowel_count+=1\n",
    "    elif value == \" \":\n",
    "        continue\n",
    "        print(\"print this side\")\n",
    "    else:\n",
    "        consonent_count+= 1\n",
    "        \n",
    "print(vowel_count,consonent_count)"
   ]
  },
  {
   "cell_type": "code",
   "execution_count": 15,
   "metadata": {},
   "outputs": [
    {
     "name": "stdout",
     "output_type": "stream",
     "text": [
      "10\n",
      "20\n",
      "30\n",
      "40\n",
      "number is negative -1\n"
     ]
    }
   ],
   "source": [
    "l = [10,20,30,40,-1,50,60,70]\n",
    "for value in l:\n",
    "    if value < 0:\n",
    "        print(\"number is negative\",value)\n",
    "        break\n",
    "    \n",
    "    else:\n",
    "        print(value)\n",
    "        "
   ]
  },
  {
   "cell_type": "code",
   "execution_count": 11,
   "metadata": {},
   "outputs": [
    {
     "name": "stdout",
     "output_type": "stream",
     "text": [
      "1\n",
      "2\n",
      "3\n"
     ]
    }
   ],
   "source": [
    "num1 = 6\n",
    "for value in range(1,num1):\n",
    "    if num1 % value == 0:\n",
    "        print(value)"
   ]
  },
  {
   "cell_type": "code",
   "execution_count": 43,
   "metadata": {},
   "outputs": [
    {
     "name": "stdout",
     "output_type": "stream",
     "text": [
      "\n",
      "\n",
      "1 2 3 4 5 6 7 8 9 10 \n",
      "\n",
      "2 4 6 8 10 12 14 16 18 20 \n",
      "\n",
      "3 6 9 12 15 18 21 24 27 30 \n",
      "\n",
      "4 8 12 16 20 24 28 32 36 40 \n",
      "\n",
      "5 10 15 20 25 30 35 40 45 50 "
     ]
    }
   ],
   "source": [
    "for value1 in range(1,6):\n",
    "    print(\"\\n\")\n",
    "    for value2 in range(1,11):\n",
    "        print(value1 * value2,end = \" \")"
   ]
  },
  {
   "cell_type": "code",
   "execution_count": 44,
   "metadata": {},
   "outputs": [
    {
     "name": "stdout",
     "output_type": "stream",
     "text": [
      "120\n"
     ]
    }
   ],
   "source": [
    "num1 = 5\n",
    "result = 1\n",
    "while num1 > 1:\n",
    "    result = result * num1\n",
    "    num1 = num1 - 1\n",
    "print(result)\n",
    "    "
   ]
  },
  {
   "cell_type": "code",
   "execution_count": 3,
   "metadata": {},
   "outputs": [
    {
     "name": "stdout",
     "output_type": "stream",
     "text": [
      "'python' is easy to learn\n"
     ]
    }
   ],
   "source": [
    "s1 = \"'python' is easy to learn\"\n",
    "print(s1)"
   ]
  },
  {
   "cell_type": "code",
   "execution_count": 6,
   "metadata": {},
   "outputs": [
    {
     "name": "stdout",
     "output_type": "stream",
     "text": [
      "p\n",
      "n\n"
     ]
    }
   ],
   "source": [
    "s1 = \"python is easy to learn\"\n",
    "print(s1[0])\n",
    "print(s1[-1])"
   ]
  },
  {
   "cell_type": "markdown",
   "metadata": {},
   "source": []
  },
  {
   "cell_type": "code",
   "execution_count": 13,
   "metadata": {},
   "outputs": [
    {
     "name": "stdout",
     "output_type": "stream",
     "text": [
      "the value for num1 is 100 and value for num2 is 200\n"
     ]
    }
   ],
   "source": [
    "num1 = 100\n",
    "num2 = 200\n",
    "s1 = \"the value for num1 is {} and value for num2 is {}\".format(num1,num2)\n",
    "print(s1)"
   ]
  },
  {
   "cell_type": "code",
   "execution_count": 17,
   "metadata": {},
   "outputs": [
    {
     "name": "stdout",
     "output_type": "stream",
     "text": [
      "received an entry from user 'mommy' with email 'mommy123@gmail.com'\n"
     ]
    }
   ],
   "source": [
    "name = \"mommy\"\n",
    "email = \"mommy123@gmail.com\"\n",
    "subject = \"received an entry from user '{}' with email '{}'\".format(name,email)\n",
    "print(subject)"
   ]
  },
  {
   "cell_type": "code",
   "execution_count": 23,
   "metadata": {},
   "outputs": [
    {
     "name": "stdout",
     "output_type": "stream",
     "text": [
      "received and entry from user manisha with email monisha@gmail.com\n"
     ]
    }
   ],
   "source": [
    "n = \"manisha\"\n",
    "e = \"monisha@gmail.com\"\n",
    "subject = \"received and entry from user {name} with email {email}\".format(name=n,email=e)\n",
    "print(subject)"
   ]
  },
  {
   "cell_type": "code",
   "execution_count": 39,
   "metadata": {},
   "outputs": [
    {
     "name": "stdout",
     "output_type": "stream",
     "text": [
      "['python', 'java', 'C++', 'ruby']\n",
      "python=java=C++=ruby\n"
     ]
    }
   ],
   "source": [
    "s = \"python,java,C++,ruby\"\n",
    "l = s.split(\",\")\n",
    "print(l)\n",
    "\n",
    "s1 = (\"=\").join(l)\n",
    "print(s1)"
   ]
  },
  {
   "cell_type": "code",
   "execution_count": 13,
   "metadata": {},
   "outputs": [
    {
     "name": "stdout",
     "output_type": "stream",
     "text": [
      "r,c++,c,java,python\n"
     ]
    }
   ],
   "source": [
    "s = \"python,java,c,c++,r\"\n",
    "l = s.split(\",\")\n",
    "s2 = (\",\").join(l[::-1])\n",
    "print(s2)"
   ]
  },
  {
   "cell_type": "code",
   "execution_count": 20,
   "metadata": {},
   "outputs": [
    {
     "name": "stdout",
     "output_type": "stream",
     "text": [
      "12\n",
      "12\n"
     ]
    }
   ],
   "source": [
    "s = \"python,java,c,c++,r\"\n",
    "print(s.find(\"c\"))\n",
    "print(s.index(\"c\"))"
   ]
  },
  {
   "cell_type": "code",
   "execution_count": 16,
   "metadata": {},
   "outputs": [
    {
     "name": "stdout",
     "output_type": "stream",
     "text": [
      "6\n",
      "21\n",
      "python lodu easy to learn\n",
      "1\n"
     ]
    }
   ],
   "source": [
    "s =  \"python is easy to learn\"\n",
    "\n",
    "l = s.find(\" \")\n",
    "print(l)\n",
    "\n",
    "s1 = s.index(\"r\")\n",
    "print(s1)\n",
    "\n",
    "s2 = s.replace(\"is\",\"lodu\")\n",
    "print(s2)\n",
    "\n",
    "s3 = (s.count(\"to\"))\n",
    "print(s3)"
   ]
  },
  {
   "cell_type": "code",
   "execution_count": 20,
   "metadata": {},
   "outputs": [
    {
     "name": "stdout",
     "output_type": "stream",
     "text": [
      "a 8\n"
     ]
    }
   ],
   "source": [
    "s = \"lmspnpnaaaaaaaa\"\n",
    "max_char = \"\"\n",
    "max_count = 0\n",
    "for value in s:\n",
    "    if s.count(value) > max_count:\n",
    "        max_char = value\n",
    "        max_count = s.count(value)\n",
    "    \n",
    "print(max_char,max_count)"
   ]
  },
  {
   "cell_type": "code",
   "execution_count": 32,
   "metadata": {},
   "outputs": [
    {
     "name": "stdout",
     "output_type": "stream",
     "text": [
      "7 s\n"
     ]
    }
   ],
   "source": [
    "s = \"wdpfmewfpmbisssssss\"\n",
    "max_char = \"\"\n",
    "max_count = 0\n",
    "\n",
    "for value in s:\n",
    "    if s.count(value) > max_count:\n",
    "        max_char = value\n",
    "        max_count = s.count(value)\n",
    "        \n",
    "print(max_count,max_char)"
   ]
  },
  {
   "cell_type": "code",
   "execution_count": 49,
   "metadata": {},
   "outputs": [
    {
     "name": "stdout",
     "output_type": "stream",
     "text": [
      "LLLLrnLLLLRNng pythLLLLRNLLLLRNNG PYTHn LLLLRNLLLLRNNG PYTHLLLLRNLLLLRNNG PYTHN s LLLLRNLLLLRNNG PYTHLLLLRNLLLLRNNG PYTHN LLLLRNLLLLRNNG PYTHLLLLRNLLLLRNNG PYTHN S LLLLRNLLLLRNNG PYTHLLLLRNLLLLRNNG PYTHN LLLLRNLLLLRNNG PYTHLLLLRNLLLLRNNG PYTHN S LLLLRNLLLLRNNG PYTHLLLLRNLLLLRNNG PYTHN LLLLRNLLLLRNNG PYTHLLLLRNLLLLRNNG PYTHN S sy\n"
     ]
    }
   ],
   "source": [
    "s = \"Learning python is easy\"\n",
    "s2 = \"\"\n",
    "\n",
    "for value in s:\n",
    "    if value in \"aeiou\":\n",
    "        s2 = s2 + s2.upper()\n",
    "    else:\n",
    "        s2 = s2 + value\n",
    "print(s2)"
   ]
  },
  {
   "cell_type": "code",
   "execution_count": 50,
   "metadata": {},
   "outputs": [
    {
     "name": "stdout",
     "output_type": "stream",
     "text": [
      "LEArnIng pythOn Is EAsy\n"
     ]
    }
   ],
   "source": [
    "s = \"Learning python is easy\"\n",
    "\n",
    "for value in s:\n",
    "    if value in \"aeiou\":\n",
    "        s = s.replace(value,value.upper())\n",
    "print(s)"
   ]
  },
  {
   "cell_type": "code",
   "execution_count": 52,
   "metadata": {},
   "outputs": [
    {
     "name": "stdout",
     "output_type": "stream",
     "text": [
      "True\n"
     ]
    }
   ],
   "source": [
    "s = \"Python is easy to learn\"\n",
    "\n",
    "if s[0].isupper() and s[1:].islower():\n",
    "    print(True)\n",
    "else:\n",
    "    print(False)"
   ]
  },
  {
   "cell_type": "code",
   "execution_count": 53,
   "metadata": {},
   "outputs": [
    {
     "name": "stdout",
     "output_type": "stream",
     "text": [
      "True\n"
     ]
    }
   ],
   "source": [
    "s = \"Python is easy to learn\"\n",
    "\n",
    "if s == s.capitalize():\n",
    "    print(True)\n",
    "else:\n",
    "    print(False)"
   ]
  },
  {
   "cell_type": "code",
   "execution_count": 69,
   "metadata": {},
   "outputs": [
    {
     "name": "stdout",
     "output_type": "stream",
     "text": [
      "10\n",
      "[10, 20, 30]\n"
     ]
    }
   ],
   "source": [
    "l  = [10,20,\"Python\",30,40,[10,20,30,]]\n",
    "print(l[0])\n",
    "print(l[-1])"
   ]
  },
  {
   "cell_type": "code",
   "execution_count": 2,
   "metadata": {},
   "outputs": [
    {
     "name": "stdout",
     "output_type": "stream",
     "text": [
      "['python', 'c', 'java', 'ruby', 'html']\n"
     ]
    }
   ],
   "source": [
    "l = [\"python\",\"c\",\"java\"]\n",
    "l2 = [\"ruby\",\"html\"]\n",
    "l.extend(l2)\n",
    "print(l)"
   ]
  },
  {
   "cell_type": "code",
   "execution_count": 4,
   "metadata": {},
   "outputs": [
    {
     "name": "stdout",
     "output_type": "stream",
     "text": [
      "97 122\n",
      "65 90\n"
     ]
    }
   ],
   "source": [
    "print(ord(\"a\"),ord(\"z\"))\n",
    "print(ord(\"A\"),ord(\"Z\"))"
   ]
  },
  {
   "cell_type": "code",
   "execution_count": 5,
   "metadata": {},
   "outputs": [
    {
     "name": "stdout",
     "output_type": "stream",
     "text": [
      "a z\n"
     ]
    }
   ],
   "source": [
    "print(chr(97),chr(122))"
   ]
  },
  {
   "cell_type": "code",
   "execution_count": 15,
   "metadata": {},
   "outputs": [
    {
     "name": "stdout",
     "output_type": "stream",
     "text": [
      "['a', 'b', 'c', 'd', 'e', 'f', 'g', 'h', 'i', 'j', 'k', 'l', 'm', 'n', 'o', 'p', 'q', 'r', 's', 't', 'u', 'v', 'w', 'x', 'y', 'z']\n"
     ]
    }
   ],
   "source": [
    "alpha = []\n",
    "start = \"a\"\n",
    "end = \"z\"\n",
    "\n",
    "for value in range(ord(start),ord(end) +1):\n",
    "    alpha.append(chr(value))\n",
    "print(alpha)"
   ]
  },
  {
   "cell_type": "code",
   "execution_count": 20,
   "metadata": {},
   "outputs": [
    {
     "name": "stdout",
     "output_type": "stream",
     "text": [
      "[1, 2, 3, 4, 5, 6, 7, 8, 9]\n"
     ]
    }
   ],
   "source": [
    "l1 = [[1,2,3],[4,5,6],[7,8,9]]\n",
    "l2 = []\n",
    "for value in l1:\n",
    "    l2.extend(value)\n",
    "print(l2)"
   ]
  },
  {
   "cell_type": "code",
   "execution_count": 21,
   "metadata": {},
   "outputs": [
    {
     "name": "stdout",
     "output_type": "stream",
     "text": [
      "[1, 2, 3, 4, 5, 6, 7, 8, 9]\n"
     ]
    }
   ],
   "source": [
    "l1 = [[1,2,3],[4,5,6],[7,8,9]]\n",
    "l2 = []\n",
    "\n",
    "for value in l1:\n",
    "    for value2 in value:\n",
    "        l2.append(value2)\n",
    "print(l2)"
   ]
  },
  {
   "cell_type": "code",
   "execution_count": 42,
   "metadata": {},
   "outputs": [
    {
     "name": "stdout",
     "output_type": "stream",
     "text": [
      "{'a': 3, 'g': 4, 'd': 4, 'c': 3}\n"
     ]
    }
   ],
   "source": [
    "from collections import Counter\n",
    "\n",
    "s = \"aaaggggddddccc\"\n",
    "c = Counter(s)\n",
    "print(dict(c))"
   ]
  },
  {
   "cell_type": "code",
   "execution_count": 41,
   "metadata": {},
   "outputs": [
    {
     "name": "stdout",
     "output_type": "stream",
     "text": [
      "[[101, 202, 303], [404, 505, 606], [707, 808, 909], [110, 1111, 1212]]\n"
     ]
    }
   ],
   "source": [
    "l1 = [[1,2,3],[4,5,6],[7,8,9],[10,11,12]]\n",
    "l2 = [[100,200,300],[400,500,600],[700,800,900],[100,1100,1200]]\n",
    "l3 = []\n",
    "\n",
    "for row_index in range(len(l1)):\n",
    "    temp = []\n",
    "    for col_index in range(len(l1[0])):\n",
    "        temp.append(l1[row_index][col_index] + l2[row_index][col_index])\n",
    "    l3.append(temp)\n",
    "print(l3)"
   ]
  },
  {
   "cell_type": "code",
   "execution_count": 5,
   "metadata": {},
   "outputs": [],
   "source": [
    "def CreateEmpData(list_emp, **kwargs):\n",
    "\tlist_emp.append(kwargs)\n",
    "\n"
   ]
  },
  {
   "cell_type": "code",
   "execution_count": 10,
   "metadata": {},
   "outputs": [
    {
     "ename": "NameError",
     "evalue": "name 'CreatEmpData' is not defined",
     "output_type": "error",
     "traceback": [
      "\u001b[1;31m---------------------------------------------------------------------------\u001b[0m",
      "\u001b[1;31mNameError\u001b[0m                                 Traceback (most recent call last)",
      "\u001b[1;32m<ipython-input-10-afcc657fc0e0>\u001b[0m in \u001b[0;36m<module>\u001b[1;34m\u001b[0m\n\u001b[0;32m      1\u001b[0m \u001b[0mlist_emp\u001b[0m \u001b[1;33m=\u001b[0m \u001b[1;33m[\u001b[0m\u001b[1;33m]\u001b[0m\u001b[1;33m\u001b[0m\u001b[1;33m\u001b[0m\u001b[0m\n\u001b[1;32m----> 2\u001b[1;33m \u001b[0mCreatEmpData\u001b[0m\u001b[1;33m(\u001b[0m\u001b[0mlist_emp\u001b[0m\u001b[1;33m,\u001b[0m \u001b[0mname\u001b[0m \u001b[1;33m=\u001b[0m \u001b[1;34m'suraj'\u001b[0m\u001b[1;33m,\u001b[0m\u001b[0mage\u001b[0m \u001b[1;33m=\u001b[0m \u001b[1;34m'22'\u001b[0m\u001b[1;33m,\u001b[0m\u001b[0mlocation\u001b[0m \u001b[1;33m=\u001b[0m \u001b[1;34m'delhi'\u001b[0m\u001b[1;33m)\u001b[0m\u001b[1;33m\u001b[0m\u001b[1;33m\u001b[0m\u001b[0m\n\u001b[0m",
      "\u001b[1;31mNameError\u001b[0m: name 'CreatEmpData' is not defined"
     ]
    }
   ],
   "source": [
    "list_emp = []\n",
    "CreatEmpData(list_emp, name = 'suraj',age = '22',location = 'delhi')"
   ]
  },
  {
   "cell_type": "code",
   "execution_count": 8,
   "metadata": {},
   "outputs": [
    {
     "ename": "NameError",
     "evalue": "name 'list_emp' is not defined",
     "output_type": "error",
     "traceback": [
      "\u001b[1;31m---------------------------------------------------------------------------\u001b[0m",
      "\u001b[1;31mNameError\u001b[0m                                 Traceback (most recent call last)",
      "\u001b[1;32m<ipython-input-8-a9f8a3a20ba8>\u001b[0m in \u001b[0;36m<module>\u001b[1;34m\u001b[0m\n\u001b[1;32m----> 1\u001b[1;33m \u001b[0mlist_emp\u001b[0m\u001b[1;33m\u001b[0m\u001b[1;33m\u001b[0m\u001b[0m\n\u001b[0m",
      "\u001b[1;31mNameError\u001b[0m: name 'list_emp' is not defined"
     ]
    }
   ],
   "source": [
    "list_emp"
   ]
  },
  {
   "cell_type": "code",
   "execution_count": 1,
   "metadata": {},
   "outputs": [],
   "source": [
    "import bs"
   ]
  },
  {
   "cell_type": "code",
   "execution_count": 1,
   "metadata": {},
   "outputs": [
    {
     "ename": "NameError",
     "evalue": "name 'bs' is not defined",
     "output_type": "error",
     "traceback": [
      "\u001b[1;31m---------------------------------------------------------------------------\u001b[0m",
      "\u001b[1;31mNameError\u001b[0m                                 Traceback (most recent call last)",
      "\u001b[1;32m<ipython-input-1-be72a6605af7>\u001b[0m in \u001b[0;36m<module>\u001b[1;34m\u001b[0m\n\u001b[0;32m      1\u001b[0m \u001b[0ml\u001b[0m \u001b[1;33m=\u001b[0m \u001b[1;33m[\u001b[0m\u001b[1;36m1\u001b[0m\u001b[1;33m,\u001b[0m\u001b[1;36m2\u001b[0m\u001b[1;33m,\u001b[0m\u001b[1;36m3\u001b[0m\u001b[1;33m,\u001b[0m\u001b[1;36m4\u001b[0m\u001b[1;33m]\u001b[0m\u001b[1;33m\u001b[0m\u001b[1;33m\u001b[0m\u001b[0m\n\u001b[0;32m      2\u001b[0m \u001b[0mkey\u001b[0m \u001b[1;33m=\u001b[0m \u001b[1;36m2\u001b[0m\u001b[1;33m\u001b[0m\u001b[1;33m\u001b[0m\u001b[0m\n\u001b[1;32m----> 3\u001b[1;33m \u001b[0mprint\u001b[0m\u001b[1;33m(\u001b[0m\u001b[0mbs\u001b[0m\u001b[1;33m.\u001b[0m\u001b[0mbinary_search\u001b[0m\u001b[1;33m(\u001b[0m\u001b[0ml\u001b[0m\u001b[1;33m,\u001b[0m\u001b[0mkey\u001b[0m\u001b[1;33m)\u001b[0m\u001b[1;33m)\u001b[0m\u001b[1;33m\u001b[0m\u001b[1;33m\u001b[0m\u001b[0m\n\u001b[0m",
      "\u001b[1;31mNameError\u001b[0m: name 'bs' is not defined"
     ]
    }
   ],
   "source": [
    "l = [1,2,3,4]\n",
    "key = 2\n",
    "print(bs.binary_search(l,key))"
   ]
  },
  {
   "cell_type": "code",
   "execution_count": 2,
   "metadata": {},
   "outputs": [
    {
     "name": "stdout",
     "output_type": "stream",
     "text": [
      "123"
     ]
    }
   ],
   "source": [
    "n = 3\n",
    "for i in range(1,n+1): \n",
    "    print (i,end='')"
   ]
  },
  {
   "cell_type": "code",
   "execution_count": 7,
   "metadata": {},
   "outputs": [
    {
     "name": "stdout",
     "output_type": "stream",
     "text": [
      "1\n",
      "2\n",
      "3\n"
     ]
    }
   ],
   "source": [
    "n = 3\n",
    "for i in range(1,n+1):\n",
    "    print(i)"
   ]
  },
  {
   "cell_type": "code",
   "execution_count": 8,
   "metadata": {},
   "outputs": [
    {
     "name": "stdout",
     "output_type": "stream",
     "text": [
      "1\n",
      "1\n",
      "1\n",
      "2\n",
      "[[0, 0, 0], [0, 0, 1], [0, 1, 0], [1, 0, 0], [1, 1, 1]]\n"
     ]
    }
   ],
   "source": [
    "x, y, z, n = int(input()), int(input()), int(input()), int(input())\n",
    "print ([[a,b,c] for a in range(0,x+1) for b in range(0,y+1) for c in range(0,z+1) if a + b + c != n ])"
   ]
  },
  {
   "cell_type": "code",
   "execution_count": null,
   "metadata": {},
   "outputs": [],
   "source": [
    "x,y,z,n = int(input()), int(input()) , int(input()) , int(input())\n",
    "print ([[a,b,c]for a in range(0,x+1) for b in range(0,y+1) for c in range(0,z+1) if a+b+c !=n])"
   ]
  },
  {
   "cell_type": "code",
   "execution_count": null,
   "metadata": {},
   "outputs": [],
   "source": [
    "n = input()\n",
    "l = []\n",
    "for _ in range(n):\n",
    "    s = raw_input().split()\n",
    "    cmd = s[0]\n",
    "    args = s[1:]\n",
    "    if cmd !=\"print\":\n",
    "        cmd += \"(\"+ \",\".join(args) +\")\"\n",
    "        eval(\"l.\"+cmd)\n",
    "    else:\n",
    "        print (l)"
   ]
  }
 ],
 "metadata": {
  "kernelspec": {
   "display_name": "Python 3",
   "language": "python",
   "name": "python3"
  }
 },
 "nbformat": 4,
 "nbformat_minor": 4
}
