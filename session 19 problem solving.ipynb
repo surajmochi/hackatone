{
 "cells": [
  {
   "cell_type": "code",
   "execution_count": null,
   "metadata": {},
   "outputs": [],
   "source": [
    "keyword Density :\n",
    "        \n",
    "        - target keyword : count (official intelligence)\n",
    "        - total no of words in the file\n",
    "        "
   ]
  },
  {
   "cell_type": "code",
   "execution_count": null,
   "metadata": {},
   "outputs": [],
   "source": [
    "import re\n",
    "fp.open(\"blog.txt\",\"r\")\n",
    "raw_content = fp.read()\n",
    "\n",
    "\n",
    "words = re.compile([\"[a-zA-z]+\"])\n",
    "all_words = re.findall(words,raw_content.lower())\n",
    "\n",
    "all_words_count = len(all_words)\n",
    "print(\"Total number of words in this file{}}\".format(len(all_words_count)))\n",
    "\n",
    "target_keyword = \"Artificial Intelligence\".lower()\n",
    "target_keyword_count = raw.content.count(target.keyword)\n",
    "target_density = target_keyword_count / all_words_count\n",
    "print(target_keyword_count)\n",
    "\n",
    "sorted()\n",
    "fp.close()"
   ]
  },
  {
   "cell_type": "code",
   "execution_count": null,
   "metadata": {},
   "outputs": [],
   "source": []
  },
  {
   "cell_type": "code",
   "execution_count": null,
   "metadata": {},
   "outputs": [],
   "source": [
    "import re\n",
    "fp = open(\"blog.txt\",\"r\",encoding=\"utf-8\")\n",
    "raw_content = fp.read()\n",
    "sentence  = re.compile(\"[a-zA-Z\\s']+\\.\")\n",
    "all_sen = re.findall(sentence,raw_content)\n",
    "\n",
    "keyword = \"Artificial Intelligence\"\n",
    "f = filter(lambda value:keyword in value,all_sen)\n",
    "print(next(f))"
   ]
  }
 ],
 "metadata": {
  "kernelspec": {
   "display_name": "Python 3",
   "language": "python",
   "name": "python3"
  },
  "language_info": {
   "codemirror_mode": {
    "name": "ipython",
    "version": 3
   },
   "file_extension": ".py",
   "mimetype": "text/x-python",
   "name": "python",
   "nbconvert_exporter": "python",
   "pygments_lexer": "ipython3",
   "version": "3.8.2"
  }
 },
 "nbformat": 4,
 "nbformat_minor": 4
}
