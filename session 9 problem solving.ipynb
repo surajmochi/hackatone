{
 "cells": [
  {
   "cell_type": "code",
   "execution_count": 4,
   "metadata": {},
   "outputs": [],
   "source": [
    "True / False: \n",
    "        - comparison ==,!=,<,>\n",
    "        - identity is is not\n",
    "        - membership in not in \n",
    "        - logical operators and or not\n",
    "        \n",
    "== => values\n",
    "is => memory location\n",
    "\n",
    "False values : None \"\"  0 [] () {}\n",
    "    \n",
    "\n",
    "enumerate \n",
    "for index,value in enumerate(iterable):\n",
    "    \n",
    "    key, values => items()\n",
    "    \n",
    "for \n",
    "else:\n",
    "    \n",
    "    [start:end:stride]\n",
    "    \n",
    "2 => every second char\n",
    "-1 => \n",
    "1 => left or right\n",
    "\n",
    "s[100] => indexError\n",
    "\n",
    "\n",
    "\n",
    "Lists :\n",
    "    \n",
    "        add ::\n",
    "                \n",
    "                append\n",
    "                extend\n",
    "                insert\n",
    "        update ::\n",
    "                \n",
    "                l[index] = new_value\n",
    "        delete::\n",
    "                pop\n",
    "                remove\n",
    "                clear\n",
    "                del\n",
    "                \n",
    "                \n",
    "Dict : \n",
    "        Add ::\n",
    "                d[key] = value\n",
    "                setdefault(key,default_value) => return the existing value\n",
    "        \n",
    "        update ::\n",
    "                d[key] = key_value\n",
    "            \n",
    "        delete:\n",
    "                pop(\"key\")\n",
    "                popitem()\n",
    "                clear\n",
    "                del\n",
    "                \n",
    "\n",
    "- mutable\n",
    "- unordered\n",
    "- all the keys should be unique\n",
    "- all the keys should be immutable => int,str,float,tuple\n",
    "\n",
    "\n",
    "sets :\n",
    "    \n",
    "        -mutable\n",
    "        - unordered\n",
    "        - all the elements should be unique\n",
    "        - all the element should be immutable\n",
    "        \n",
    "        \n",
    "Iterable : \n",
    "            list tuple str dict set\n",
    "        \n",
    "Not iterable: \n",
    "        int float \n",
    "        \n",
    "print(dir(list))\n",
    "help(list)\n",
    "                \n",
    "    "
   ]
  },
  {
   "cell_type": "code",
   "execution_count": 8,
   "metadata": {},
   "outputs": [
    {
     "name": "stdout",
     "output_type": "stream",
     "text": [
      "[8]\n"
     ]
    }
   ],
   "source": [
    "# 1. Find the missing number in given integer array of 1 to 10.\n",
    "\n",
    "input_nums = [1,2,3,4,5,6,7,9,10]\n",
    "all_nums = list(range(1,11))\n",
    "missing_element = []\n",
    "\n",
    "for value in all_nums:\n",
    "    if value not in input_nums:\n",
    "        missing_element.append(value)\n",
    "print(missing_element)\n",
    "    \n",
    "\n"
   ]
  },
  {
   "cell_type": "code",
   "execution_count": 1,
   "metadata": {},
   "outputs": [
    {
     "name": "stdout",
     "output_type": "stream",
     "text": [
      "2\n"
     ]
    }
   ],
   "source": [
    "# 2. Find the element in array such that sum of the left array is equal to sum of the right array\n",
    "\n",
    "l = [1,2,3,1,1,1]\n",
    "for index,value in enumerate(l[1:]):\n",
    "    if sum(l[:index]) == sum(l[index+1:]):\n",
    "        print(index)\n",
    "        break\n",
    "    "
   ]
  },
  {
   "cell_type": "code",
   "execution_count": null,
   "metadata": {},
   "outputs": [],
   "source": []
  }
 ],
 "metadata": {
  "kernelspec": {
   "display_name": "Python 3",
   "language": "python",
   "name": "python3"
  },
  "language_info": {
   "codemirror_mode": {
    "name": "ipython",
    "version": 3
   },
   "file_extension": ".py",
   "mimetype": "text/x-python",
   "name": "python",
   "nbconvert_exporter": "python",
   "pygments_lexer": "ipython3",
   "version": "3.8.2"
  }
 },
 "nbformat": 4,
 "nbformat_minor": 4
}
