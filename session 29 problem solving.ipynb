{
 "cells": [
  {
   "cell_type": "code",
   "execution_count": 8,
   "metadata": {},
   "outputs": [
    {
     "name": "stdout",
     "output_type": "stream",
     "text": [
      "<Response [200]>\n"
     ]
    }
   ],
   "source": [
    "import requests\n",
    "img_res = requests.get(\"https://rukminim1.flixcart.com/image/312/312/k7dnonk0/mobile/7/n/f/realme-6-rbs0605in-original-imafpmftxfvhbrm9.jpeg?q=70\")\n",
    "print(img_res)\n",
    "\n",
    "fp = open(\"logo.jpeg\",\"wb\")\n",
    "fp.write(img_res.content)\n",
    "fp.close()"
   ]
  },
  {
   "cell_type": "code",
   "execution_count": null,
   "metadata": {},
   "outputs": [],
   "source": [
    "https://images.pexels.com/photos/159304/network-cable-ethernet-computer-159304.jpeg?auto=compress&cs=tinysrgb&dpr=1&w=500"
   ]
  },
  {
   "cell_type": "code",
   "execution_count": null,
   "metadata": {},
   "outputs": [],
   "source": [
    "import requests\n",
    "from bs4 import BeautifulSoup\n",
    "\n",
    "response = requests.get(\"https://images.pexels.com/photos/159304/network-cable-ethernet-computer-159304.jpeg?auto=compress&cs=tinysrgb&dpr=1&w=500\")\n",
    "print(response)\n",
    "\n",
    "\n",
    "soup = BeautifulSoup(response.content,\"html.parser\")\n",
    "\n"
   ]
  },
  {
   "cell_type": "code",
   "execution_count": null,
   "metadata": {},
   "outputs": [],
   "source": [
    "import re\n",
    "imgs = soup.find_all(\"img\",attrs={\"class\":\"photo-item__img\"})\n",
    "file_name_regex = re.compile(expressions signs)\n",
    "\n",
    "for img in imgs:\n",
    "    img_link = img.get('src')\n",
    "    print(img_link)\n",
    "    m = re.search(file_name_regex,img_link)\n",
    "    print(m.group(1))"
   ]
  }
 ],
 "metadata": {
  "kernelspec": {
   "display_name": "Python 3",
   "language": "python",
   "name": "python3"
  },
  "language_info": {
   "codemirror_mode": {
    "name": "ipython",
    "version": 3
   },
   "file_extension": ".py",
   "mimetype": "text/x-python",
   "name": "python",
   "nbconvert_exporter": "python",
   "pygments_lexer": "ipython3",
   "version": "3.8.2"
  }
 },
 "nbformat": 4,
 "nbformat_minor": 4
}
