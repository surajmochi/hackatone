{
 "cells": [
  {
   "cell_type": "code",
   "execution_count": null,
   "metadata": {},
   "outputs": [],
   "source": [
    "List :\n",
    "        add:\n",
    "            append\n",
    "            extend() --> only take iterable element\n",
    "            insert\n",
    "        update:\n",
    "            l[index] = new_value\n",
    "        delete:\n",
    "            pop -> index\n",
    "            remove -> value\n",
    "            del -> \n",
    "            clear"
   ]
  },
  {
   "cell_type": "code",
   "execution_count": 4,
   "metadata": {},
   "outputs": [
    {
     "name": "stdout",
     "output_type": "stream",
     "text": [
      "[10, 20, 30, 40, 'python']\n"
     ]
    }
   ],
   "source": [
    "l = [10,20,30,40]\n",
    "l.append(\"python\")\n",
    "print(l)"
   ]
  },
  {
   "cell_type": "code",
   "execution_count": 5,
   "metadata": {},
   "outputs": [
    {
     "name": "stdout",
     "output_type": "stream",
     "text": [
      "[100, 400, 900, 1600, 2500, 3600]\n"
     ]
    }
   ],
   "source": [
    "l = [10,20,30,40,50,60]\n",
    "l2 = []\n",
    "for x in l:\n",
    "    l2.append(x * x)\n",
    "print(l2)"
   ]
  },
  {
   "cell_type": "markdown",
   "metadata": {},
   "source": [
    "# List comphrehension\n",
    "\n",
    "* it is an alternative approach to create a new list\n"
   ]
  },
  {
   "cell_type": "code",
   "execution_count": 6,
   "metadata": {},
   "outputs": [
    {
     "name": "stdout",
     "output_type": "stream",
     "text": [
      "[100, 400, 900, 1600, 2500, 3600]\n"
     ]
    }
   ],
   "source": [
    "l = [10,20,30,40,50,60]\n",
    "l2 = [value * value for value in l]  # here [perform operation , iterate over element]\n",
    "print(l2)"
   ]
  },
  {
   "cell_type": "code",
   "execution_count": null,
   "metadata": {},
   "outputs": [],
   "source": [
    "syntax :\n",
    "    \n",
    "        [output operation for value in iterable_datatype filtering condition]\n",
    "        "
   ]
  },
  {
   "cell_type": "code",
   "execution_count": 9,
   "metadata": {},
   "outputs": [
    {
     "name": "stdout",
     "output_type": "stream",
     "text": [
      "[3, 6, 6, 6]\n"
     ]
    }
   ],
   "source": [
    "l = [\"abc\" , \"abcdef\" , \"zyzzer\" , \"dskndw\"]\n",
    "l2 = []\n",
    "\n",
    "for value in l:\n",
    "    l2.append(len(value))\n",
    "print(l2)"
   ]
  },
  {
   "cell_type": "code",
   "execution_count": 12,
   "metadata": {},
   "outputs": [
    {
     "name": "stdout",
     "output_type": "stream",
     "text": [
      "[3, 6, 6, 6]\n"
     ]
    }
   ],
   "source": [
    "#with comprehension list\n",
    "\n",
    "l = [\"abc\" , \"abcdef\" , \"zyzzer\" , \"dskndw\"]\n",
    "l2 = [len(value) for value in l]\n",
    "print(l2)"
   ]
  },
  {
   "cell_type": "code",
   "execution_count": 13,
   "metadata": {},
   "outputs": [
    {
     "name": "stdout",
     "output_type": "stream",
     "text": [
      "['ac', 'af', 'zr', 'dw']\n"
     ]
    }
   ],
   "source": [
    "l = [\"abc\" , \"abcdef\" , \"zyzzer\" , \"dskndw\"]\n",
    "l2 = [value[0] + value [-1 ] for value in l]\n",
    "print(l2)"
   ]
  },
  {
   "cell_type": "code",
   "execution_count": 18,
   "metadata": {},
   "outputs": [
    {
     "name": "stdout",
     "output_type": "stream",
     "text": [
      "['a', 'n', 'w', 'c', 'n', 'A']\n"
     ]
    }
   ],
   "source": [
    "l = [97,110,119,99,110,65]\n",
    "l2 = [chr(value) for value in l]\n",
    "print(l2)"
   ]
  },
  {
   "cell_type": "code",
   "execution_count": 22,
   "metadata": {},
   "outputs": [],
   "source": [
    "import random"
   ]
  },
  {
   "cell_type": "code",
   "execution_count": 79,
   "metadata": {},
   "outputs": [
    {
     "name": "stdout",
     "output_type": "stream",
     "text": [
      "[79, 17, 71, 78, 84]\n"
     ]
    }
   ],
   "source": [
    "# 5 random no (10,100)\n",
    "\n",
    "#print(random.randint(10,100))\n",
    "l2 = [random.randint(10,100) for value in range(5)]\n",
    "print(l2)"
   ]
  },
  {
   "cell_type": "code",
   "execution_count": 84,
   "metadata": {},
   "outputs": [
    {
     "name": "stdout",
     "output_type": "stream",
     "text": [
      "[[1, 10, 100], [2, 20, 200], [3, 30, 300]]\n"
     ]
    }
   ],
   "source": [
    "l1 = [1,2,3]\n",
    "l2 = [10,20,30]\n",
    "l3 = [100,200,300]\n",
    "\n",
    "\n",
    "l4 = [list(value) for value in zip(l1,l2,l3)]\n",
    "print(l4)\n",
    "#zip(l4)\n",
    "#l4 = [[1,10,100],[2,20,200],[3,30,300]]\n",
    "\n"
   ]
  },
  {
   "cell_type": "markdown",
   "metadata": {},
   "source": [
    "# you have  input of one list by performing some of operation of each and every element you are getting a new output list , thats the use of List comprehension"
   ]
  },
  {
   "cell_type": "code",
   "execution_count": null,
   "metadata": {},
   "outputs": [],
   "source": [
    "\n"
   ]
  },
  {
   "cell_type": "code",
   "execution_count": 7,
   "metadata": {},
   "outputs": [
    {
     "name": "stdout",
     "output_type": "stream",
     "text": [
      "4.815318599999955\n"
     ]
    }
   ],
   "source": [
    "import timeit\n",
    "t = timeit.timeit(stmt=\"\"\"\n",
    "l2 = []\n",
    "for value in range(1,10000000):\n",
    "    l2.append(value ** 2)\n",
    "\"\"\", number = 1)\n",
    "print(t)\n"
   ]
  },
  {
   "cell_type": "code",
   "execution_count": 10,
   "metadata": {},
   "outputs": [
    {
     "name": "stdout",
     "output_type": "stream",
     "text": [
      "5.50434359999997\n"
     ]
    }
   ],
   "source": [
    "# from list comprehension\n",
    "t = timeit.timeit (\"\"\"\n",
    "l2 = [value ** 2 for value in range(1,10000000)]\n",
    "\"\"\" , number=1)\n",
    "print(t)"
   ]
  },
  {
   "cell_type": "code",
   "execution_count": 11,
   "metadata": {
    "scrolled": true
   },
   "outputs": [
    {
     "data": {
      "text/plain": [
       "['Timer',\n",
       " '__all__',\n",
       " '__builtins__',\n",
       " '__cached__',\n",
       " '__doc__',\n",
       " '__file__',\n",
       " '__loader__',\n",
       " '__name__',\n",
       " '__package__',\n",
       " '__spec__',\n",
       " '_globals',\n",
       " 'default_number',\n",
       " 'default_repeat',\n",
       " 'default_timer',\n",
       " 'dummy_src_name',\n",
       " 'gc',\n",
       " 'itertools',\n",
       " 'main',\n",
       " 'reindent',\n",
       " 'repeat',\n",
       " 'sys',\n",
       " 'template',\n",
       " 'time',\n",
       " 'timeit']"
      ]
     },
     "execution_count": 11,
     "metadata": {},
     "output_type": "execute_result"
    }
   ],
   "source": [
    "dir(timeit)"
   ]
  },
  {
   "cell_type": "code",
   "execution_count": 15,
   "metadata": {},
   "outputs": [
    {
     "name": "stdout",
     "output_type": "stream",
     "text": [
      "[10, 20, 30]\n"
     ]
    }
   ],
   "source": [
    "l = [10,15,20,25,30,35]\n",
    "l2 = [value for value in l if value % 2 == 0]\n",
    "print(l2)"
   ]
  },
  {
   "cell_type": "code",
   "execution_count": 24,
   "metadata": {},
   "outputs": [
    {
     "name": "stdout",
     "output_type": "stream",
     "text": [
      "[6, 5, 7]\n"
     ]
    }
   ],
   "source": [
    "l = ['svmebb',\"adc\",\"sfweo\",\"denebpn\"]\n",
    "l2 = [len(value) for value in l if len(value)>3]\n",
    "print(l2) "
   ]
  },
  {
   "cell_type": "code",
   "execution_count": 26,
   "metadata": {},
   "outputs": [
    {
     "name": "stdout",
     "output_type": "stream",
     "text": [
      "['n', 'w', 'c', 'n']\n"
     ]
    }
   ],
   "source": [
    "l  = [97,110,119,99,110,123,130]\n",
    "l2 = [chr(value) for value in l if ord('a') < value  < ord('z')]\n",
    "print(l2)"
   ]
  },
  {
   "cell_type": "code",
   "execution_count": 32,
   "metadata": {},
   "outputs": [
    {
     "name": "stdout",
     "output_type": "stream",
     "text": [
      "['n', 'w', 'c', 'a', 'h']\n"
     ]
    }
   ],
   "source": [
    "l = [60,97,110,119,99,123,130]\n",
    "l2 = [chr(value) if ord('a') <= value <= ord('z') else chr(value - 26) for value in l if value > 97]\n",
    "print(l2)"
   ]
  },
  {
   "cell_type": "code",
   "execution_count": 33,
   "metadata": {},
   "outputs": [
    {
     "name": "stdout",
     "output_type": "stream",
     "text": [
      "0 100\n",
      "0 101\n",
      "0 102\n",
      "0 103\n",
      "0 104\n",
      "1 100\n",
      "1 101\n",
      "1 102\n",
      "1 103\n",
      "1 104\n",
      "2 100\n",
      "2 101\n",
      "2 102\n",
      "2 103\n",
      "2 104\n",
      "3 100\n",
      "3 101\n",
      "3 102\n",
      "3 103\n",
      "3 104\n",
      "4 100\n",
      "4 101\n",
      "4 102\n",
      "4 103\n",
      "4 104\n"
     ]
    }
   ],
   "source": [
    "for value in range(5):\n",
    "    for value2 in range(100,105):\n",
    "        print(value,value2)"
   ]
  },
  {
   "cell_type": "code",
   "execution_count": 42,
   "metadata": {},
   "outputs": [
    {
     "name": "stdout",
     "output_type": "stream",
     "text": [
      "[(0, 100), (0, 101), (0, 102), (0, 103), (1, 100), (1, 101), (1, 102), (1, 103), (2, 100), (2, 101), (2, 102), (2, 103), (3, 100), (3, 101), (3, 102), (3, 103), (4, 100), (4, 101), (4, 102), (4, 103)]\n"
     ]
    }
   ],
   "source": [
    "import timeit\n",
    "t = timeit.timeit\n",
    "l = [(value1,value2) for value1 in range(5) for value2 in range(100,104)]\n",
    "print(l)"
   ]
  },
  {
   "cell_type": "code",
   "execution_count": 51,
   "metadata": {},
   "outputs": [
    {
     "name": "stdout",
     "output_type": "stream",
     "text": [
      "[1, 2, 3, 4, 5, 6, 7, 8, 9]\n"
     ]
    }
   ],
   "source": [
    "l = [[1,2,3],[4,5,6],[7,8,9]]\n",
    "l2 = [value2 for value1 in l for value2 in value1]\n",
    "print(l2)"
   ]
  },
  {
   "cell_type": "code",
   "execution_count": 82,
   "metadata": {},
   "outputs": [
    {
     "name": "stdout",
     "output_type": "stream",
     "text": [
      "[[1, 4, 7], [2, 5, 8], [3, 6, 9]]\n"
     ]
    }
   ],
   "source": [
    "l = [[1,2,3],[4,5,6],[7,8,9]]\n",
    "l2 = [[value[index] for value in l] for index in range(len(l[0]))]\n",
    "print(l2)"
   ]
  },
  {
   "cell_type": "code",
   "execution_count": null,
   "metadata": {},
   "outputs": [],
   "source": [
    "Dict :\n",
    "     {\"key : value\"}\n",
    "        mutable\n",
    "        unordered\n",
    "        \n",
    "    Add:\n",
    "        d[key] = value\n",
    "        d.setdefault(key,value)\n",
    "        \n",
    "    Update:\n",
    "        d[key] = value\n",
    "        \n",
    "    Delete:\n",
    "        pop(\"key\")\n",
    "        clear -> remove all element\n",
    "        del -> delete ref\n",
    "        popitem -> randomly pick value\n",
    "        "
   ]
  },
  {
   "cell_type": "code",
   "execution_count": null,
   "metadata": {},
   "outputs": [],
   "source": [
    "d = {1:1,2:4,3:9...10:100}"
   ]
  },
  {
   "cell_type": "code",
   "execution_count": 83,
   "metadata": {},
   "outputs": [
    {
     "name": "stdout",
     "output_type": "stream",
     "text": [
      "{1: 1, 2: 4, 3: 9, 4: 16, 5: 25, 6: 36, 7: 49, 8: 64, 9: 81, 10: 100}\n"
     ]
    }
   ],
   "source": [
    "d2 = {key:key ** 2 for key in range(1,11)}\n",
    "print(d2)"
   ]
  },
  {
   "cell_type": "code",
   "execution_count": 89,
   "metadata": {},
   "outputs": [
    {
     "name": "stdout",
     "output_type": "stream",
     "text": [
      "{'a': 97, 'b': 98, 'c': 99, 'd': 100, 'e': 101, 'f': 102, 'g': 103, 'h': 104, 'i': 105, 'j': 106, 'k': 107, 'l': 108, 'm': 109, 'n': 110, 'o': 111, 'p': 112, 'q': 113, 'r': 114, 's': 115, 't': 116, 'u': 117, 'v': 118, 'w': 119, 'x': 120, 'y': 121, 'z': 122}\n"
     ]
    }
   ],
   "source": [
    "#{a:97,b:97,,,z:122}\n",
    "d2 = {chr(value):value for value  in  range(ord('a'),ord('z')+1)}\n",
    "print(d2)"
   ]
  },
  {
   "cell_type": "code",
   "execution_count": 1,
   "metadata": {},
   "outputs": [
    {
     "name": "stdout",
     "output_type": "stream",
     "text": [
      "{(1, 10): 0, (11, 20): 0, (21, 30): 0, (31, 40): 0, (41, 50): 0, (51, 60): 0, (61, 70): 0, (71, 80): 0, (81, 90): 0, (91, 100): 0}\n"
     ]
    }
   ],
   "source": [
    "# d3 = {(1,10):0,(11,20):0 ....(91,100):0}\n",
    "\n",
    "d2 = {(key,key+9): 0  e(1,92,10)}\n",
    "print(d2)"
   ]
  },
  {
   "cell_type": "code",
   "execution_count": 3,
   "metadata": {},
   "outputs": [
    {
     "name": "stdout",
     "output_type": "stream",
     "text": [
      "{0, 1, 3, 4}\n"
     ]
    }
   ],
   "source": [
    "# set comprehension for unique value to be print\n",
    "\n",
    "l = [10,20,30,35,40,45,33,36,38,39]\n",
    "l2 = {value % 5 for value in l}\n",
    "print(l2)"
   ]
  }
 ],
 "metadata": {
  "kernelspec": {
   "display_name": "Python 3",
   "language": "python",
   "name": "python3"
  },
  "language_info": {
   "codemirror_mode": {
    "name": "ipython",
    "version": 3
   },
   "file_extension": ".py",
   "mimetype": "text/x-python",
   "name": "python",
   "nbconvert_exporter": "python",
   "pygments_lexer": "ipython3",
   "version": "3.8.2"
  }
 },
 "nbformat": 4,
 "nbformat_minor": 4
}
