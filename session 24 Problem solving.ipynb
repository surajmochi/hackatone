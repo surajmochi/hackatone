{
 "cells": [
  {
   "cell_type": "code",
   "execution_count": null,
   "metadata": {},
   "outputs": [],
   "source": [
    "Item    unit        Special\n",
    "        price       price\n",
    "\n",
    "A       50          3 for 120\n",
    "B       30          2 for 45\n",
    "C       20\n",
    "D       15\n",
    "\n",
    "\n",
    "\n",
    "\n",
    "\n",
    "Product :\n",
    "    name\n",
    "    Unit_price\n",
    "    \n",
    "    count\n",
    "    update_count\n",
    "    check_availabiliy\n",
    "\n",
    "Admin :\n",
    "     \n",
    "    Add_product\n",
    "    update_unit_price\n",
    "    \n",
    "    \n",
    "    \n",
    "Customer\n",
    "        \n",
    "        name\n",
    "        email\n",
    "        \n",
    "        add_product\n",
    "        remove_product_cart\n",
    "        view_cart\n",
    "        request_bill\n",
    "        \n",
    "\n",
    "Supermarket :\n",
    "        \n",
    "        cal_bill_amt \n",
    "\n",
    "Admin:\n",
    "\n",
    "    "
   ]
  },
  {
   "cell_type": "code",
   "execution_count": 33,
   "metadata": {},
   "outputs": [],
   "source": [
    "class SuperMarket:\n",
    "    \n",
    "    @classmethod\n",
    "    def cal_bill(cls,cart):\n",
    "        bill_amount = 0\n",
    "        for prod,quantity in cart:\n",
    "            bill_amount += prod.unit_price * quantity\n",
    "            \n",
    "        return bill_amount\n",
    "\n",
    "class Product:\n",
    "    \n",
    "    def __init__(self,name,unit_price,count):\n",
    "        self.p_name = name\n",
    "        self.P_unit_price = unit_price\n",
    "        self.count = count\n",
    "    \n",
    "    def Update_count(self,updated_count):\n",
    "        self.count = updated_count\n",
    "        \n",
    "    def is_availabe(self,req_quantity):\n",
    "        if self.count > req_quantity:\n",
    "            return True\n",
    "        else:\n",
    "            return False\n",
    "        \n",
    "        \n",
    "class Customer:\n",
    "    def __init__(self,name,email):\n",
    "        self.name = name\n",
    "        self.email = email\n",
    "        self.cart = []\n",
    "\n",
    "    def add_to_cart(self,product,quantity):\n",
    "        if product.is_availabe(quantity):\n",
    "            self.cart.append((product,quantity))\n",
    "            return True\n",
    "        else:\n",
    "            return False\n",
    "    def remove_from_cart(self,product,updated_count):\n",
    "    \n",
    "        for index,item in enumerate(self.cart):\n",
    "            if item[0] == product:\n",
    "                self.cart.pop(index)\n",
    "                return self.cart.append((product,updated_count))\n",
    "\n",
    "    def req_bill(self):\n",
    "        return SuperMarket.cal_bill(self.cart)\n",
    "        \n",
    "        \n",
    "prod_a = Product(\"A\",50,100)\n",
    "prod_b = Product(\"B\",40,100)\n",
    "prod_c = Product(\"C\",30,100)\n",
    "\n",
    "cust = Customer(\"ABC\",\"abc@gmail.com\")"
   ]
  },
  {
   "cell_type": "code",
   "execution_count": 34,
   "metadata": {},
   "outputs": [],
   "source": [
    "cust.add_to_cart(prod_a,3)\n",
    "cust.add_to_cart(prod_b,2)\n",
    "cust.add_to_cart(prod_c,4)\n",
    "\n",
    "\n",
    "cust.remove_from_cart(prod_a,2)"
   ]
  },
  {
   "cell_type": "code",
   "execution_count": 35,
   "metadata": {},
   "outputs": [
    {
     "name": "stdout",
     "output_type": "stream",
     "text": [
      "[(<__main__.Product object at 0x074666D0>, 2), (<__main__.Product object at 0x07466850>, 4), (<__main__.Product object at 0x06FF04F0>, 2)]\n"
     ]
    }
   ],
   "source": [
    "\n",
    "print(cust.cart)"
   ]
  },
  {
   "cell_type": "code",
   "execution_count": 36,
   "metadata": {},
   "outputs": [
    {
     "name": "stdout",
     "output_type": "stream",
     "text": [
      "<bound method Customer.req_bill of <__main__.Customer object at 0x07466AC0>>\n"
     ]
    }
   ],
   "source": [
    "print(cust.req_bill)"
   ]
  },
  {
   "cell_type": "code",
   "execution_count": 30,
   "metadata": {},
   "outputs": [
    {
     "name": "stdout",
     "output_type": "stream",
     "text": [
      "B 2\n",
      "C 4\n",
      "A 2\n"
     ]
    }
   ],
   "source": [
    "for item in cust.cart:\n",
    "    print(item[0].p_name,item[1])"
   ]
  },
  {
   "cell_type": "code",
   "execution_count": 10,
   "metadata": {},
   "outputs": [
    {
     "name": "stdout",
     "output_type": "stream",
     "text": [
      "{'p_name': 'A', 'P_unit_price': 50, 'count': 100}\n"
     ]
    }
   ],
   "source": [
    "print(prod_a.__dict__)"
   ]
  }
 ],
 "metadata": {
  "kernelspec": {
   "display_name": "Python 3",
   "language": "python",
   "name": "python3"
  },
  "language_info": {
   "codemirror_mode": {
    "name": "ipython",
    "version": 3
   },
   "file_extension": ".py",
   "mimetype": "text/x-python",
   "name": "python",
   "nbconvert_exporter": "python",
   "pygments_lexer": "ipython3",
   "version": "3.8.2"
  }
 },
 "nbformat": 4,
 "nbformat_minor": 4
}
