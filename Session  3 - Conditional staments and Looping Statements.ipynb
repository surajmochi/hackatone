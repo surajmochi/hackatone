{
 "cells": [
  {
   "cell_type": "code",
   "execution_count": null,
   "metadata": {},
   "outputs": [],
   "source": [
    "== => comparison\n",
    "= => assinment\n"
   ]
  },
  {
   "cell_type": "code",
   "execution_count": null,
   "metadata": {},
   "outputs": [],
   "source": [
    "== => compare values \n",
    "is => memory location"
   ]
  },
  {
   "cell_type": "code",
   "execution_count": null,
   "metadata": {},
   "outputs": [],
   "source": [
    "type() => To check type of datatype\n",
    "id() => To check the memory location"
   ]
  },
  {
   "cell_type": "code",
   "execution_count": null,
   "metadata": {},
   "outputs": [],
   "source": [
    "immutable : \n",
    "        int, float, str, tuple\n",
    "Mutable :\n",
    "    list, dict, set\n",
    "    "
   ]
  },
  {
   "cell_type": "code",
   "execution_count": null,
   "metadata": {
    "collapsed": true
   },
   "outputs": [],
   "source": [
    "Conditional statements: #when we want to make branching and there is some condition\n",
    "    \n",
    "                    if elif else"
   ]
  },
  {
   "cell_type": "code",
   "execution_count": null,
   "metadata": {},
   "outputs": [],
   "source": [
    "num1 = 100\n",
    "num2 = 200\n",
    "\n",
    "#num1 is greater\n",
    "#num2 is greater\n",
    "#both are equal\n",
    "\n",
    "if [codition] = True/false \n",
    "\n",
    "    print (\"num1 is greater\")"
   ]
  },
  {
   "cell_type": "code",
   "execution_count": 1,
   "metadata": {},
   "outputs": [
    {
     "name": "stdout",
     "output_type": "stream",
     "text": [
      "Both are eqaul\n"
     ]
    }
   ],
   "source": [
    "num1 = 100\n",
    "num2 = 100\n",
    "\n",
    "if num1 > num2:\n",
    "    print (\"num1 is greater\")\n",
    "    \n",
    "elif num2 > num1:\n",
    "    print (\"num2 is greater\")\n",
    "else:\n",
    "    print (\"Both are eqaul\")\n",
    "    \n",
    "#After completion of \"if\"{One block of code} condition and colon[:], the next statement will be put with intendation(two or four space before writing statememt),\n"
   ]
  },
  {
   "cell_type": "code",
   "execution_count": 9,
   "metadata": {
    "scrolled": true
   },
   "outputs": [
    {
     "name": "stdout",
     "output_type": "stream",
     "text": [
      "this is Vowel\n"
     ]
    }
   ],
   "source": [
    "char = 'a'\n",
    "\n",
    "if char in 'aeiou':\n",
    "    print(\"this is Vowel\")\n",
    "else:\n",
    "    print(\"Consonent\")\n"
   ]
  },
  {
   "cell_type": "code",
   "execution_count": null,
   "metadata": {},
   "outputs": [],
   "source": [
    "if [condition]:\n",
    "    statements\n",
    "elif [condition]:\n",
    "    statements\n",
    "else:"
   ]
  },
  {
   "cell_type": "code",
   "execution_count": 17,
   "metadata": {},
   "outputs": [
    {
     "name": "stdout",
     "output_type": "stream",
     "text": [
      "Hii\n",
      "List is not empty\n"
     ]
    }
   ],
   "source": [
    "if 1:\n",
    "    print(\"Hii\")\n",
    "else: \n",
    "    print(\"python\")\n",
    "\n",
    "#Any non zero value is True in python\n",
    "#any zero value is False 0,None,\"\",[],(),{}\n",
    "\n",
    "l = [10,20]\n",
    "if l:\n",
    "    print(\"List is not empty\")\n",
    "else:\n",
    "    print(\"List is empty\")"
   ]
  },
  {
   "cell_type": "code",
   "execution_count": null,
   "metadata": {},
   "outputs": [],
   "source": [
    "PEP 8"
   ]
  },
  {
   "cell_type": "code",
   "execution_count": 21,
   "metadata": {},
   "outputs": [
    {
     "name": "stdout",
     "output_type": "stream",
     "text": [
      "list is not empty\n"
     ]
    }
   ],
   "source": [
    "l = [10,20,30,40]\n",
    "#print(len(l))\n",
    "\n",
    "if len(l) > 0: \n",
    "        print(\"list is not empty\")\n",
    "else:\n",
    "    print(\"List is empty\")"
   ]
  },
  {
   "cell_type": "code",
   "execution_count": 22,
   "metadata": {
    "scrolled": true
   },
   "outputs": [
    {
     "name": "stdout",
     "output_type": "stream",
     "text": [
      "A is present\n"
     ]
    }
   ],
   "source": [
    "s  = \"python sample string\"\n",
    "if 'a' in s:`\n",
    "    print(\"A is present\")\n",
    "else:\n",
    "    print(\"A is not present\")"
   ]
  },
  {
   "cell_type": "code",
   "execution_count": 27,
   "metadata": {},
   "outputs": [
    {
     "name": "stdout",
     "output_type": "stream",
     "text": [
      "pass\n"
     ]
    }
   ],
   "source": [
    "#marks_obtained = 380\n",
    "#total_marks = 500\n",
    "#pass/fail\n",
    "#40% => pass else Fail\n",
    "\n",
    "\n",
    "marks_obtained = 380\n",
    "total_marks = 500\n",
    "\n",
    "if marks_obtained >  200:\n",
    "    print (\"pass\")\n",
    "\n",
    "else:\n",
    "    print(\"fail\")\n",
    "    "
   ]
  },
  {
   "cell_type": "code",
   "execution_count": null,
   "metadata": {},
   "outputs": [],
   "source": [
    "Ctrl + / => Select all -> this will put the comment(Multiline comment)"
   ]
  },
  {
   "cell_type": "code",
   "execution_count": 34,
   "metadata": {},
   "outputs": [
    {
     "name": "stdout",
     "output_type": "stream",
     "text": [
      "number is even\n"
     ]
    }
   ],
   "source": [
    "num1 = 46\n",
    "\n",
    "if num1 % 2 == 0:\n",
    "    print (\"number is even\")\n",
    "else:\n",
    "    print (\"number is odd\")\n",
    "    "
   ]
  },
  {
   "cell_type": "code",
   "execution_count": 69,
   "metadata": {},
   "outputs": [
    {
     "name": "stdout",
     "output_type": "stream",
     "text": [
      "Notes of 2000 are 2\n",
      "Notes of 500 are 3\n",
      "cannot issue notes of 100\n",
      "Notes of 50 are 1\n",
      "Notes of 10 are 1\n",
      "Total no of notes are 7\n"
     ]
    }
   ],
   "source": [
    "#currency = 2000 , 500  , 100 , 50 , 10\n",
    "#amount = 5560\n",
    "\n",
    "amount = 5560\n",
    "note_count = 0\n",
    "if amount >= 2000:\n",
    "    print(\"Notes of 2000 are\",amount // 2000)\n",
    "    note_count+=amount // 2000\n",
    "    amount = amount % 2000\n",
    "else: \n",
    "    print(\"cannot issue notes of 2000\")\n",
    "    \n",
    "if amount >= 500:\n",
    "    print(\"Notes of 500 are\",amount // 500)\n",
    "    note_count+=amount // 500\n",
    "    amount = amount % 500\n",
    "else: \n",
    "    print(\"cannot issue notes of 500\")\n",
    "    \n",
    "if amount >= 100:\n",
    "    print(\"Notes of 100 are\",amount // 100)\n",
    "    note_count+=amount // 100\n",
    "    amount = amount % 100\n",
    "else: \n",
    "    print(\"cannot issue notes of 100\")\n",
    "    \n",
    "if amount >= 50:\n",
    "    print(\"Notes of 50 are\",amount // 50)\n",
    "    note_count+=amount // 50\n",
    "    amount = amount % 50\n",
    "else: \n",
    "    print(\"cannot issue notes of 50\")\n",
    "    \n",
    "if amount >= 10:\n",
    "    print(\"Notes of 10 are\",amount // 10)\n",
    "    note_count+=amount // 10\n",
    "    amount = amount % 10\n",
    "else: \n",
    "    print(\"cannot issue notes of 10\")\n",
    "    \n",
    "print(\"Total no of notes are\",note_count)"
   ]
  },
  {
   "cell_type": "code",
   "execution_count": 2,
   "metadata": {},
   "outputs": [
    {
     "ename": "SyntaxError",
     "evalue": "invalid syntax (<ipython-input-2-07d13e73bd47>, line 16)",
     "output_type": "error",
     "traceback": [
      "\u001b[1;36m  File \u001b[1;32m\"<ipython-input-2-07d13e73bd47>\"\u001b[1;36m, line \u001b[1;32m16\u001b[0m\n\u001b[1;33m    elif rating = 2:\u001b[0m\n\u001b[1;37m                ^\u001b[0m\n\u001b[1;31mSyntaxError\u001b[0m\u001b[1;31m:\u001b[0m invalid syntax\n"
     ]
    }
   ],
   "source": [
    "#  rating = (1 - 5)\n",
    "#  tip% of total bill\n",
    "\n",
    "#     1 10\n",
    "#     2 20\n",
    "#     3 30\n",
    "#     4 40\n",
    "#     5 50\n",
    "\n",
    "rating = 2\n",
    "total_bill = 1000\n",
    "\n",
    "if rating == 1:\n",
    "    total_bill = total_bill + total_bill*10/100\n",
    "elif rating = 2: \n",
    "    total_bill = total_bill + total_bill*20/100\n",
    "elif rating ==3:\n",
    "    total_bill =  total_bill + total_bill*30/100\n",
    "elif rating ==4:\n",
    "    total_bill =  total_bill + total_bill*40/100\n",
    "elif rating ==5:\n",
    "    total_bill =  total_bill + total_bill*50/100\n",
    "\n",
    "\n",
    "\n",
    "\n"
   ]
  },
  {
   "cell_type": "code",
   "execution_count": 4,
   "metadata": {},
   "outputs": [
    {
     "name": "stdout",
     "output_type": "stream",
     "text": [
      "java\n"
     ]
    }
   ],
   "source": [
    "if \"python\":\n",
    "    print(\"java\")\n",
    "else: \n",
    "    print(\"python\")"
   ]
  }
 ],
 "metadata": {
  "kernelspec": {
   "display_name": "Python 3",
   "language": "python",
   "name": "python3"
  },
  "language_info": {
   "codemirror_mode": {
    "name": "ipython",
    "version": 3
   },
   "file_extension": ".py",
   "mimetype": "text/x-python",
   "name": "python",
   "nbconvert_exporter": "python",
   "pygments_lexer": "ipython3",
   "version": "3.8.2"
  }
 },
 "nbformat": 4,
 "nbformat_minor": 4
}
