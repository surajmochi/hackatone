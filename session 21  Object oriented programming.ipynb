{
 "cells": [
  {
   "cell_type": "markdown",
   "metadata": {},
   "source": [
    "# oop --> working with class and object"
   ]
  },
  {
   "cell_type": "code",
   "execution_count": null,
   "metadata": {},
   "outputs": [],
   "source": [
    "# class is simply a structure \n",
    "\n",
    "    within class we specify some data members / Attribute/ variables\n",
    "    Method\n",
    "    \n",
    "Object"
   ]
  },
  {
   "cell_type": "code",
   "execution_count": null,
   "metadata": {},
   "outputs": [],
   "source": [
    "Ex :  of paytm service\n",
    "    \n",
    "      class :\n",
    "            \n",
    "            contact\n",
    "            email\n",
    "            kyc\n",
    "            \n",
    "            recharge\n",
    "            book_tickets\n",
    "            bill\n",
    "            wallet\n",
    "        \n",
    "user 1\n",
    "user 2\n"
   ]
  },
  {
   "cell_type": "code",
   "execution_count": null,
   "metadata": {},
   "outputs": [],
   "source": [
    "user \n",
    "        \n",
    "        user_name\n",
    "        email\n",
    "        password\n",
    "        \n",
    "        name\n",
    "        contact\n",
    "        \n",
    "        login\n",
    "        logout\n",
    "        \n",
    "        add_contact\n",
    "        add_name\n",
    "        update_name\n",
    "        update_email\n",
    "        change_email\n",
    "        change_contact\n",
    "        \n",
    "        "
   ]
  },
  {
   "cell_type": "code",
   "execution_count": 3,
   "metadata": {
    "scrolled": true
   },
   "outputs": [
    {
     "name": "stdout",
     "output_type": "stream",
     "text": [
      "<__main__.User object at 0x06638100>\n"
     ]
    }
   ],
   "source": [
    "# to define the class and object\n",
    "\n",
    "class User:    # here <class>  is class  and user: is classname\n",
    "    pass\n",
    "\n",
    "user1 = User()  # user1 is object and user() is class name\n",
    "print(user1)"
   ]
  },
  {
   "cell_type": "code",
   "execution_count": null,
   "metadata": {},
   "outputs": [],
   "source": [
    "PEP guidlines"
   ]
  },
  {
   "cell_type": "code",
   "execution_count": null,
   "metadata": {},
   "outputs": [],
   "source": [
    "Instance Variable : Every object will have its own copy of that variable"
   ]
  },
  {
   "cell_type": "code",
   "execution_count": 4,
   "metadata": {},
   "outputs": [],
   "source": [
    "class User: \n",
    "    def __init__(self,username,email,password):  # here self is called refrence to the object\n",
    "        \n",
    "        self.user_name = username\n",
    "        self.em`ail = email\n",
    "        self.password = password\n",
    "\n",
    "\n",
    "\n",
    "user1 = User(\"abc@123\",\"abc@gmail.com\",\"password@123\")\n",
    "# user(user1,\"abc@123\",\"abc@gmail.com\",\"password@123\")\n",
    "user2 = User(\"zyz@123\",\"xyz@gmail.com\",\"password@123\")"
   ]
  },
  {
   "cell_type": "code",
   "execution_count": 6,
   "metadata": {},
   "outputs": [
    {
     "name": "stdout",
     "output_type": "stream",
     "text": [
      "abc@123 abc@gmail.com password@123\n",
      "zyz@123 xyz@gmail.com password@123\n"
     ]
    }
   ],
   "source": [
    "print(user1.user_name,user1.email,user1.password)\n",
    "print(user2.user_name,user2.email,user2.password)"
   ]
  },
  {
   "cell_type": "code",
   "execution_count": null,
   "metadata": {},
   "outputs": [],
   "source": [
    "# in above programme every time a user create input something it will pass an agrument to __init__ fucnction \n",
    "# to initialize the object , but if we dont want to move to that __init__ part than,"
   ]
  },
  {
   "cell_type": "code",
   "execution_count": null,
   "metadata": {},
   "outputs": [],
   "source": []
  },
  {
   "cell_type": "code",
   "execution_count": 19,
   "metadata": {},
   "outputs": [
    {
     "name": "stdout",
     "output_type": "stream",
     "text": [
      "abc@123 abc@gmail.com password@123\n"
     ]
    }
   ],
   "source": [
    "class User:\n",
    "    def signup(self,username,email,password):\n",
    "        self.user_name = username\n",
    "        self.email = email\n",
    "        self.password = password\n",
    "\n",
    "user1 = User()\n",
    "user2 = User()\n",
    "user1.signup(\"abc@123\",\"abc@gmail.com\",\"password@123\")\n",
    "user2.signup(\"xyz@123\",\"xyz@gmail.com\",\"password@123\")\n",
    "print(user1.user_name,user1.email,user1.password)\n"
   ]
  },
  {
   "cell_type": "code",
   "execution_count": 3,
   "metadata": {},
   "outputs": [
    {
     "name": "stdout",
     "output_type": "stream",
     "text": [
      "True\n"
     ]
    }
   ],
   "source": [
    "# for login function\n",
    "\n",
    "class User:\n",
    "    def __init__(self,username,email,password):\n",
    "        \n",
    "        self.user_name = username\n",
    "        self.email = email\n",
    "        self.password = password\n",
    "        \n",
    "    def Login(self,username,password):\n",
    "        if self.user_name == username and self.password == password:\n",
    "            return True\n",
    "        else:\n",
    "            return False\n",
    "        \n",
    "    \n",
    "user1 = User(\"abc@123\",\"abc@gmail.com\",\"password@123\")\n",
    "#User(user1,\"abc@123\",\"abc@gmail.com\",\"password@123\")\n",
    "\n",
    "user2 = User(\"xyz@123\",\"xyz@gmail.com\",\"password@123\")\n",
    "#User(user2,xyz@123\",\"xyz@gmail.com\",\"password@123\")\n",
    "\n",
    "print(user1.Login(\"abc@123\",\"password@123\"))\n"
   ]
  },
  {
   "cell_type": "code",
   "execution_count": 41,
   "metadata": {},
   "outputs": [
    {
     "name": "stdout",
     "output_type": "stream",
     "text": [
      "True\n",
      "<bound method User.add_name of <__main__.User object at 0x063862C8>>\n",
      "<bound method User.add_name of <__main__.User object at 0x06386310>>\n",
      "abc@12345\n"
     ]
    }
   ],
   "source": [
    "# for addname function\n",
    "\n",
    "class User:\n",
    "    def __init__(self,username,email,password):\n",
    "        \n",
    "        self.user_name = username\n",
    "        self.email = email\n",
    "        self.password = password\n",
    "        \n",
    "    def Login(self,username,password):\n",
    "        if self.user_name == username and self.password == password:\n",
    "            return True\n",
    "        else:\n",
    "            return False\n",
    "        \n",
    "    def add_name(self,name):\n",
    "        self.name = name\n",
    "    \n",
    "    def change_password(self,new_password):\n",
    "        self.password = new_password\n",
    "        \n",
    "        \n",
    "    \n",
    "user1 = User(\"abc@123\",\"abc@gmail.com\",\"password@123\")\n",
    "#User(user1,\"abc@123\",\"abc@gmail.com\",\"password@123\")\n",
    "\n",
    "user2 = User(\"xyz@123\",\"xyz@gmail.com\",\"password@123\")\n",
    "#User(user2,xyz@123\",\"xyz@gmail.com\",\"password@123\")\n",
    "\n",
    "print(user1.Login(\"abc@123\",\"password@123\"))\n",
    "#User.Login(user1,\"abc@123\",\"password@123\")\n",
    "\n",
    "user1.add_name(\"ABC\")\n",
    "user2.add_name(\"PQR\")\n",
    "print(user1.add_name)\n",
    "print(user2.add_name)\n",
    "\n",
    "user1.change_password(\"abc@12345\")\n",
    "print(user1.password)"
   ]
  },
  {
   "cell_type": "code",
   "execution_count": null,
   "metadata": {},
   "outputs": [],
   "source": [
    "if we want to know that any userlying  variable is present or not in object\n"
   ]
  },
  {
   "cell_type": "code",
   "execution_count": 40,
   "metadata": {},
   "outputs": [
    {
     "name": "stdout",
     "output_type": "stream",
     "text": [
      "{'user_name': 'abc@123', 'email': 'abc@gmail.com', 'password': 'abc@12345', 'name': 'ABC'}\n",
      "{'user_name': 'xyz@123', 'email': 'xyz@gmail.com', 'password': 'password@123', 'name': 'PQR'}\n"
     ]
    }
   ],
   "source": [
    "print(user1.__dict__)\n",
    "print(user2.__dict__)"
   ]
  },
  {
   "cell_type": "code",
   "execution_count": 52,
   "metadata": {},
   "outputs": [
    {
     "name": "stdout",
     "output_type": "stream",
     "text": [
      "abc@123 abc@gmail.com ABC\n",
      "xyz@123 xyz@gmail.com XYZ\n",
      "qpr@123 pqr@gmail.com PQR\n",
      "rst@123 rst@gmail.com RST\n",
      "abc@123 abc@gmail.com\n",
      "<class '__main__.User'>\n"
     ]
    }
   ],
   "source": [
    "# for addname function\n",
    "\n",
    "class User:\n",
    "    def __init__(self,username,email,password):\n",
    "        \n",
    "        self.user_name = username\n",
    "        self.email = email\n",
    "        self.password = password\n",
    "        \n",
    "    def Login(self,username,password):\n",
    "        if self.user_name == username and self.password == password:\n",
    "            return True\n",
    "        else:\n",
    "            return False\n",
    "        \n",
    "    def add_name(self,name):\n",
    "        self.name = name\n",
    "    \n",
    "    def change_password(self,new_password):\n",
    "        self.password = new_password\n",
    "        \n",
    "    def __str__(self):     #this function will alwayas return string\n",
    "        return \"{} {}\".format(self.user_name,self.email)\n",
    "    \n",
    "    def Get_details(self):\n",
    "        return \"{} {} {}\".format(self.user_name,self.email,self.name)\n",
    "    \n",
    "        \n",
    "        \n",
    "    \n",
    "user1 = User(\"abc@123\",\"abc@gmail.com\",\"password@123\")\n",
    "#User(user1,\"abc@123\",\"abc@gmail.com\",\"password@123\")\n",
    "\n",
    "user2 = User(\"xyz@123\",\"xyz@gmail.com\",\"password@456\")\n",
    "#User(user2,xyz@123\",\"xyz@gmail.com\",\"password@123\")\n",
    "\n",
    "user3 = User(\"qpr@123\",\"pqr@gmail.com\",\"password@789\")\n",
    "\n",
    "user4 = User(\"rst@123\",\"rst@gmail.com\",\"password@101112\")\n",
    "\n",
    "user1.add_name(\"ABC\")\n",
    "user2.add_name(\"XYZ\")\n",
    "user3.add_name(\"PQR\")\n",
    "user4.add_name(\"RST\")\n",
    "\n",
    "users = [user1,user2,user3,user4]\n",
    "for user in users:\n",
    "    print(user.Get_details())\n",
    "\n",
    "print(user1)\n",
    "print(type(user1))\n",
    "\n",
    "\n",
    "\n",
    "#print(user1.Login(\"abc@123\",\"password@123\"))\n",
    "#User.Login(user1,\"abc@123\",\"password@123\")\n",
    "\n",
    "#user1.add_name(\"ABC\")\n",
    "#user2.add_name(\"PQR\")\n",
    "#print(user1.add_name)\n",
    "#print(user2.add_name)\n",
    "\n",
    "#user1.change_password(\"abc@12345\")\n",
    "#print(user1.password)"
   ]
  },
  {
   "cell_type": "markdown",
   "metadata": {},
   "source": [
    "# New Programme"
   ]
  },
  {
   "cell_type": "code",
   "execution_count": null,
   "metadata": {},
   "outputs": [],
   "source": [
    "student \n",
    "        name\n",
    "        roll_no\n",
    "        \n",
    "        add_marks marks = []\n",
    "        cal_result()\n",
    "        \n",
    "        All student who failed\n",
    "        Topper of the claas name,rollno,marks,percentage\n",
    "    \n",
    "    "
   ]
  },
  {
   "cell_type": "code",
   "execution_count": 48,
   "metadata": {},
   "outputs": [
    {
     "name": "stdout",
     "output_type": "stream",
     "text": [
      "[(88.2, <__main__.Student object at 0x00F80D18>), (74.2, <__main__.Student object at 0x00F80928>), (72.8, <__main__.Student object at 0x00F80DC0>), (72.2, <__main__.Student object at 0x00F80F28>), (79.60000000000001, <__main__.Student object at 0x01A339A0>), (57.4, <__main__.Student object at 0x01A339D0>)]\n",
      "Topper of the class is 1 ABC 88.2 pass\n"
     ]
    }
   ],
   "source": [
    "class Student:\n",
    "    def __init__(self,roll_no,name):\n",
    "        self.roll_no = roll_no\n",
    "        self.name = name\n",
    "        \n",
    "    def add_marks(self,marks):\n",
    "        self.marks = marks \n",
    "        \n",
    "    def cal_result(self):\n",
    "        self.per = sum(self.marks.values())/500 * 100\n",
    "        if self.per >= 40:\n",
    "            self.result = \"pass\"\n",
    "        else:\n",
    "            self.result = \"fail\"\n",
    "    \n",
    "    def get_details(self):\n",
    "        return \"{} {} {} {}\".format(str(self.roll_no),self.name,round(self.per,2),self.result)\n",
    "    \n",
    "    \n",
    "    \n",
    "stud1 = Student(1,\"ABC\")\n",
    "stud2 = Student(2,\"PQR\")\n",
    "stud3 = Student(3,\"RST\")\n",
    "stud4 = Student(4,\"XYZ\")\n",
    "stud5 = Student(5,\"PPP\")\n",
    "stud6 = Student(6,\"TTT\")\n",
    "\n",
    "stud1.add_marks({\"eng\":78,\"maths\":88,\"his\":88,\"sci\":88,\"geo\":99})\n",
    "stud2.add_marks({\"eng\":68,\"maths\":78,\"his\":98,\"sci\":48,\"geo\":79})\n",
    "stud3.add_marks({\"eng\":98,\"maths\":68,\"his\":48,\"sci\":81,\"geo\":69})\n",
    "stud4.add_marks({\"eng\":58,\"maths\":68,\"his\":78,\"sci\":88,\"geo\":69})\n",
    "stud5.add_marks({\"eng\":100,\"maths\":88,\"his\":48,\"sci\":83,\"geo\":79})\n",
    "stud6.add_marks({\"eng\":55,\"maths\":67,\"his\":78,\"sci\":38,\"geo\":49})\n",
    "\n",
    "students = [stud1,stud2,stud3,stud4,stud5,stud6]\n",
    "for student in students:\n",
    "    student.cal_result()\n",
    "\n",
    "#print(stud1.per,stud1.result)\n",
    "#print(stud1.get_details)\n",
    "\n",
    "\n",
    "#failed students \n",
    "\n",
    "# for student in students:\n",
    "#     if student.result == \"fail\":\n",
    "#         print(student.get_details())\n",
    "        \n",
    "student_per = [(std.per,std) for std in students if std.result == \"pass\"]\n",
    "print(student_per)\n",
    "topper = max(student_per,key = lambda t : t[0])\n",
    "print(\"Topper of the class is\",topper[1].get_details())"
   ]
  },
  {
   "cell_type": "code",
   "execution_count": null,
   "metadata": {},
   "outputs": [],
   "source": [
    "#Quick Revise\n",
    "\n",
    "class class_name:\n",
    "    def __init__(self,value1,value2)\n",
    "    self.val_name = val1  # each object has its own copy of <instance variable>\n",
    "    \n",
    "    def __str__ (self):\n",
    "        return str\n",
    "    \n",
    "obj_name = class_name(\"ABC\",\"PQR\")"
   ]
  }
 ],
 "metadata": {
  "kernelspec": {
   "display_name": "Python 3",
   "language": "python",
   "name": "python3"
  },
  "language_info": {
   "codemirror_mode": {
    "name": "ipython",
    "version": 3
   },
   "file_extension": ".py",
   "mimetype": "text/x-python",
   "name": "python",
   "nbconvert_exporter": "python",
   "pygments_lexer": "ipython3",
   "version": "3.8.2"
  }
 },
 "nbformat": 4,
 "nbformat_minor": 4
}
