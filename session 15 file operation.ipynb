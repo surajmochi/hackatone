{
 "cells": [
  {
   "cell_type": "code",
   "execution_count": null,
   "metadata": {},
   "outputs": [],
   "source": [
    "fuction types\n",
    "\n",
    "    1. postional \n",
    "    2. Default\n",
    "    3. keyword\n",
    "    4. variable positional *args => tuple\n",
    "    5. variable keyword **args => dict\n",
    "    "
   ]
  },
  {
   "cell_type": "code",
   "execution_count": null,
   "metadata": {},
   "outputs": [],
   "source": [
    "from pkg1.pkg2 import mod1.func/class\n",
    "import pkg1.pkg2.mod"
   ]
  },
  {
   "cell_type": "code",
   "execution_count": null,
   "metadata": {},
   "outputs": [],
   "source": [
    "\"\"\"Doc_string\"\"\"\n",
    "\n",
    "def add():\n",
    "    \"\"\"func description\"\"\"\n",
    "    "
   ]
  },
  {
   "cell_type": "code",
   "execution_count": null,
   "metadata": {},
   "outputs": [],
   "source": [
    "__name__ = '__main__'\n",
    "#local function call\n",
    "\n",
    "if __name__ = '__main__':\n",
    "# global function call    "
   ]
  },
  {
   "cell_type": "code",
   "execution_count": null,
   "metadata": {},
   "outputs": [],
   "source": [
    "l = [1,2,3]\n",
    "l.pop(2) ==> remove int on the basis of #index\n",
    "l.remove(2) => remove int on the basis of #value"
   ]
  },
  {
   "cell_type": "code",
   "execution_count": null,
   "metadata": {},
   "outputs": [],
   "source": [
    "d = {}\n",
    "l = [10,20,30]\n",
    "d = {[10,20,30]:3}\n",
    "\n",
    "-- all the keys should be unique\n",
    "-- all the keys should be immutable\n",
    "\n"
   ]
  },
  {
   "cell_type": "code",
   "execution_count": 4,
   "metadata": {},
   "outputs": [],
   "source": [
    "l1 = [10,20,30]\n",
    "l2 = list(l1)"
   ]
  },
  {
   "cell_type": "code",
   "execution_count": null,
   "metadata": {},
   "outputs": [],
   "source": []
  },
  {
   "cell_type": "markdown",
   "metadata": {},
   "source": [
    "# File operations : TXT files"
   ]
  },
  {
   "cell_type": "code",
   "execution_count": null,
   "metadata": {},
   "outputs": [],
   "source": [
    "diffrent modes :\n",
    "    r  : read\n",
    "    r+ : read + write\n",
    "    \n",
    "    w  : write\n",
    "    w+ : write + read\n",
    "    \n",
    "    a  : append\n",
    "    a+\n",
    "    \n",
    "syntax :\n",
    "    \n",
    "        fp = open(\"filename.txt\",\"mode\")"
   ]
  },
  {
   "cell_type": "markdown",
   "metadata": {},
   "source": [
    "\n",
    "# Read operation"
   ]
  },
  {
   "cell_type": "code",
   "execution_count": 11,
   "metadata": {},
   "outputs": [
    {
     "name": "stdout",
     "output_type": "stream",
     "text": [
      "<class 'str'>\n"
     ]
    }
   ],
   "source": [
    "fp = open(\"sample.txt\",\"r\") #here fp is reference to the open and name as file pointer\n",
    "content = fp.read()\n",
    "print(type(content))\n",
    "fp.close()"
   ]
  },
  {
   "cell_type": "code",
   "execution_count": null,
   "metadata": {},
   "outputs": [],
   "source": []
  },
  {
   "cell_type": "code",
   "execution_count": 15,
   "metadata": {},
   "outputs": [
    {
     "name": "stdout",
     "output_type": "stream",
     "text": [
      "sample tex\n",
      "t file line1\n",
      "sample \n"
     ]
    }
   ],
   "source": [
    "# for print iterable sting from 1st to that character\n",
    "\n",
    "fp = open(\"sample.txt\",\"r\")\n",
    "content = fp.read(10)\n",
    "print(content)\n",
    "\n",
    "content = fp.read(20)\n",
    "print(content)\n",
    "fp.close()"
   ]
  },
  {
   "cell_type": "code",
   "execution_count": 19,
   "metadata": {},
   "outputs": [
    {
     "name": "stdout",
     "output_type": "stream",
     "text": [
      "sample text file line1sample text file line1sample text file line1sample text file line1sample text file line1sample text file line1sample text file line1sample text file line1sample text file line1sample text file line1\n",
      "\n",
      "['sample text file line2\\n', 'sample text file line3\\n', 'sample text file line4\\n', 'sample text file line5\\n', 'sample text file line6']\n"
     ]
    }
   ],
   "source": [
    "# readline only print one line at the time\n",
    "\n",
    "fp = open(\"sample.txt\",\"r\")\n",
    "content = fp.readline()\n",
    "print((content))\n",
    "\n",
    "content = fp.readlines() #multiple lines\n",
    "print((content))\n",
    "fp.close()"
   ]
  },
  {
   "cell_type": "code",
   "execution_count": 28,
   "metadata": {},
   "outputs": [
    {
     "name": "stdout",
     "output_type": "stream",
     "text": [
      "['sample text file line1sample text file line1sample text file line1sample text file line1sample text file line1sample text file line1sample text file line1sample text file line1sample text file line1sample text file line1\\n']\n"
     ]
    }
   ],
   "source": [
    "# Readlines will print all the lines from top to bottom\n",
    "# and split on the basic of \\n (every line is one list)\n",
    "  # you can perform indexing and slicing here\n",
    "\n",
    "fp = open(\"sample.txt\",\"r\")\n",
    "content = fp.readlines(10)\n",
    "print((content[:1]))\n",
    "\n",
    "fp.close()"
   ]
  },
  {
   "cell_type": "code",
   "execution_count": 30,
   "metadata": {},
   "outputs": [
    {
     "name": "stdout",
     "output_type": "stream",
     "text": [
      "6\n"
     ]
    }
   ],
   "source": [
    "# len of the lines from 0 to n\n",
    "\n",
    "fp = open(\"sample.txt\",\"r\")\n",
    "content = fp.readlines()\n",
    "print(len(content))\n",
    "\n",
    "fp.close()"
   ]
  },
  {
   "cell_type": "code",
   "execution_count": 33,
   "metadata": {},
   "outputs": [
    {
     "name": "stdout",
     "output_type": "stream",
     "text": [
      "sample text file line1sample text file line1sample text file line1sample text file line1sample text file line1sample text file line1sample text file line1sample text file line1sample text file line1sample text file line1\n",
      "\n",
      "sample text file line2\n",
      "\n",
      "sample text file line3\n",
      "\n",
      "sample text file line4\n",
      "\n",
      "sample text file line5\n",
      "\n",
      "sample text file line6\n"
     ]
    }
   ],
   "source": [
    "fp = open(\"sample.txt\",\"r\")\n",
    "#content = fp.readlines()\n",
    "#print(len(content))\n",
    "\n",
    "for x in fp:\n",
    "    print(x)\n",
    "fp.close()"
   ]
  },
  {
   "cell_type": "code",
   "execution_count": 34,
   "metadata": {},
   "outputs": [
    {
     "name": "stdout",
     "output_type": "stream",
     "text": [
      "<_io.TextIOWrapper name='sample.txt' mode='r' encoding='cp1252'>\n",
      "sample text file line1sample text file line1sample text file line1sample text file line1sample text file line1sample text file line1sample text file line1sample text file line1sample text file line1sample text file line1\n",
      "\n"
     ]
    }
   ],
   "source": [
    "fp = open(\"sample.txt\",\"r\")\n",
    "print(fp)\n",
    "print(next(fp))\n",
    "\n",
    "fp.close()"
   ]
  },
  {
   "cell_type": "markdown",
   "metadata": {},
   "source": [
    "# Write\n",
    "\n",
    "#if you want to store any data in a particular text file if file is empty\n",
    "\n",
    "* warning :  when you open any data in write mode it will wipe all the data. XOXO"
   ]
  },
  {
   "cell_type": "code",
   "execution_count": 35,
   "metadata": {},
   "outputs": [],
   "source": [
    "fp = open(\"sample2.txt\",\"w\")\n",
    "fp.write(\"add this line to sample2.txt\")\n",
    "fp.close()"
   ]
  },
  {
   "cell_type": "code",
   "execution_count": 39,
   "metadata": {},
   "outputs": [],
   "source": [
    "fp = open(\"sample2.txt\",\"w\")\n",
    "fp.write(\"trying to write a content to sample2.txt\")\n",
    "fp.close()"
   ]
  },
  {
   "cell_type": "code",
   "execution_count": 12,
   "metadata": {},
   "outputs": [
    {
     "name": "stdout",
     "output_type": "stream",
     "text": [
      "0\n",
      "9\n",
      "41\n",
      " write new content to sample.txt\n"
     ]
    }
   ],
   "source": [
    "# only write function will allow to create a file\n",
    " # if you want that file to read too than you have to use \"W+\" operation\n",
    "\n",
    "fp = open(\"sample2.txt\",\"w+\")\n",
    "print(fp.tell())\n",
    "fp.write(\"trying to write new content to sample.txt\")\n",
    "fp.seek(9)\n",
    "print(fp.tell())\n",
    "\n",
    "r = fp.read()\n",
    "print(fp.tell())\n",
    "print(r)\n",
    "fp.close()\n"
   ]
  },
  {
   "cell_type": "markdown",
   "metadata": {},
   "source": [
    "r+ : read + write     #it will maintain old contain (file must already exist)\n",
    "\n",
    "\n",
    "w+ : write + read     #it will wipe up all the content"
   ]
  },
  {
   "cell_type": "code",
   "execution_count": null,
   "metadata": {},
   "outputs": [],
   "source": []
  },
  {
   "cell_type": "code",
   "execution_count": null,
   "metadata": {},
   "outputs": [],
   "source": [
    "tell() : current fp position\n",
    "seek() : to change the fp position\n",
    "            <offset,position>\n",
    "        0  : start of the file\n",
    "        1 : current position\n",
    "        2 : end of the file\n",
    "    \n",
    "offset : how many character you want to move\n",
    "seek(15,0)\n",
    "seek(0,0)  : start of file\n",
    "seek(0,2)  : move the file zero character to end of file\n",
    "seek(15,1) : "
   ]
  },
  {
   "cell_type": "code",
   "execution_count": null,
   "metadata": {},
   "outputs": [],
   "source": [
    "# if i want to read and write a file which is located in other path directory then,\n",
    "\n",
    "fp = open(\"path_file.txt\",\"r\",encoding = 'utf-8') # here utf is for encoding other character which is in diffrent form\n",
    "content = fp.read()\n",
    "print(content)\n",
    "fp.close()"
   ]
  },
  {
   "cell_type": "code",
   "execution_count": null,
   "metadata": {},
   "outputs": [],
   "source": [
    "fp = open(\"path_file.txt\",\"r\",encoding = 'utf-8') # here utf is for encoding other character which is in diffrent form\n",
    "#content = fp.read()\n",
    "#print(content)\n",
    "data = \"\"\" the whole text\n",
    "\n",
    "\"\"\"\n",
    "fp.write(data)\n",
    "print(fp.tell())\n",
    "fp.close()"
   ]
  },
  {
   "cell_type": "markdown",
   "metadata": {},
   "source": [
    "#append and append+\n",
    "\n",
    "this will tell position at the end of the file\n",
    "\n",
    "and in this operation we can only add text in the end"
   ]
  },
  {
   "cell_type": "code",
   "execution_count": null,
   "metadata": {},
   "outputs": [],
   "source": [
    "fp = open(\"path_file.txt\",'a')\n",
    "print(fp.tell()) #position\n",
    "fp.write(\"\\n \\nadd seek(15,1) to next release \")\n",
    "fp.close()"
   ]
  },
  {
   "cell_type": "code",
   "execution_count": null,
   "metadata": {},
   "outputs": [],
   "source": [
    "# to perform read funtion also for append \n",
    "# than use Append+ a+"
   ]
  },
  {
   "cell_type": "code",
   "execution_count": null,
   "metadata": {},
   "outputs": [],
   "source": [
    "fp = open(\"path_file.txt\",'a')\n",
    "print(fp.tell()) #position\n",
    "fp.writelines([\"\\n \\nadd seek(15,1) to next release\\n]\")\n",
    "fp.seek(0)\n",
    "r = fp.read()\n",
    "print(r)\n",
    "fp.close()"
   ]
  },
  {
   "cell_type": "code",
   "execution_count": null,
   "metadata": {},
   "outputs": [],
   "source": []
  },
  {
   "cell_type": "markdown",
   "metadata": {},
   "source": [
    "# create two diffrent files and print the output as the combination of that two\n",
    "\n"
   ]
  },
  {
   "cell_type": "code",
   "execution_count": 10,
   "metadata": {},
   "outputs": [
    {
     "name": "stdout",
     "output_type": "stream",
     "text": [
      "369\n",
      "\n",
      " PEP 578: Python Runtime Audit HooksThe\n",
      "PEP adds an Audit Hook and Verified Open Hook. \n",
      "Both are available from Python and native code,\n",
      "allowing applications and frameworks written in pure Python code to take advantage of extra notifications,\n",
      "while also allowing embedders or system administrators to deploy builds of Python where auditing is always enabled.\n",
      " \n",
      "\n"
     ]
    }
   ],
   "source": [
    "fp = open(\"sample11.txt\",'w+' , encoding='utf-8')\n",
    "fp.write(\"\"\"\\n PEP 578: Python Runtime Audit HooksThe\n",
    "PEP adds an Audit Hook and Verified Open Hook. \n",
    "Both are available from Python and native code,\n",
    "allowing applications and frameworks written in pure Python code to take advantage of extra notifications,\n",
    "while also allowing embedders or system administrators to deploy builds of Python where auditing is always enabled.\\n \\n\"\"\")\n",
    "fp.seek(0)\n",
    "\n",
    "r = fp.read()\n",
    "print(fp.tell())\n",
    "print(r)\n",
    "fp.close()\n"
   ]
  },
  {
   "cell_type": "code",
   "execution_count": 12,
   "metadata": {},
   "outputs": [
    {
     "name": "stdout",
     "output_type": "stream",
     "text": [
      "499\n",
      "\n"
     ]
    }
   ],
   "source": [
    "fp = open(\"sample12.txt\",'w+',encoding='utf-8')\n",
    "fp.write('''See PEP 578 for full details.\n",
    "PEP 587: Python Initialization Configuration\n",
    "The PEP 587 adds a new C API to configure the Python Initialization providing finer control on the whole configuration and better error reporting.\n",
    "New structures:\n",
    "    PyConfig\n",
    "    PyPreConfig\n",
    "    PyStatus\n",
    "    PyWideStringList\n",
    "\n",
    "New functions:\n",
    "PyConfig_Clear()\n",
    "    PyConfig_InitIsolatedConfig()\n",
    "    PyConfig_InitPythonConfig()\n",
    "    PyConfig_Read()\n",
    "    PyConfig_SetArgv()\n",
    "    PyConfig_SetBytesArgv()\n",
    "    PyConfig''')\n",
    "\n",
    "r = fp.read()\n",
    "fp.tell()\n",
    "print(fp.tell())\n",
    "print(r)\n",
    "\n",
    "fp.close()"
   ]
  },
  {
   "cell_type": "code",
   "execution_count": 18,
   "metadata": {},
   "outputs": [
    {
     "ename": "TypeError",
     "evalue": "an integer is required (got type str)",
     "output_type": "error",
     "traceback": [
      "\u001b[1;31m---------------------------------------------------------------------------\u001b[0m",
      "\u001b[1;31mTypeError\u001b[0m                                 Traceback (most recent call last)",
      "\u001b[1;32m<ipython-input-18-3e922f0210db>\u001b[0m in \u001b[0;36m<module>\u001b[1;34m\u001b[0m\n\u001b[1;32m----> 1\u001b[1;33m \u001b[0mfp\u001b[0m \u001b[1;33m=\u001b[0m \u001b[0mopen\u001b[0m\u001b[1;33m(\u001b[0m\u001b[1;34m\"sample11.txt\"\u001b[0m\u001b[1;33m,\u001b[0m\u001b[1;34m\"sample12.txt\"\u001b[0m\u001b[1;33m,\u001b[0m \u001b[1;34m'a+'\u001b[0m \u001b[1;33m,\u001b[0m \u001b[0mencoding\u001b[0m\u001b[1;33m=\u001b[0m\u001b[1;34m'utf-8'\u001b[0m\u001b[1;33m)\u001b[0m\u001b[1;33m\u001b[0m\u001b[1;33m\u001b[0m\u001b[0m\n\u001b[0m\u001b[0;32m      2\u001b[0m \u001b[0mfp\u001b[0m\u001b[1;33m.\u001b[0m\u001b[0mwritelines\u001b[0m\u001b[1;33m(\u001b[0m\u001b[1;34m\"sample11.txt\"\u001b[0m\u001b[1;33m,\u001b[0m\u001b[1;34m\"sample12.txt\"\u001b[0m\u001b[1;33m)\u001b[0m\u001b[1;33m\u001b[0m\u001b[1;33m\u001b[0m\u001b[0m\n\u001b[0;32m      3\u001b[0m \u001b[0mr\u001b[0m \u001b[1;33m=\u001b[0m \u001b[0mfp\u001b[0m\u001b[1;33m.\u001b[0m\u001b[0mwritelines\u001b[0m\u001b[1;33m(\u001b[0m\u001b[1;33m)\u001b[0m\u001b[1;33m\u001b[0m\u001b[1;33m\u001b[0m\u001b[0m\n\u001b[0;32m      4\u001b[0m \u001b[0mfp\u001b[0m\u001b[1;33m.\u001b[0m\u001b[0mtell\u001b[0m\u001b[1;33m(\u001b[0m\u001b[1;33m)\u001b[0m\u001b[1;33m\u001b[0m\u001b[1;33m\u001b[0m\u001b[0m\n\u001b[0;32m      5\u001b[0m \u001b[0mprint\u001b[0m\u001b[1;33m(\u001b[0m\u001b[0mr\u001b[0m\u001b[1;33m)\u001b[0m\u001b[1;33m\u001b[0m\u001b[1;33m\u001b[0m\u001b[0m\n",
      "\u001b[1;31mTypeError\u001b[0m: an integer is required (got type str)"
     ]
    }
   ],
   "source": [
    "fp = open(\"sample11.txt\",\"sample12.txt\", 'a+' , encoding='utf-8')\n",
    "fp.writelines(\"sample11.txt\",\"sample12.txt\")\n",
    "r = fp.writelines()\n",
    "fp.tell()\n",
    "print(r)\n",
    "fp.close()"
   ]
  }
 ],
 "metadata": {
  "kernelspec": {
   "display_name": "Python 3",
   "language": "python",
   "name": "python3"
  },
  "language_info": {
   "codemirror_mode": {
    "name": "ipython",
    "version": 3
   },
   "file_extension": ".py",
   "mimetype": "text/x-python",
   "name": "python",
   "nbconvert_exporter": "python",
   "pygments_lexer": "ipython3",
   "version": "3.8.2"
  }
 },
 "nbformat": 4,
 "nbformat_minor": 4
}
