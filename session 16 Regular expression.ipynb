{
 "cells": [
  {
   "cell_type": "markdown",
   "metadata": {},
   "source": [
    "### Regular Expression"
   ]
  },
  {
   "cell_type": "code",
   "execution_count": null,
   "metadata": {},
   "outputs": [],
   "source": [
    "why we need rg\n",
    "\n",
    "1. pattern extraction\n",
    "2. pattern validation\n",
    "\n"
   ]
  },
  {
   "cell_type": "code",
   "execution_count": 5,
   "metadata": {},
   "outputs": [],
   "source": [
    "import re  # this is the method to import regular expression"
   ]
  },
  {
   "cell_type": "code",
   "execution_count": 2,
   "metadata": {},
   "outputs": [
    {
     "name": "stdout",
     "output_type": "stream",
     "text": [
      "['ab', 'ab', 'ab', 'ab']\n"
     ]
    }
   ],
   "source": [
    "# if i want to find the particular string character in rg,then\n",
    "\n",
    "s = \"ababaacdfegabafdfaab\"\n",
    "r = re.compile(\"ab\") # this will compile the string first\n",
    "l = re.findall(r,s) # this will find all the character in refrence to compile first(rg,string)\n",
    "print(l)"
   ]
  },
  {
   "cell_type": "code",
   "execution_count": null,
   "metadata": {},
   "outputs": [],
   "source": [
    "Regx Metachar :\n",
    "    \n",
    "     .    -> match will all the character(alpha,digit,specialchars) => single occurence\n",
    "[A-Za-z]  -> match with only alpha => single occurence\n",
    "    [0-9] -> digit class => single occurence  # always only [0-9] or below\n",
    "    +     -> atleast once occurence \n",
    "    *     -> zero or more\n",
    "    ^     -> start of the string\n",
    "    &     -> end of the string\n",
    "[a-z]{5}  -> \n",
    "[0-9]{0,5}minimum,maximum\n",
    "    ?   -> optional"
   ]
  },
  {
   "cell_type": "code",
   "execution_count": 3,
   "metadata": {},
   "outputs": [
    {
     "name": "stdout",
     "output_type": "stream",
     "text": [
      "['a', 'b', 'c', 'd', '1', '2', '3', '4', '!', '@']\n"
     ]
    }
   ],
   "source": [
    "s = \"abcd1234!@\"\n",
    "r = re.compile(\".\") \n",
    "l = re.findall(r,s)\n",
    "print(l)"
   ]
  },
  {
   "cell_type": "code",
   "execution_count": 5,
   "metadata": {},
   "outputs": [
    {
     "name": "stdout",
     "output_type": "stream",
     "text": [
      "['a', 'b', 'c', 'd']\n"
     ]
    }
   ],
   "source": [
    "s = \"abcd1234!@\"\n",
    "r = re.compile(\"[a-z]\")\n",
    "l = re.findall(r,s)\n",
    "print(l)"
   ]
  },
  {
   "cell_type": "code",
   "execution_count": 7,
   "metadata": {},
   "outputs": [
    {
     "name": "stdout",
     "output_type": "stream",
     "text": [
      "['A', 'B', 'C', 'D', 'a', 'b', 'c', 'd']\n"
     ]
    }
   ],
   "source": [
    "s = \"ABCDabcd1234!@\"\n",
    "r = re.compile(\"[A-Za-z]\")\n",
    "l = re.findall(r,s)\n",
    "print(l)"
   ]
  },
  {
   "cell_type": "code",
   "execution_count": 8,
   "metadata": {},
   "outputs": [
    {
     "name": "stdout",
     "output_type": "stream",
     "text": [
      "['1', '2', '3', '4']\n"
     ]
    }
   ],
   "source": [
    "s = \"ABCDabcd1234!@\"\n",
    "r = re.compile(\"[0-9]\")\n",
    "l = re.findall(r,s)\n",
    "print(l)"
   ]
  },
  {
   "cell_type": "code",
   "execution_count": 9,
   "metadata": {},
   "outputs": [
    {
     "name": "stdout",
     "output_type": "stream",
     "text": [
      "['1234', '45678']\n"
     ]
    }
   ],
   "source": [
    "s = \"ABCDabcd1234!@45678\"\n",
    "r = re.compile(\"[0-9]+\") #first check all conscutive and 2nd other consecutive\n",
    "l = re.findall(r,s)\n",
    "print(l)"
   ]
  },
  {
   "cell_type": "code",
   "execution_count": 10,
   "metadata": {},
   "outputs": [
    {
     "name": "stdout",
     "output_type": "stream",
     "text": [
      "[]\n"
     ]
    }
   ],
   "source": [
    "s = \"ABCDabcd!@\" # if nothing match it gives empty string\n",
    "r = re.compile(\"[0-9]\")\n",
    "l = re.findall(r,s)\n",
    "print(l)"
   ]
  },
  {
   "cell_type": "code",
   "execution_count": 12,
   "metadata": {},
   "outputs": [
    {
     "name": "stdout",
     "output_type": "stream",
     "text": [
      "['d1']\n"
     ]
    }
   ],
   "source": [
    "s = \"abcd1234\"\n",
    "r = re.compile(\"[a-z][0-9]\") # match one alpha + digit example <d1>\n",
    "l = re.findall(r,s)\n",
    "print(l)"
   ]
  },
  {
   "cell_type": "code",
   "execution_count": 15,
   "metadata": {},
   "outputs": [
    {
     "name": "stdout",
     "output_type": "stream",
     "text": [
      "['ABCDabcd1']\n"
     ]
    }
   ],
   "source": [
    "s = \"ABCDabcd1234!@\"\n",
    "r = re.compile(\"[A-Za-z]+[0-9]\") # for entire string to be print put + the end also\n",
    "l = re.findall(r,s)\n",
    "print(l)"
   ]
  },
  {
   "cell_type": "code",
   "execution_count": 19,
   "metadata": {},
   "outputs": [
    {
     "name": "stdout",
     "output_type": "stream",
     "text": [
      "['abcd1', '2', '3', '4']\n"
     ]
    }
   ],
   "source": [
    "s = \"abcd1234!@\"\n",
    "r = re.compile(\"[a-z]*[0-9]\")\n",
    "l = re.findall(r,s)\n",
    "print(l)"
   ]
  },
  {
   "cell_type": "code",
   "execution_count": 30,
   "metadata": {},
   "outputs": [
    {
     "name": "stdout",
     "output_type": "stream",
     "text": [
      "['xyz12']\n"
     ]
    }
   ],
   "source": [
    "s = \"xyz12ab34!@\"\n",
    "r = re.compile(\"^[a-z]+[0-9]+\")\n",
    "l = re.findall(r,s)\n",
    "print(l)"
   ]
  },
  {
   "cell_type": "code",
   "execution_count": 37,
   "metadata": {},
   "outputs": [
    {
     "name": "stdout",
     "output_type": "stream",
     "text": [
      "[]\n"
     ]
    }
   ],
   "source": [
    "s = \"abcd1234xyz789\"\n",
    "r = re.compile(\"^[a-z]+[0-9]+&\") #string should end with this last expression\n",
    "l = re.findall(r,s)\n",
    "print(l)"
   ]
  },
  {
   "cell_type": "code",
   "execution_count": null,
   "metadata": {},
   "outputs": [],
   "source": []
  },
  {
   "cell_type": "code",
   "execution_count": 47,
   "metadata": {},
   "outputs": [
    {
     "name": "stdout",
     "output_type": "stream",
     "text": [
      "['abc1234', 'xyz789']\n"
     ]
    }
   ],
   "source": [
    "s = \"abc1234xyz789\"\n",
    "r = re.compile(\"[a-z]{3,4}[0-9]{3,4}\")\n",
    "l = re.findall(r,s)\n",
    "print(l)"
   ]
  },
  {
   "cell_type": "code",
   "execution_count": 49,
   "metadata": {},
   "outputs": [
    {
     "name": "stdout",
     "output_type": "stream",
     "text": [
      "<re.Match object; span=(0, 7), match='abc1234'>\n"
     ]
    }
   ],
   "source": [
    "s = \"abc1234xyz789\"\n",
    "r = re.compile(\"[a-z]{3,4}[0-9]{3,4}\")\n",
    "l = re.search(r,s) # search will only look for first occurence of this whole upper pattern (return match object)\n",
    "print(l)"
   ]
  },
  {
   "cell_type": "code",
   "execution_count": 81,
   "metadata": {},
   "outputs": [
    {
     "name": "stdout",
     "output_type": "stream",
     "text": [
      "pattern not found\n"
     ]
    }
   ],
   "source": [
    "s = \"abc123xyz789\"\n",
    "r = re.compile(\"[a-z]{4}[0-9]{4}\")\n",
    "m = re.search(r,s)\n",
    "if m:\n",
    "    print(m.group())\n",
    "else:\n",
    "    print(\"pattern not found\")"
   ]
  },
  {
   "cell_type": "code",
   "execution_count": null,
   "metadata": {},
   "outputs": [],
   "source": []
  },
  {
   "cell_type": "code",
   "execution_count": 7,
   "metadata": {},
   "outputs": [
    {
     "name": "stdout",
     "output_type": "stream",
     "text": [
      "invalid pattern\n"
     ]
    }
   ],
   "source": [
    "s = \"1234ABCDE1234A564\"\n",
    "r = re.compile(\"^[A-Z]{5}[0-9]{4}[A-Z]&\")\n",
    "m = re.search(r,s)\n",
    "if m:\n",
    "    print(m.group())\n",
    "else:\n",
    "    print(\"invalid pattern\")"
   ]
  },
  {
   "cell_type": "code",
   "execution_count": 9,
   "metadata": {},
   "outputs": [
    {
     "name": "stdout",
     "output_type": "stream",
     "text": [
      "abc12@xyz.com\n"
     ]
    }
   ],
   "source": [
    "s = \"abc12@xyz.com\"\n",
    "r = re.compile(\"^[a-z0-9]+@[a-z0-9]+.com$\")\n",
    "m = re.search(r,s)\n",
    "if m:\n",
    "    print(m.group())\n",
    "else:\n",
    "    print(\"invalid\")"
   ]
  },
  {
   "cell_type": "markdown",
   "metadata": {},
   "source": [
    "# dd-mm-yy"
   ]
  },
  {
   "cell_type": "code",
   "execution_count": 35,
   "metadata": {},
   "outputs": [
    {
     "name": "stdout",
     "output_type": "stream",
     "text": [
      "2019\n"
     ]
    }
   ],
   "source": [
    "s = \"12-06-2019\"\n",
    "r = re.compile(\"(?P<day>[0-9]{2})-(?P<month>[0-9]{2})-(?P<year>[0-9]{4})\")\n",
    "s = re.search(r,s)\n",
    "if s:\n",
    "    print(s.group(\"year\"))\n",
    "else:\n",
    "    print(\"invalid date\")"
   ]
  },
  {
   "cell_type": "code",
   "execution_count": 21,
   "metadata": {},
   "outputs": [
    {
     "name": "stdout",
     "output_type": "stream",
     "text": [
      "<re.Match object; span=(0, 15), match='(+91)6432045609'>\n",
      "6432045609\n"
     ]
    }
   ],
   "source": [
    "s = \"(+91)6432045609\"\n",
    "r = re.compile(\"^(\\(\\+91\\))?([6-9][0-9]{9})\")\n",
    "m = re.search(r,s)\n",
    "print(m)\n",
    "if m:\n",
    "    print(m.group(2))\n",
    "else:\n",
    "    print(\"invalid\")"
   ]
  },
  {
   "cell_type": "code",
   "execution_count": 32,
   "metadata": {
    "scrolled": true
   },
   "outputs": [
    {
     "name": "stdout",
     "output_type": "stream",
     "text": [
      "<re.Match object; span=(0, 15), match='(+91)6432045609'>\n",
      "6432045609\n"
     ]
    }
   ],
   "source": [
    "# ?P<name>  this is used for defining the name along with value\n",
    "\n",
    "s = \"(+91)6432045609\"\n",
    "r = re.compile(\"^(?P<c_code>\\(\\+91\\))?(?P<number>[6-9][0-9]{9})$\")\n",
    "m = re.search(r,s)\n",
    "print(m)\n",
    "if m:\n",
    "    print(m.group('number'))\n",
    "else:\n",
    "    print(\"invalid\")"
   ]
  },
  {
   "cell_type": "code",
   "execution_count": 37,
   "metadata": {
    "scrolled": true
   },
   "outputs": [
    {
     "name": "stdout",
     "output_type": "stream",
     "text": [
      "abcd\n"
     ]
    }
   ],
   "source": [
    "# if we put carrat inside that will print opposite of that value\n",
    "\n",
    "s = \"abcd1234\"\n",
    "r = re.compile(\"[^0-9]+\")\n",
    "m = re.search(r,s)\n",
    "print(m.group())\n"
   ]
  },
  {
   "cell_type": "code",
   "execution_count": null,
   "metadata": {},
   "outputs": [],
   "source": [
    "[0-9a-zA-z]  => \\w\n",
    "[^0-9a-zA-z] => \\W\n",
    "\n",
    "[0-9] = \\d\n",
    "[^0-9] => \\D\n",
    "\n",
    "\\s => space\n",
    "\\S => exept than space\n"
   ]
  },
  {
   "cell_type": "code",
   "execution_count": 39,
   "metadata": {},
   "outputs": [
    {
     "name": "stdout",
     "output_type": "stream",
     "text": [
      "['abcd']\n"
     ]
    }
   ],
   "source": [
    "# if we want to ignore the case sensitive\n",
    "  # <re.I> flag will be use\n",
    "s = \"abcd1234\"\n",
    "r = re.compile(\"[A-Z]+\",re.I)\n",
    "m = re.findall(r,s)\n",
    "print(m)"
   ]
  },
  {
   "cell_type": "code",
   "execution_count": 48,
   "metadata": {},
   "outputs": [
    {
     "name": "stdout",
     "output_type": "stream",
     "text": [
      "['xyz', 'abcd']\n"
     ]
    }
   ],
   "source": [
    "# for multiline string\n",
    "\n",
    "s = \"\"\"xyz12345 \\n\n",
    "abcd1234\n",
    "\"\"\"\n",
    "r = re.compile(\"[a-z]+\")\n",
    "m = re.findall(r,s)\n",
    "print(m)"
   ]
  },
  {
   "cell_type": "code",
   "execution_count": null,
   "metadata": {},
   "outputs": [],
   "source": [
    "1. date validation 32-13-2019  including leap year\n",
    "2. Email validation for .and _ \n",
    "3. Url replacement\n",
    "4. combining two files => regex"
   ]
  }
 ],
 "metadata": {
  "kernelspec": {
   "display_name": "Python 3",
   "language": "python",
   "name": "python3"
  },
  "language_info": {
   "codemirror_mode": {
    "name": "ipython",
    "version": 3
   },
   "file_extension": ".py",
   "mimetype": "text/x-python",
   "name": "python",
   "nbconvert_exporter": "python",
   "pygments_lexer": "ipython3",
   "version": "3.8.2"
  }
 },
 "nbformat": 4,
 "nbformat_minor": 4
}
