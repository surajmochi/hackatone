{
 "cells": [
  {
   "cell_type": "code",
   "execution_count": 3,
   "metadata": {},
   "outputs": [
    {
     "ename": "SyntaxError",
     "evalue": "invalid syntax (<ipython-input-3-f59784190d15>, line 30)",
     "output_type": "error",
     "traceback": [
      "\u001b[1;36m  File \u001b[1;32m\"<ipython-input-3-f59784190d15>\"\u001b[1;36m, line \u001b[1;32m30\u001b[0m\n\u001b[1;33m    print conn.send_config_set(config_list)\u001b[0m\n\u001b[1;37m          ^\u001b[0m\n\u001b[1;31mSyntaxError\u001b[0m\u001b[1;31m:\u001b[0m invalid syntax\n"
     ]
    }
   ],
   "source": [
    "\n",
    "import yaml\n",
    "from pprint import pprint\n",
    "from netmiko import ConnectHandler\n",
    "\n",
    "\n",
    "def read_yaml(yaml_file):\n",
    "    with open(yaml_file) as f:\n",
    "        inventory = f.read()\n",
    "\n",
    "        inventory_dict = yaml.load(inventory)\n",
    "        return inventory_dict\n",
    "\n",
    "def device_connection(router_ip):\n",
    "    device = {\n",
    "        \"device_type\" : \"cisco_ios\",\n",
    "        \"ip\" : router_ip,\n",
    "        \"username\" : \"cisco\",\n",
    "        \"password\" : \"cisco\"\n",
    "    }\n",
    "\n",
    "    conn = ConnectHandler(**device)\n",
    "    return conn\n",
    "\n",
    "def conf_ip(conn, ip_config):\n",
    "    interface = ip_config['interface']\n",
    "    ip_addr = ip_config['ip_address']\n",
    "    config_list = ['interface {}'.format(interface),\n",
    "                   'ip address {}'.format(ip_addr),\n",
    "                   'no shutdown']\n",
    "    print conn.send_config_set(config_list)\n",
    "\n",
    "def conf_dhcp(conn, dhcp_config):\n",
    "    pool = dhcp_config['pool']\n",
    "    network = dhcp_config['network']\n",
    "    gateway = dhcp_config['gateway']\n",
    "    config_list = ['ip dhcp pool {}'.format(pool),\n",
    "                   'network {}'.format(network),\n",
    "                   'default-router {}'.format(gateway)]\n",
    "    print conn.send_config_set(config_list)\n",
    "\n",
    "def conf_ospf(conn, ospf_config):\n",
    "    area = ospf_config['area']\n",
    "    network_list = ospf_config['network']\n",
    "    config_list = ['router ospf 1']\n",
    "    for network in network_list:\n",
    "        config_list.append('network {} area {}'.format(network, area))\n",
    "\n",
    "        print conn.send_config_set(config_list)\n",
    "\n",
    "def main():\n",
    "    yaml_file = 'inventory.yaml'\n",
    "    inventory_dict = read_yaml(yaml_file)\n",
    "    pprint(inventory_dict)\n",
    "\n",
    "    for router in inventory_dict['CORE']:\n",
    "        \n",
    "        router_ip = router['host']\n",
    "        print \"-------------------------------\"\n",
    "        print \"Configuring {}\".format(router_ip)\n",
    "        print \"-------------------------------\"\n",
    "        #connection\n",
    "        conn = device_connection(router_ip)\n",
    "\n",
    "#configure ip address\n",
    "ip_config = router['int_config']\n",
    "for conf in ip_config:\n",
    "    conf_ip(conn, conf)\n",
    "\n",
    "#configure dhcp\n",
    "dhcp_config = router['dhcp_config']\n",
    "for config in dhcp_config:\n",
    "    conf_dhcp(conn, config)\n",
    "\n",
    "#configure ospf\n",
    "ospf_config = router['ospf_config']\n",
    "for config in ospf_config:\n",
    "    conf_ospf(conn, config)\n",
    "      \n",
    "main()\n",
    "\n",
    "\n",
    "#3ng1n33r"
   ]
  },
  {
   "cell_type": "code",
   "execution_count": 10,
   "metadata": {},
   "outputs": [],
   "source": [
    "import pip"
   ]
  },
  {
   "cell_type": "code",
   "execution_count": 11,
   "metadata": {},
   "outputs": [
    {
     "name": "stderr",
     "output_type": "stream",
     "text": [
      "WARNING: pip is being invoked by an old script wrapper. This will fail in a future version of pip.\n",
      "Please see https://github.com/pypa/pip/issues/5599 for advice on fixing the underlying issue.\n",
      "To avoid this problem you can invoke Python with '-m pip' instead of running pip directly.\n"
     ]
    },
    {
     "name": "stdout",
     "output_type": "stream",
     "text": [
      "Collecting netmiko\n",
      "  Downloading netmiko-3.1.1-py2.py3-none-any.whl (147 kB)\n",
      "Collecting scp>=0.13.2\n",
      "  Downloading scp-0.13.2-py2.py3-none-any.whl (9.5 kB)\n",
      "Collecting paramiko>=2.4.3\n",
      "  Downloading paramiko-2.7.1-py2.py3-none-any.whl (206 kB)\n",
      "Requirement already satisfied: setuptools>=38.4.0 in c:\\users\\suraj chouhan\\appdata\\local\\programs\\python\\python38-32\\lib\\site-packages (from netmiko) (41.2.0)\n",
      "Collecting textfsm\n",
      "  Downloading textfsm-1.1.0-py2.py3-none-any.whl (37 kB)\n",
      "Collecting pyserial\n",
      "  Downloading pyserial-3.4-py2.py3-none-any.whl (193 kB)\n",
      "Collecting cryptography>=2.5\n",
      "  Downloading cryptography-2.9.2-cp38-cp38-win32.whl (1.3 MB)\n",
      "Collecting pynacl>=1.0.1\n",
      "  Downloading PyNaCl-1.4.0-cp38-cp38-win32.whl (193 kB)\n",
      "Collecting bcrypt>=3.1.3\n",
      "  Downloading bcrypt-3.1.7-cp38-cp38-win32.whl (26 kB)\n",
      "Requirement already satisfied: six in c:\\users\\suraj chouhan\\appdata\\local\\programs\\python\\python38-32\\lib\\site-packages (from textfsm->netmiko) (1.14.0)\n",
      "Collecting future\n",
      "  Downloading future-0.18.2.tar.gz (829 kB)\n",
      "Collecting cffi!=1.11.3,>=1.8\n",
      "  Downloading cffi-1.14.0-cp38-cp38-win32.whl (165 kB)\n",
      "Collecting pycparser\n",
      "  Downloading pycparser-2.20-py2.py3-none-any.whl (112 kB)\n",
      "Installing collected packages: pycparser, cffi, cryptography, pynacl, bcrypt, paramiko, scp, future, textfsm, pyserial, netmiko\n",
      "    Running setup.py install for future: started\n",
      "    Running setup.py install for future: finished with status 'done'\n",
      "Successfully installed bcrypt-3.1.7 cffi-1.14.0 cryptography-2.9.2 future-0.18.2 netmiko-3.1.1 paramiko-2.7.1 pycparser-2.20 pynacl-1.4.0 pyserial-3.4 scp-0.13.2 textfsm-1.1.0\n"
     ]
    },
    {
     "name": "stderr",
     "output_type": "stream",
     "text": [
      "WARNING: You are using pip version 20.0.2; however, version 20.1.1 is available.\n",
      "You should consider upgrading via the 'c:\\users\\suraj chouhan\\appdata\\local\\programs\\python\\python38-32\\python.exe -m pip install --upgrade pip' command.\n"
     ]
    },
    {
     "data": {
      "text/plain": [
       "0"
      ]
     },
     "execution_count": 11,
     "metadata": {},
     "output_type": "execute_result"
    }
   ],
   "source": [
    "pip.main(['install', 'netmiko'])"
   ]
  },
  {
   "cell_type": "code",
   "execution_count": null,
   "metadata": {},
   "outputs": [],
   "source": [
    "\n"
   ]
  }
 ],
 "metadata": {
  "kernelspec": {
   "display_name": "Python 3",
   "language": "python",
   "name": "python3"
  },
  "language_info": {
   "codemirror_mode": {
    "name": "ipython",
    "version": 3
   },
   "file_extension": ".py",
   "mimetype": "text/x-python",
   "name": "python",
   "nbconvert_exporter": "python",
   "pygments_lexer": "ipython3",
   "version": "3.8.2"
  }
 },
 "nbformat": 4,
 "nbformat_minor": 4
}
