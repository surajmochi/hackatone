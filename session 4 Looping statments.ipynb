{
 "cells": [
  {
   "cell_type": "code",
   "execution_count": 6,
   "metadata": {},
   "outputs": [
    {
     "name": "stdout",
     "output_type": "stream",
     "text": [
      "print something\n"
     ]
    }
   ],
   "source": [
    "# non , \"\" ,[],(),{}\n",
    "\n",
    "if 100:\n",
    "    print(\"print something\")\n",
    "else:\n",
    "    print(\"something else\")\n",
    "    "
   ]
  },
  {
   "cell_type": "code",
   "execution_count": 7,
   "metadata": {},
   "outputs": [
    {
     "ename": "SyntaxError",
     "evalue": "invalid syntax (<ipython-input-7-45031134a8ec>, line 1)",
     "output_type": "error",
     "traceback": [
      "\u001b[1;36m  File \u001b[1;32m\"<ipython-input-7-45031134a8ec>\"\u001b[1;36m, line \u001b[1;32m1\u001b[0m\n\u001b[1;33m    Looping Statements : For\u001b[0m\n\u001b[1;37m            ^\u001b[0m\n\u001b[1;31mSyntaxError\u001b[0m\u001b[1;31m:\u001b[0m invalid syntax\n"
     ]
    }
   ],
   "source": [
    "Looping Statements : For\n",
    "                     while"
   ]
  },
  {
   "cell_type": "code",
   "execution_count": null,
   "metadata": {},
   "outputs": [],
   "source": [
    "l = [380,400,450,110,490]"
   ]
  },
  {
   "cell_type": "code",
   "execution_count": null,
   "metadata": {},
   "outputs": [],
   "source": [
    "l = [10,20,30,40,50]\n",
    "for [userdefined_variable] in [iterable_datatype]:\n",
    "    [Statements]\n",
    "[Outside of for loop]`"
   ]
  },
  {
   "cell_type": "code",
   "execution_count": 3,
   "metadata": {},
   "outputs": [
    {
     "name": "stdout",
     "output_type": "stream",
     "text": [
      "100\n",
      "400\n",
      "900\n",
      "1600\n",
      "2500\n"
     ]
    }
   ],
   "source": [
    "l = [10,20,30,40,50]\n",
    "for value in l:\n",
    "    print(value * value)"
   ]
  },
  {
   "cell_type": "code",
   "execution_count": 4,
   "metadata": {},
   "outputs": [
    {
     "name": "stdout",
     "output_type": "stream",
     "text": [
      "p\n",
      "y\n",
      "t\n",
      "h\n",
      "o\n",
      "n\n",
      " \n",
      "i\n",
      "s\n",
      " \n",
      "e\n",
      "a\n",
      "s\n",
      "y\n",
      " \n",
      "t\n",
      "o\n",
      " \n",
      "l\n",
      "e\n",
      "a\n",
      "r\n",
      "n\n"
     ]
    }
   ],
   "source": [
    "for value in \"python is easy to learn\":\n",
    "    print(value)"
   ]
  },
  {
   "cell_type": "code",
   "execution_count": 5,
   "metadata": {},
   "outputs": [
    {
     "name": "stdout",
     "output_type": "stream",
     "text": [
      "email\n",
      "name\n",
      "id\n"
     ]
    }
   ],
   "source": [
    "d = {\"email\":\"abc@gmail.com\",\"name\":\"abc\",\"id\":100}\n",
    "for x in d:\n",
    "    print(x)"
   ]
  },
  {
   "cell_type": "code",
   "execution_count": null,
   "metadata": {},
   "outputs": [],
   "source": [
    "iterable :  collection of element \n",
    "    list\n",
    "    set\n",
    "    dict\n",
    "    tuple\n",
    "int \n",
    "float"
   ]
  },
  {
   "cell_type": "code",
   "execution_count": 1,
   "metadata": {},
   "outputs": [
    {
     "name": "stdout",
     "output_type": "stream",
     "text": [
      "10\n",
      "30\n",
      "60\n",
      "100\n",
      "150\n"
     ]
    }
   ],
   "source": [
    "l = [10,20,30,40,50]\n",
    "# sum = 0 \n",
    "# num1 = 10\n",
    "# sum = 0 +  10 = 10\n",
    "\n",
    "# num2 = 20\n",
    "# sum = 10 + 20 = 30\n",
    "\n",
    "# num3 = 30\n",
    "# sum = 30 + 30 = 60\n",
    "\n",
    "# num4 = 40\n",
    "# sum = 60 + 40 =100\n",
    "\n",
    "# num5 = 50\n",
    "# sum = 100 = 50 = 150\n",
    "\n",
    "sum = 0\n",
    "for value in l:\n",
    "    sum = sum + value\n",
    "    print(sum)\n",
    "\n"
   ]
  },
  {
   "cell_type": "code",
   "execution_count": null,
   "metadata": {},
   "outputs": [],
   "source": [
    "range(10) 0..... 9 \n",
    "range(10,50) 10 11 12 ......49\n",
    "range(10,50,5) #increment of 5 (10,15,20,25....45"
   ]
  },
  {
   "cell_type": "code",
   "execution_count": 2,
   "metadata": {
    "scrolled": true
   },
   "outputs": [
    {
     "name": "stdout",
     "output_type": "stream",
     "text": [
      "10\n",
      "15\n",
      "20\n",
      "25\n",
      "30\n",
      "35\n",
      "40\n",
      "45\n"
     ]
    }
   ],
   "source": [
    "for value in range(10,50,5):\n",
    "    print(value)"
   ]
  },
  {
   "cell_type": "code",
   "execution_count": 4,
   "metadata": {},
   "outputs": [
    {
     "name": "stdout",
     "output_type": "stream",
     "text": [
      "[10, 15, 20, 25, 30, 35, 40, 45]\n"
     ]
    }
   ],
   "source": [
    "print(list(range(10,50,5)))"
   ]
  },
  {
   "cell_type": "code",
   "execution_count": 13,
   "metadata": {},
   "outputs": [
    {
     "name": "stderr",
     "output_type": "stream",
     "text": [
      "<>:1: SyntaxWarning: 'int' object is not subscriptable; perhaps you missed a comma?\n",
      "<>:1: SyntaxWarning: 'int' object is not subscriptable; perhaps you missed a comma?\n",
      "<ipython-input-13-2a3bc8993ee5>:1: SyntaxWarning: 'int' object is not subscriptable; perhaps you missed a comma?\n",
      "  num1 = range(10[0])\n"
     ]
    },
    {
     "ename": "TypeError",
     "evalue": "'int' object is not subscriptable",
     "output_type": "error",
     "traceback": [
      "\u001b[1;31m---------------------------------------------------------------------------\u001b[0m",
      "\u001b[1;31mTypeError\u001b[0m                                 Traceback (most recent call last)",
      "\u001b[1;32m<ipython-input-13-2a3bc8993ee5>\u001b[0m in \u001b[0;36m<module>\u001b[1;34m\u001b[0m\n\u001b[1;32m----> 1\u001b[1;33m \u001b[0mnum1\u001b[0m \u001b[1;33m=\u001b[0m \u001b[0mrange\u001b[0m\u001b[1;33m(\u001b[0m\u001b[1;36m10\u001b[0m\u001b[1;33m[\u001b[0m\u001b[1;36m0\u001b[0m\u001b[1;33m]\u001b[0m\u001b[1;33m)\u001b[0m\u001b[1;33m\u001b[0m\u001b[1;33m\u001b[0m\u001b[0m\n\u001b[0m\u001b[0;32m      2\u001b[0m \u001b[1;32mfor\u001b[0m \u001b[0mvalue\u001b[0m \u001b[1;32min\u001b[0m \u001b[0mnum1\u001b[0m\u001b[1;33m:\u001b[0m\u001b[1;33m\u001b[0m\u001b[1;33m\u001b[0m\u001b[0m\n\u001b[0;32m      3\u001b[0m     \u001b[0mprint\u001b[0m\u001b[1;33m(\u001b[0m\u001b[0mlist\u001b[0m\u001b[1;33m(\u001b[0m\u001b[0mvalue\u001b[0m\u001b[1;33m)\u001b[0m\u001b[1;33m)\u001b[0m\u001b[1;33m\u001b[0m\u001b[1;33m\u001b[0m\u001b[0m\n",
      "\u001b[1;31mTypeError\u001b[0m: 'int' object is not subscriptable"
     ]
    }
   ],
   "source": [
    "num1 = range(10[0])\n",
    "for value in num1:\n",
    "    print(list(value))"
   ]
  },
  {
   "cell_type": "code",
   "execution_count": null,
   "metadata": {},
   "outputs": [],
   "source": [
    "pass \n",
    "continue\n",
    "break"
   ]
  },
  {
   "cell_type": "code",
   "execution_count": null,
   "metadata": {},
   "outputs": [],
   "source": [
    "s = \"python sample string\"\n",
    "vowel_count = 0\n",
    "consonent_count = 0 \n",
    "\n",
    "for value in s:\n",
    "    if value in \"AEIOUaeiou\":\n",
    "        vowel_count+=1\n",
    "    elif value == \" \":\n",
    "         continue\n",
    "         print(\"lets check if i see this in output\")\n",
    "    else:\n",
    "            consonent_count+= 1\n",
    "print(vowel_count,consonent_count)  "
   ]
  },
  {
   "cell_type": "code",
   "execution_count": 9,
   "metadata": {},
   "outputs": [
    {
     "name": "stdout",
     "output_type": "stream",
     "text": [
      "lets check if i see in output\n",
      "lets check if i see in output\n",
      "4 14\n"
     ]
    }
   ],
   "source": [
    "s =  \"python sample string\"\n",
    "\n",
    "vowel_count = 0 \n",
    "consonent_count = 0 \n",
    "\n",
    "for value in s:\n",
    "    if value in \"AEIOUaeiou\":\n",
    "        vowel_count+=1\n",
    "    elif value == \" \":\n",
    "    \n",
    "        pass\n",
    "        print(\"lets check if i see in output\")\n",
    "    else:\n",
    "        consonent_count+= 1 \n",
    "\n",
    "print(vowel_count,consonent_count)"
   ]
  },
  {
   "cell_type": "code",
   "execution_count": 10,
   "metadata": {},
   "outputs": [
    {
     "name": "stdout",
     "output_type": "stream",
     "text": [
      "hii\n",
      "hello\n"
     ]
    }
   ],
   "source": [
    "if 100:\n",
    "     print(\"hii\")\n",
    "else:\n",
    "    pass\n",
    "print(\"hello\")"
   ]
  },
  {
   "cell_type": "code",
   "execution_count": 11,
   "metadata": {},
   "outputs": [
    {
     "name": "stdout",
     "output_type": "stream",
     "text": [
      "10\n",
      "20\n",
      "30\n",
      "40\n",
      "number is negative -1\n"
     ]
    }
   ],
   "source": [
    "l = [10,20,30,40,-1,50,60,100]\n",
    "\n",
    "for value in l:\n",
    "    if value < 0:\n",
    "        print (\"number is negative\",value)\n",
    "        break\n",
    "    else:\n",
    "        print(value)"
   ]
  },
  {
   "cell_type": "code",
   "execution_count": 14,
   "metadata": {},
   "outputs": [
    {
     "name": "stdout",
     "output_type": "stream",
     "text": [
      "key is present\n"
     ]
    }
   ],
   "source": [
    "nums = [10,20,30,40,50,60,70,80]\n",
    "key = 50\n",
    "flag = False\n",
    "for value in nums:\n",
    "    \n",
    "    if value == key:\n",
    "        flag = True\n",
    "        \n",
    "if flag == True:\n",
    "    print (\"key is present\")\n",
    "else:\n",
    "    print(\"key is not present\")"
   ]
  },
  {
   "cell_type": "code",
   "execution_count": null,
   "metadata": {},
   "outputs": [],
   "source": [
    "nums = [10,20,30,40,50,60,70,80]\n",
    "key = 50\n",
    "flag = False\n",
    "for value in nums:\n",
    "    \n",
    "    if value == key:\n",
    "        \n",
    "         break\n",
    "else:"
   ]
  },
  {
   "cell_type": "code",
   "execution_count": 15,
   "metadata": {},
   "outputs": [
    {
     "name": "stdout",
     "output_type": "stream",
     "text": [
      "10\n",
      "20\n",
      "30\n",
      "40\n",
      "50\n",
      "60\n",
      "This statement is executed\n"
     ]
    }
   ],
   "source": [
    "l = [10,20,30,40,50,60]\n",
    "for value in l:\n",
    "    print(value)\n",
    "else:\n",
    "    print(\"This statement is executed\")"
   ]
  },
  {
   "cell_type": "code",
   "execution_count": 16,
   "metadata": {},
   "outputs": [
    {
     "name": "stdout",
     "output_type": "stream",
     "text": [
      "10\n",
      "20\n",
      "30\n",
      "value is 40\n"
     ]
    }
   ],
   "source": [
    "l = [10,20,30,40,50,60]\n",
    "for value in l:\n",
    "    if value == 40:\n",
    "        print(\"value is 40\")\n",
    "        break\n",
    "    else:\n",
    "        print(value)\n",
    "\n",
    "else: \n",
    "        print(\"This statement is execute\")"
   ]
  },
  {
   "cell_type": "code",
   "execution_count": null,
   "metadata": {},
   "outputs": [],
   "source": [
    "nums = [10,20,30,40,50,60,70]\n",
    "key = 50\n",
    "flag = False\n",
    "\n",
    "for value in nums:\n",
    "    if value == key:\n",
    "        flag = True\n",
    "        \n",
    "if flag == True:\n",
    "    print(\"key is present\")\n",
    "else: \n",
    "    print(\"key is not present\")"
   ]
  },
  {
   "cell_type": "code",
   "execution_count": 9,
   "metadata": {},
   "outputs": [
    {
     "name": "stdout",
     "output_type": "stream",
     "text": [
      "key is not present\n",
      "key is not present\n",
      "key is not present\n",
      "key is not present\n",
      "key is present\n"
     ]
    }
   ],
   "source": [
    "nums = [10,20,30,40,50,60,70]\n",
    "key = 50\n",
    "\n",
    "for value in nums:\n",
    "    if value == key:\n",
    "        print(\"key is present\")\n",
    "        break\n",
    "    else:\n",
    "        print(\"key is not present\")"
   ]
  },
  {
   "cell_type": "code",
   "execution_count": 20,
   "metadata": {},
   "outputs": [
    {
     "ename": "IndentationError",
     "evalue": "unexpected indent (<ipython-input-20-f56608329d73>, line 2)",
     "output_type": "error",
     "traceback": [
      "\u001b[1;36m  File \u001b[1;32m\"<ipython-input-20-f56608329d73>\"\u001b[1;36m, line \u001b[1;32m2\u001b[0m\n\u001b[1;33m    print([l])\u001b[0m\n\u001b[1;37m    ^\u001b[0m\n\u001b[1;31mIndentationError\u001b[0m\u001b[1;31m:\u001b[0m unexpected indent\n"
     ]
    }
   ],
   "source": [
    "l = [10,20,30,40,50,60]\n",
    "        print([l])"
   ]
  },
  {
   "cell_type": "code",
   "execution_count": null,
   "metadata": {},
   "outputs": [],
   "source": [
    "emumrate => index,value"
   ]
  },
  {
   "cell_type": "code",
   "execution_count": 25,
   "metadata": {},
   "outputs": [
    {
     "name": "stdout",
     "output_type": "stream",
     "text": [
      "0 10\n",
      "1 20\n",
      "2 30\n",
      "3 40\n",
      "4 50\n"
     ]
    }
   ],
   "source": [
    "l = [10,20,30,40,50,]\n",
    "for index,value in enumerate(l):\n",
    "    print(index,value)"
   ]
  },
  {
   "cell_type": "code",
   "execution_count": 34,
   "metadata": {},
   "outputs": [
    {
     "name": "stdout",
     "output_type": "stream",
     "text": [
      "key is not present\n",
      "key is not present\n",
      "key is not present\n",
      "key is not present\n",
      "key is not present\n",
      "key is not present\n",
      "key is not present\n",
      "key is present in index: 7\n"
     ]
    }
   ],
   "source": [
    "nums = [10,20,30,40,50,60,70,80]\n",
    "key = 80\n",
    "\n",
    "for index,value in enumerate(nums):\n",
    "    if value == key:\n",
    "        print(\"key is present in index:\",index)\n",
    "        break\n",
    "    else:\n",
    "        print(\"key is not present\")\n",
    "    "
   ]
  },
  {
   "cell_type": "code",
   "execution_count": null,
   "metadata": {},
   "outputs": [],
   "source": [
    "num1  = 6\n",
    "#perfect no or not\n",
    "#1 + 2 + 3 = 6\n",
    "\n",
    "possible divisors = 1 2 3 4 5\n",
    "Divisors = 1 2 3\n",
    "Sum = "
   ]
  },
  {
   "cell_type": "code",
   "execution_count": null,
   "metadata": {},
   "outputs": [],
   "source": [
    "28 : 1 2 4 7 14"
   ]
  },
  {
   "cell_type": "code",
   "execution_count": 53,
   "metadata": {
    "scrolled": true
   },
   "outputs": [
    {
     "name": "stdout",
     "output_type": "stream",
     "text": [
      "1\n",
      "2\n",
      "5\n"
     ]
    }
   ],
   "source": [
    "num1 = 10\n",
    "sum = 0 \n",
    "for value in range(1,num1):\n",
    "    if num1 % value == 0:\n",
    "        print(value)\n",
    "    "
   ]
  },
  {
   "cell_type": "code",
   "execution_count": 57,
   "metadata": {},
   "outputs": [
    {
     "name": "stdout",
     "output_type": "stream",
     "text": [
      "Perfect number\n"
     ]
    }
   ],
   "source": [
    "num1 = 6\n",
    "sum = 0 \n",
    "\n",
    "for value in range(1,num1):\n",
    "    if num1 % value == 0:\n",
    "        sum = sum + value\n",
    "\n",
    "if sum == num1:\n",
    "    print(\"Perfect number\")\n",
    "else:\n",
    "    print(\"Not a perfect number\")"
   ]
  },
  {
   "cell_type": "code",
   "execution_count": 61,
   "metadata": {},
   "outputs": [
    {
     "name": "stdout",
     "output_type": "stream",
     "text": [
      "Perfect number\n"
     ]
    }
   ],
   "source": [
    "num1 = 6\n",
    "sum = 0 \n",
    "for value in range(1,num1 // 2 + 1 ):\n",
    "    if num1 % value == 0:\n",
    "        sum = sum + value\n",
    "\n",
    "if sum == num1:\n",
    "    print(\"Perfect number\")\n",
    "else:\n",
    "    print(\"Not a perfect number\")"
   ]
  },
  {
   "cell_type": "code",
   "execution_count": 63,
   "metadata": {},
   "outputs": [
    {
     "name": "stdout",
     "output_type": "stream",
     "text": [
      "5\n",
      "10\n",
      "15\n",
      "20\n",
      "25\n",
      "30\n",
      "35\n",
      "40\n",
      "45\n",
      "50\n"
     ]
    }
   ],
   "source": [
    "num1 = 5\n",
    "# 5 * 1 = 5\n",
    "# 5 * 2 = 10\n",
    "# 5 * 3 = 15\n",
    "\n",
    "# ...\n",
    "\n",
    "# 5 * 10 = 50\n",
    "for value in range(1,11):\n",
    "    print(5 * value)"
   ]
  },
  {
   "cell_type": "code",
   "execution_count": 64,
   "metadata": {},
   "outputs": [
    {
     "name": "stdout",
     "output_type": "stream",
     "text": [
      "10\n",
      "20\n",
      "30\n",
      "40\n",
      "50\n",
      "60\n",
      "70\n",
      "80\n",
      "90\n",
      "100\n"
     ]
    }
   ],
   "source": [
    "num1 = 10 \n",
    "for value in range(1,11):\n",
    "    print(10 * value)"
   ]
  },
  {
   "cell_type": "code",
   "execution_count": 67,
   "metadata": {},
   "outputs": [
    {
     "name": "stdout",
     "output_type": "stream",
     "text": [
      "0 100\n",
      "0 101\n",
      "0 102\n",
      "0 103\n",
      "0 104\n",
      "1 100\n",
      "1 101\n",
      "1 102\n",
      "1 103\n",
      "1 104\n",
      "2 100\n",
      "2 101\n",
      "2 102\n",
      "2 103\n",
      "2 104\n",
      "3 100\n",
      "3 101\n",
      "3 102\n",
      "3 103\n",
      "3 104\n",
      "4 100\n",
      "4 101\n",
      "4 102\n",
      "4 103\n",
      "4 104\n"
     ]
    }
   ],
   "source": [
    "for value1 in range(5):\n",
    "    for value2 in range(100,105):\n",
    "        print(value1,value2)"
   ]
  },
  {
   "cell_type": "code",
   "execution_count": null,
   "metadata": {},
   "outputs": [],
   "source": [
    "1*1  2*1 2  5\n",
    "1*2  2*2 4  10\n",
    "1*3  2*3 15\n",
    "1*4   \n",
    "1*5\n",
    "\n",
    "\n",
    "10  20 50"
   ]
  },
  {
   "cell_type": "code",
   "execution_count": null,
   "metadata": {},
   "outputs": [],
   "source": [
    "end = \" \"  --> #this will print the value in horizontal order of multiple print statement\n",
    "sep = \",\" --> # this will put the coma in between the value of same print statement"
   ]
  },
  {
   "cell_type": "code",
   "execution_count": 37,
   "metadata": {},
   "outputs": [
    {
     "name": "stdout",
     "output_type": "stream",
     "text": [
      "10 20\n"
     ]
    }
   ],
   "source": [
    "print (10,sep = \",\",end = \" \")\n",
    "print (20)"
   ]
  },
  {
   "cell_type": "code",
   "execution_count": 88,
   "metadata": {},
   "outputs": [
    {
     "name": "stdout",
     "output_type": "stream",
     "text": [
      "10 20\n"
     ]
    }
   ],
   "source": [
    "print(10,end = \" \",sep = \",\")\n",
    "                    \n",
    "print(20)"
   ]
  },
  {
   "cell_type": "code",
   "execution_count": 75,
   "metadata": {},
   "outputs": [
    {
     "name": "stdout",
     "output_type": "stream",
     "text": [
      "12345678910\n",
      "\n",
      "2468101214161820\n",
      "\n",
      "36912151821242730\n",
      "\n",
      "481216202428323640\n",
      "\n",
      "5101520253035404550\n",
      "\n"
     ]
    }
   ],
   "source": [
    "for value1 in range(1,6):\n",
    "    for value2 in range(1,11):\n",
    "        print(value1 * value2,end = \"\")\n",
    "    print(\"\\n\") # this will break the statement and print values in new line"
   ]
  },
  {
   "cell_type": "code",
   "execution_count": null,
   "metadata": {},
   "outputs": [],
   "source": [
    "- for loop syntax\n",
    "- for var in [iterable dataypr]:\n",
    "- range (100,500) # 100 to 499\n",
    "- range (100,500,100) # 100 200 300 400\n",
    "- enumerate # index, value\n",
    "- pass --> # (To avoid errors)directly pass to the next statement without checking current statement\n",
    "- continue --> # when we have to move to the next iteration\n",
    "- break --> # To take break from the statement during loop"
   ]
  },
  {
   "cell_type": "code",
   "execution_count": 101,
   "metadata": {},
   "outputs": [
    {
     "name": "stdout",
     "output_type": "stream",
     "text": [
      "10,20,python hi,java\n"
     ]
    }
   ],
   "source": [
    "print(10,20,\"python\",sep = \",\",end = \" \")\n",
    "\n",
    "print(\"hi\",end = \",\")\n",
    "print(\"java\")"
   ]
  },
  {
   "cell_type": "code",
   "execution_count": null,
   "metadata": {},
   "outputs": [],
   "source": [
    "while #till that condition where i want to iterate \n",
    "\n",
    "while condition => True / False:\n",
    "    statments "
   ]
  },
  {
   "cell_type": "code",
   "execution_count": 110,
   "metadata": {},
   "outputs": [
    {
     "name": "stdout",
     "output_type": "stream",
     "text": [
      "120\n"
     ]
    }
   ],
   "source": [
    "num1 = 5\n",
    "result = 1 \n",
    "while num1 > 1:\n",
    "    result = result * num1\n",
    "    num1 = num1 - 1\n",
    "print(result)"
   ]
  },
  {
   "cell_type": "code",
   "execution_count": 4,
   "metadata": {},
   "outputs": [
    {
     "name": "stdout",
     "output_type": "stream",
     "text": [
      "105\n"
     ]
    }
   ],
   "source": [
    "count = 1\n",
    "sum = 0 \n",
    "while count <= 20: # count value is less than or qual to 20\n",
    "    sum = sum + count # than sum value + count value\n",
    "    count = count + 1 # if this true than count + 1 value\n",
    "    if count == 15: \n",
    "        break\n",
    "else:\n",
    "    print(\"statement gets execited\")\n",
    "print(sum)\n",
    "    "
   ]
  }
 ],
 "metadata": {
  "kernelspec": {
   "display_name": "Python 3",
   "language": "python",
   "name": "python3"
  },
  "language_info": {
   "codemirror_mode": {
    "name": "ipython",
    "version": 3
   },
   "file_extension": ".py",
   "mimetype": "text/x-python",
   "name": "python",
   "nbconvert_exporter": "python",
   "pygments_lexer": "ipython3",
   "version": "3.8.2"
  }
 },
 "nbformat": 4,
 "nbformat_minor": 4
}
