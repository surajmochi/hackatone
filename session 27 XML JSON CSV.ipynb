{
 "cells": [
  {
   "cell_type": "code",
   "execution_count": null,
   "metadata": {},
   "outputs": [],
   "source": [
    "APT --> it is a process by which it provide and establish  interface by which two application can communicate which each other.\n",
    "\n",
    "application   <API>   Third party app (google authentication)\n",
    "\n"
   ]
  },
  {
   "cell_type": "code",
   "execution_count": null,
   "metadata": {},
   "outputs": [],
   "source": [
    "Web API HTTP -->  XML and JSON  (format for data exchange) data representation"
   ]
  },
  {
   "cell_type": "code",
   "execution_count": null,
   "metadata": {},
   "outputs": [],
   "source": []
  },
  {
   "cell_type": "code",
   "execution_count": null,
   "metadata": {},
   "outputs": [],
   "source": [
    "JSON : javacript Object notation"
   ]
  },
  {
   "cell_type": "code",
   "execution_count": null,
   "metadata": {},
   "outputs": [],
   "source": [
    "{\n",
    "    \"glossary\": {\n",
    "        \"title\": \"example glossary\",\n",
    "\t\t\"GlossDiv\": {\n",
    "            \"title\": \"S\",\n",
    "\t\t\t\"GlossList\": {\n",
    "                \"GlossEntry\": {\n",
    "                    \"ID\": \"SGML\",\n",
    "\t\t\t\t\t\"SortAs\": \"SGML\",\n",
    "\t\t\t\t\t\"GlossTerm\": \"Standard Generalized Markup Language\",\n",
    "\t\t\t\t\t\"Acronym\": \"SGML\",\n",
    "\t\t\t\t\t\"Abbrev\": \"ISO 8879:1986\",\n",
    "\t\t\t\t\t\"GlossDef\": {\n",
    "                        \"para\": \"A meta-markup language, used to create markup languages such as DocBook.\",\n",
    "\t\t\t\t\t\t\"GlossSeeAlso\": [\"GML\", \"XML\"]\n",
    "                    },\n",
    "\t\t\t\t\t\"GlossSee\": \"markup\"\n",
    "                }\n",
    "            }\n",
    "        }\n",
    "    }\n",
    "}"
   ]
  },
  {
   "cell_type": "code",
   "execution_count": null,
   "metadata": {},
   "outputs": [],
   "source": [
    "JSON object Key : value                  <-- dict in python\n",
    "array : [10,20,30,\"java\"]                <-- list in python\n",
    "str \"\"                                   <-- str '' \"\" \"\"\"\"\"\"\n",
    "numbers 10 10.255                        <-- int float\n",
    "null                                     <-- none in python\n",
    "NA                                       <-- tuple()\n",
    "NA                                       <--  set\n",
    "true / false                             <-- True/False\n"
   ]
  },
  {
   "cell_type": "code",
   "execution_count": 4,
   "metadata": {},
   "outputs": [
    {
     "name": "stdout",
     "output_type": "stream",
     "text": [
      "<class 'list'>\n"
     ]
    }
   ],
   "source": [
    "import re\n",
    "fp = open(\"gloss.json\",\"r\")\n",
    "content = fp.read()\n",
    "r = re.compile(\"gloss.json\")\n",
    "r = re.findall(\"GlossEntry\",content)\n",
    "print(type(r))\n",
    "fp.close()\n"
   ]
  },
  {
   "cell_type": "code",
   "execution_count": 38,
   "metadata": {},
   "outputs": [
    {
     "name": "stdout",
     "output_type": "stream",
     "text": [
      "{\n",
      "     \"glossary\": {\n",
      "          \"title\": \"new title for json file\",\n",
      "          \"GlossDiv\": {\n",
      "               \"title\": \"S\",\n",
      "               \"GlossList\": {\n",
      "                    \"GlossEntry\": {\n",
      "                         \"ID\": [\n",
      "                              \"SGML\",\n",
      "                              \"HTML\"\n",
      "                         ],\n",
      "                         \"SortAs\": \"SGML\",\n",
      "                         \"GlossTerm\": \"Standard Generalized Markup Language\",\n",
      "                         \"Acronym\": \"SGML\",\n",
      "                         \"Abbrev\": \"ISO 8879:1986\",\n",
      "                         \"GlossDef\": {\n",
      "                              \"para\": \"A meta-markup language, used to create markup languages such as DocBook.\",\n",
      "                              \"GlossSeeAlso\": [\n",
      "                                   \"GML\",\n",
      "                                   \"XML\"\n",
      "                              ]\n",
      "                         },\n",
      "                         \"GlossSee\": \"markup\"\n",
      "                    }\n",
      "               }\n",
      "          }\n",
      "     }\n",
      "}\n"
     ]
    }
   ],
   "source": [
    "import json\n",
    "fp = open(\"gloss.json\",\"r\")\n",
    "content = fp.read()\n",
    "d = json.loads(content)\n",
    "# print(d['glossary']['title'])\n",
    "d ['glossary']['title'] = \"new title for json file\"\n",
    "#print(d['glossary']['GlossDiv']['GlossList']['GlossEntry'][\"ID\"])\n",
    "d['glossary']['GlossDiv']['GlossList']['GlossEntry'][\"ID\"] = ('SGML','HTML')\n",
    "#print(d)     \n",
    "\n",
    "#__________________to convert this dict to JSON str format\n",
    "\n",
    "j = json.dumps(d,indent=5)  # here indent=4 is used for proper setting of indentation\n",
    "print(j)\n",
    "\n",
    "\n",
    "\n",
    "\n",
    "fp.close()\n"
   ]
  },
  {
   "cell_type": "code",
   "execution_count": null,
   "metadata": {},
   "outputs": [],
   "source": [
    "json :  loads => json str  ++>   python dict\n",
    "    \n",
    "        dumps => dict     ++>   json str        "
   ]
  },
  {
   "cell_type": "code",
   "execution_count": 34,
   "metadata": {},
   "outputs": [
    {
     "name": "stdout",
     "output_type": "stream",
     "text": [
      "{\n",
      "    \"glossary\": {\n",
      "        \"title\": \"new title for json file\",\n",
      "        \"GlossDiv\": {\n",
      "            \"title\": \"S\",\n",
      "            \"GlossList\": {\n",
      "                \"GlossEntry\": {\n",
      "                    \"ID\": [\n",
      "                        \"SGML\",\n",
      "                        \"HTML\"\n",
      "                    ],\n",
      "                    \"SortAs\": \"SGML\",\n",
      "                    \"GlossTerm\": \"Standard Generalized Markup Language\",\n",
      "                    \"Acronym\": \"SGML\",\n",
      "                    \"Abbrev\": \"ISO 8879:1986\",\n",
      "                    \"GlossDef\": {\n",
      "                        \"para\": \"A meta-markup language, used to create markup languages such as DocBook.\",\n",
      "                        \"GlossSeeAlso\": [\n",
      "                            \"GML\",\n",
      "                            \"XML\"\n",
      "                        ]\n",
      "                    },\n",
      "                    \"GlossSee\": \"markup\"\n",
      "                }\n",
      "            }\n",
      "        }\n",
      "    }\n",
      "}\n"
     ]
    }
   ],
   "source": [
    "import json\n",
    "fp = open(\"gloss.json\",\"r\")\n",
    "content = fp.read()\n",
    "d = json.loads(content)\n",
    "fp.close()\n",
    "# print(d['glossary']['title'])\n",
    "d ['glossary']['title'] = \"new title for json file\"\n",
    "#print(d['glossary']['GlossDiv']['GlossList']['GlossEntry'][\"ID\"])\n",
    "d['glossary']['GlossDiv']['GlossList']['GlossEntry'][\"ID\"] = ('SGML','HTML')\n",
    "#print(d)     \n",
    "\n",
    "#__________________to convert this dict to JSON str format\n",
    "\n",
    "j = json.dumps(d,indent=4)  # here indent=4 is used for proper setting of indentation\n",
    "print(j)\n",
    "\n",
    "fp = open(\"gloss.json\",\"w\") # for writing this to original file\n",
    "fp.write(j)\n",
    "\n",
    "\n",
    "\n",
    "fp.close()\n"
   ]
  },
  {
   "cell_type": "code",
   "execution_count": null,
   "metadata": {},
   "outputs": [],
   "source": []
  },
  {
   "cell_type": "code",
   "execution_count": null,
   "metadata": {},
   "outputs": [],
   "source": [
    "XML :\n",
    "        tags\n",
    "        attributes\n",
    "        text"
   ]
  },
  {
   "cell_type": "code",
   "execution_count": null,
   "metadata": {},
   "outputs": [],
   "source": [
    "<!DOCTYPE glossary PUBLIC \"-//OASIS//DTD DocBook V3.1//EN\">\n",
    " <glossary><title>example glossary</title>\n",
    "  <GlossDiv><title>S</title>\n",
    "   <GlossList>\n",
    "    <GlossEntry ID=\"SGML\" SortAs=\"SGML\">\n",
    "     <GlossTerm>Standard Generalized Markup Language</GlossTerm>\n",
    "     <Acronym>SGML</Acronym>\n",
    "     <Abbrev>ISO 8879:1986</Abbrev>\n",
    "     <GlossDef>\n",
    "      <para>A meta-markup language, used to create markup\n",
    "languages such as DocBook.</para>\n",
    "      <GlossSeeAlso OtherTerm=\"GML\">\n",
    "      <GlossSeeAlso OtherTerm=\"XML\">\n",
    "     </GlossDef>\n",
    "     <GlossSee OtherTerm=\"markup\">\n",
    "    </GlossEntry>\n",
    "   </GlossList>\n",
    "  </GlossDiv>\n",
    " </glossary>"
   ]
  },
  {
   "cell_type": "code",
   "execution_count": null,
   "metadata": {},
   "outputs": [],
   "source": [
    "<note date = \"7-9-2018b\">\n",
    "    <to>ABC</>\n",
    "    <from>PQR</from>\n",
    "    <message> session at 7 pm</message>\n",
    "</note>\n"
   ]
  },
  {
   "cell_type": "code",
   "execution_count": null,
   "metadata": {},
   "outputs": [],
   "source": [
    "xmltodict\n",
    "\n",
    "cmd -> pip install xmltocit"
   ]
  },
  {
   "cell_type": "code",
   "execution_count": null,
   "metadata": {},
   "outputs": [],
   "source": [
    "    pip freeze <in cmd>  -->>> to check available  library"
   ]
  },
  {
   "cell_type": "code",
   "execution_count": null,
   "metadata": {},
   "outputs": [],
   "source": [
    "loads -> parse -> Xml str to ordered dict\n",
    "dumpds -> unparse ->python dict to str"
   ]
  },
  {
   "cell_type": "code",
   "execution_count": 4,
   "metadata": {},
   "outputs": [],
   "source": [
    "import xmltodict"
   ]
  },
  {
   "cell_type": "code",
   "execution_count": null,
   "metadata": {},
   "outputs": [],
   "source": [
    "import xmltodict\n",
    "fp = open(\"glossary.xml\",\"r\")\n",
    "content = fp.read()\n",
    "fp.close\n",
    "d = xmltodict.parse(content)\n",
    "print(d['glossary']['title'])\n",
    "d['glossary']['title'] = \"New title of XML\"\n",
    "d['glossary']['GlossDiv']['GlossList']['GlossEntry']['@ID'] = \"HTML\"\n",
    "print(d)\n",
    "\n",
    "x = xmltodict.unparse(d)\n",
    "print(x)\n",
    "\n",
    "fp = open(\"glossary.xml\",\"w\")\n",
    "fp.write\n",
    "\n",
    "fp.close()"
   ]
  },
  {
   "cell_type": "markdown",
   "metadata": {},
   "source": [
    "etree is also a library for XML"
   ]
  },
  {
   "cell_type": "code",
   "execution_count": null,
   "metadata": {},
   "outputs": [],
   "source": []
  },
  {
   "cell_type": "code",
   "execution_count": 10,
   "metadata": {},
   "outputs": [],
   "source": [
    "import  csv"
   ]
  },
  {
   "cell_type": "code",
   "execution_count": null,
   "metadata": {},
   "outputs": [],
   "source": [
    "reader  -> every row is list\n",
    "writer -> every row is list\n",
    "\n",
    "Dictreader -> every row is a Dict /// key = col headings ,\n",
    "DictWriter -> \n",
    "\n"
   ]
  },
  {
   "cell_type": "code",
   "execution_count": 22,
   "metadata": {},
   "outputs": [
    {
     "name": "stdout",
     "output_type": "stream",
     "text": [
      "['name', 'email', 'contacts']\n",
      "['ABC', 'Abc@gmail.com', '2423523643']\n",
      "['PQR', 'pqr@gmail.com', '2145753583']\n",
      "['XYZ', 'xyz@gmail.com', '1246435654']\n",
      "['CCC', 'CCC@gmail.com', '234754568']\n",
      "[]\n"
     ]
    }
   ],
   "source": [
    "import csv\n",
    "fp = open(\"test.csv\",\"r\")\n",
    "reader_obj = csv.reader(fp)\n",
    "\n",
    "#print(list(reader_obj))\n",
    "print(next(reader_obj))\n",
    "\n",
    "for row in reader_obj:  # every output will in form of list\n",
    "    print(row)  # here [1] is for list element"
   ]
  },
  {
   "cell_type": "code",
   "execution_count": 30,
   "metadata": {},
   "outputs": [],
   "source": [
    "# to add a new line but it will not add just in the next line\n",
    "# here writrow means adding a single row\n",
    "\n",
    "fp = open(\"test.csv\",\"a+\")\n",
    "write_obj = csv.writer(fp)\n",
    "write_obj.writerow([\"CCC\",\"CCC@gmail.com\",\"234754568\"])\n",
    "fp.close()"
   ]
  },
  {
   "cell_type": "code",
   "execution_count": 32,
   "metadata": {},
   "outputs": [],
   "source": [
    "# to add new row in just to existing line we use lineterminator function\n",
    "# here writerows means adding multiple lines ..> but with list \n",
    "\n",
    "fp = open(\"test.csv\",\"a+\")\n",
    "write_obj = csv.writer(fp,lineterminator = '\\n')\n",
    "write_obj.writerows([[\"qqq\",\"qqq@gmail.com\",\"234754568\"],[\"sss\",\"sss@gmail.com\",\"125612728\"]])\n",
    "fp.close()"
   ]
  },
  {
   "cell_type": "code",
   "execution_count": 34,
   "metadata": {},
   "outputs": [],
   "source": [
    "# if we want to skip one column while creating a row than we use Dictwriter with fieldnames\n",
    "\n",
    "\n",
    "fp = open(\"test.csv\",\"a+\")\n",
    "write_obj = csv.DictWriter(fp,lineterminator = '\\n',fieldnames=[\"name\",\"email\",\"contacts\"])\n",
    "write_obj.writerow({\"name\":\"kkk\",\"contacts\":\"8321165161\",})\n",
    "fp.close()"
   ]
  },
  {
   "cell_type": "code",
   "execution_count": 42,
   "metadata": {},
   "outputs": [],
   "source": [
    "fp = open(\"test.csv\",\"r\")\n",
    "reader_obj = csv.DictReader(fp)\n",
    "#print(next(reader_obj))\n",
    "\n",
    "for row in reader_obj:\n",
    "    print(row)\n",
    "fp.close()"
   ]
  },
  {
   "cell_type": "code",
   "execution_count": null,
   "metadata": {},
   "outputs": [],
   "source": [
    "reader\n",
    "writer\n",
    "\n",
    "DictReader\n",
    "DictWriter\n",
    "\n",
    "\n",
    "writer.Writerow()\n",
    "writer.Writerows([])\n",
    "\n",
    "dict_writer.writerow({})\n",
    "dict_writer.writerows([{}])"
   ]
  },
  {
   "cell_type": "code",
   "execution_count": null,
   "metadata": {},
   "outputs": [],
   "source": []
  },
  {
   "cell_type": "markdown",
   "metadata": {},
   "source": [
    "Exception Handling"
   ]
  },
  {
   "cell_type": "code",
   "execution_count": 54,
   "metadata": {},
   "outputs": [
    {
     "name": "stdout",
     "output_type": "stream",
     "text": [
      "value should be greater than 50\n",
      "Welcome to python\n"
     ]
    },
    {
     "name": "stderr",
     "output_type": "stream",
     "text": [
      "<>:10: SyntaxWarning: 'int' object is not subscriptable; perhaps you missed a comma?\n",
      "<>:10: SyntaxWarning: 'int' object is not subscriptable; perhaps you missed a comma?\n",
      "<ipython-input-54-45e62f9d75a3>:10: SyntaxWarning: 'int' object is not subscriptable; perhaps you missed a comma?\n",
      "  print(1[10])\n"
     ]
    }
   ],
   "source": [
    "class ValueLessThan50(Exception):\n",
    "    pass\n",
    "a = 20\n",
    "try:\n",
    "    if a < 50:\n",
    "        raise ValueLessThan50\n",
    "        \n",
    "        \n",
    "    l = [10,20,30]\n",
    "    print(1[10])\n",
    "    print(10 / 2)\n",
    "except ZeroDivisionError as e:\n",
    "    print(\"you can not divide by zero\")\n",
    "except IndexError as e:\n",
    "    print(\"you specified the wrong index\")\n",
    "except ValueLessThan50:\n",
    "    print(\"value should be greater than 50\")\n",
    "except:\n",
    "    print(\"run time error exception\")\n",
    "print(\"Welcome to python\")\n",
    "    "
   ]
  },
  {
   "cell_type": "code",
   "execution_count": 49,
   "metadata": {},
   "outputs": [
    {
     "name": "stdout",
     "output_type": "stream",
     "text": [
      "['ArithmeticError', 'AssertionError', 'AttributeError', 'BaseException', 'BlockingIOError', 'BrokenPipeError', 'BufferError', 'BytesWarning', 'ChildProcessError', 'ConnectionAbortedError', 'ConnectionError', 'ConnectionRefusedError', 'ConnectionResetError', 'DeprecationWarning', 'EOFError', 'Ellipsis', 'EnvironmentError', 'Exception', 'False', 'FileExistsError', 'FileNotFoundError', 'FloatingPointError', 'FutureWarning', 'GeneratorExit', 'IOError', 'ImportError', 'ImportWarning', 'IndentationError', 'IndexError', 'InterruptedError', 'IsADirectoryError', 'KeyError', 'KeyboardInterrupt', 'LookupError', 'MemoryError', 'ModuleNotFoundError', 'NameError', 'None', 'NotADirectoryError', 'NotImplemented', 'NotImplementedError', 'OSError', 'OverflowError', 'PendingDeprecationWarning', 'PermissionError', 'ProcessLookupError', 'RecursionError', 'ReferenceError', 'ResourceWarning', 'RuntimeError', 'RuntimeWarning', 'StopAsyncIteration', 'StopIteration', 'SyntaxError', 'SyntaxWarning', 'SystemError', 'SystemExit', 'TabError', 'TimeoutError', 'True', 'TypeError', 'UnboundLocalError', 'UnicodeDecodeError', 'UnicodeEncodeError', 'UnicodeError', 'UnicodeTranslateError', 'UnicodeWarning', 'UserWarning', 'ValueError', 'Warning', 'WindowsError', 'ZeroDivisionError', '__IPYTHON__', '__build_class__', '__debug__', '__doc__', '__import__', '__loader__', '__name__', '__package__', '__spec__', 'abs', 'all', 'any', 'ascii', 'bin', 'bool', 'breakpoint', 'bytearray', 'bytes', 'callable', 'chr', 'classmethod', 'compile', 'complex', 'copyright', 'credits', 'delattr', 'dict', 'dir', 'display', 'divmod', 'enumerate', 'eval', 'exec', 'filter', 'float', 'format', 'frozenset', 'get_ipython', 'getattr', 'globals', 'hasattr', 'hash', 'help', 'hex', 'id', 'input', 'int', 'isinstance', 'issubclass', 'iter', 'len', 'license', 'list', 'locals', 'map', 'max', 'memoryview', 'min', 'next', 'object', 'oct', 'open', 'ord', 'pow', 'print', 'property', 'range', 'repr', 'reversed', 'round', 'set', 'setattr', 'slice', 'sorted', 'staticmethod', 'str', 'sum', 'super', 'tuple', 'type', 'vars', 'zip']\n"
     ]
    }
   ],
   "source": [
    "print(dir(__builtins__))"
   ]
  },
  {
   "cell_type": "code",
   "execution_count": 57,
   "metadata": {},
   "outputs": [],
   "source": [
    "import netmiko"
   ]
  },
  {
   "cell_type": "code",
   "execution_count": 60,
   "metadata": {},
   "outputs": [
    {
     "name": "stdout",
     "output_type": "stream",
     "text": [
      "['BaseConnection', 'CNTL_SHIFT_6', 'ConnectHandler', 'FileTransfer', 'InLineTransfer', 'NetMikoAuthenticationException', 'NetMikoTimeoutException', 'Netmiko', 'NetmikoAuthenticationException', 'NetmikoTimeoutException', 'SCPConn', 'SSHDetect', '__all__', '__builtins__', '__cached__', '__doc__', '__file__', '__loader__', '__name__', '__package__', '__path__', '__spec__', '__version__', '_textfsm', 'a10', 'accedian', 'alcatel', 'apresia', 'arista', 'aruba', 'base_connection', 'calix', 'checkpoint', 'ciena', 'cisco', 'cisco_base_connection', 'citrix', 'cloudgenix', 'coriant', 'dell', 'dlink', 'eltex', 'endace', 'enterasys', 'extreme', 'f5', 'file_transfer', 'flexvnf', 'fortinet', 'hp', 'huawei', 'ipinfusion', 'juniper', 'keymile', 'linux', 'log', 'logging', 'mellanox', 'mikrotik', 'mrv', 'netapp', 'netmiko_globals', 'nokia', 'oneaccess', 'ovs', 'paloalto', 'platforms', 'pluribus', 'quanta', 'rad', 'redispatch', 'ruckus', 'ruijie', 'scp_functions', 'scp_handler', 'sophos', 'ssh_autodetect', 'ssh_dispatcher', 'ssh_exception', 'terminal_server', 'ubiquiti', 'utilities', 'vyos', 'watchguard']\n"
     ]
    }
   ],
   "source": [
    "print(dir(netmiko))"
   ]
  },
  {
   "cell_type": "code",
   "execution_count": 61,
   "metadata": {},
   "outputs": [],
   "source": [
    "import paramiko"
   ]
  },
  {
   "cell_type": "code",
   "execution_count": 62,
   "metadata": {},
   "outputs": [
    {
     "name": "stdout",
     "output_type": "stream",
     "text": [
      "['AUTH_FAILED', 'AUTH_PARTIALLY_SUCCESSFUL', 'AUTH_SUCCESSFUL', 'Agent', 'AgentKey', 'AuthHandler', 'AuthenticationException', 'AutoAddPolicy', 'BadAuthenticationType', 'BadHostKeyException', 'BaseSFTP', 'BufferedFile', 'Channel', 'ChannelException', 'ChannelFile', 'ChannelStderrFile', 'ChannelStdinFile', 'ConfigParseError', 'CouldNotCanonicalize', 'DSSKey', 'ECDSAKey', 'Ed25519Key', 'GSSAuth', 'GSS_AUTH_AVAILABLE', 'GSS_EXCEPTIONS', 'HostKeys', 'InteractiveQuery', 'Message', 'MissingHostKeyPolicy', 'OPEN_FAILED_ADMINISTRATIVELY_PROHIBITED', 'OPEN_FAILED_CONNECT_FAILED', 'OPEN_FAILED_RESOURCE_SHORTAGE', 'OPEN_FAILED_UNKNOWN_CHANNEL_TYPE', 'OPEN_SUCCEEDED', 'PKey', 'Packetizer', 'PasswordRequiredException', 'ProxyCommand', 'ProxyCommandFailure', 'PublicBlob', 'RSAKey', 'RejectPolicy', 'SFTP', 'SFTPAttributes', 'SFTPClient', 'SFTPError', 'SFTPFile', 'SFTPHandle', 'SFTPServer', 'SFTPServerInterface', 'SFTP_BAD_MESSAGE', 'SFTP_CONNECTION_LOST', 'SFTP_EOF', 'SFTP_FAILURE', 'SFTP_NO_CONNECTION', 'SFTP_NO_SUCH_FILE', 'SFTP_OK', 'SFTP_OP_UNSUPPORTED', 'SFTP_PERMISSION_DENIED', 'SSHClient', 'SSHConfig', 'SSHConfigDict', 'SSHException', 'SecurityOptions', 'ServerInterface', 'SubsystemHandler', 'Transport', 'WarningPolicy', '__all__', '__author__', '__builtins__', '__cached__', '__doc__', '__file__', '__license__', '__loader__', '__name__', '__package__', '__path__', '__spec__', '__version__', '__version_info__', '_version', 'agent', 'auth_handler', 'ber', 'buffered_pipe', 'channel', 'client', 'common', 'compress', 'config', 'dsskey', 'ecdsakey', 'ed25519key', 'file', 'hostkeys', 'io_sleep', 'kex_curve25519', 'kex_ecdh_nist', 'kex_gex', 'kex_group1', 'kex_group14', 'kex_group16', 'kex_gss', 'message', 'packet', 'pipe', 'pkey', 'primes', 'proxy', 'py3compat', 'rsakey', 'server', 'sftp', 'sftp_attr', 'sftp_client', 'sftp_file', 'sftp_handle', 'sftp_server', 'sftp_si', 'ssh_exception', 'ssh_gss', 'sys', 'transport', 'util']\n"
     ]
    }
   ],
   "source": [
    "print(dir(paramiko))"
   ]
  }
 ],
 "metadata": {
  "kernelspec": {
   "display_name": "Python 3",
   "language": "python",
   "name": "python3"
  },
  "language_info": {
   "codemirror_mode": {
    "name": "ipython",
    "version": 3
   },
   "file_extension": ".py",
   "mimetype": "text/x-python",
   "name": "python",
   "nbconvert_exporter": "python",
   "pygments_lexer": "ipython3",
   "version": "3.8.2"
  }
 },
 "nbformat": 4,
 "nbformat_minor": 4
}
