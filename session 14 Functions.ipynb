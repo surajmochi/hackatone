{
 "cells": [
  {
   "cell_type": "code",
   "execution_count": null,
   "metadata": {},
   "outputs": [],
   "source": [
    "Functions : \n",
    "    \n",
    "            "
   ]
  },
  {
   "cell_type": "code",
   "execution_count": null,
   "metadata": {},
   "outputs": [],
   "source": [
    "def [func_name](args):\n",
    "    statement\n",
    "    return variable_name"
   ]
  },
  {
   "cell_type": "code",
   "execution_count": null,
   "metadata": {},
   "outputs": [],
   "source": [
    "None"
   ]
  },
  {
   "cell_type": "code",
   "execution_count": null,
   "metadata": {},
   "outputs": [],
   "source": [
    "- positional parameter \n",
    "    #  A positional argument is a name that is not followed by an equal sign (=) and default value.\n",
    "\n",
    "    #A keyword argument is followed by an equal sign and an expression that gives its default value.\n",
    "\n",
    "- default parameter\n",
    "- *args - variable positional\n",
    "- **kwargs - variable keyword args"
   ]
  },
  {
   "cell_type": "code",
   "execution_count": 7,
   "metadata": {},
   "outputs": [
    {
     "name": "stdout",
     "output_type": "stream",
     "text": [
      "(2, 3, 4, 3, 4, 3, 4, 3, 4, 3, 4)\n"
     ]
    }
   ],
   "source": [
    "def func(*args):\n",
    "    print(args)\n",
    "\n",
    "\n",
    "func(2,3,4,3,4,3,4,3,4,3,4)"
   ]
  },
  {
   "cell_type": "markdown",
   "metadata": {},
   "source": [
    "# positional parameter\n",
    "    * no. of argument in functions call and f. definition should be same\n"
   ]
  },
  {
   "cell_type": "code",
   "execution_count": 10,
   "metadata": {},
   "outputs": [
    {
     "name": "stdout",
     "output_type": "stream",
     "text": [
      "300\n"
     ]
    }
   ],
   "source": [
    "def add(num1,num2):\n",
    "    return num1 + num2   # function definition\n",
    "\n",
    "result = add(100,200)\n",
    "print(result)            # funtion call"
   ]
  },
  {
   "cell_type": "markdown",
   "metadata": {},
   "source": [
    "# Default parameter\n",
    "    * first argument will call in parameter by default"
   ]
  },
  {
   "cell_type": "code",
   "execution_count": 14,
   "metadata": {},
   "outputs": [
    {
     "name": "stdout",
     "output_type": "stream",
     "text": [
      "200 300\n",
      "500\n"
     ]
    }
   ],
   "source": [
    "def add(num1,num2=300):\n",
    "    print(num1,num2)\n",
    "    return num1 + num2\n",
    "result = add(200)\n",
    "print(result)"
   ]
  },
  {
   "cell_type": "markdown",
   "metadata": {},
   "source": [
    "# keyword parameter\n",
    "    * this will take keywords as in exact parameter match   "
   ]
  },
  {
   "cell_type": "code",
   "execution_count": 18,
   "metadata": {},
   "outputs": [
    {
     "name": "stdout",
     "output_type": "stream",
     "text": [
      "True\n",
      "False\n",
      "True\n"
     ]
    }
   ],
   "source": [
    "def login(username,password):\n",
    "    if username == \"suraj@123\" and password == \"admin123\":\n",
    "        return True\n",
    "    else:\n",
    "        return False\n",
    "    \n",
    "print(login('suraj@123','admin123'))\n",
    "print(login('admin123','suraj@123'))\n",
    "print(login(password='admin123',username='suraj@123'))"
   ]
  },
  {
   "cell_type": "code",
   "execution_count": 33,
   "metadata": {},
   "outputs": [
    {
     "name": "stdout",
     "output_type": "stream",
     "text": [
      "10,20 hii\n"
     ]
    }
   ],
   "source": [
    "print(10,20,sep = \",\",end=\" \")\n",
    "print('hii')"
   ]
  },
  {
   "cell_type": "code",
   "execution_count": 24,
   "metadata": {},
   "outputs": [
    {
     "name": "stdout",
     "output_type": "stream",
     "text": [
      "Help on built-in function print in module builtins:\n",
      "\n",
      "print(...)\n",
      "    print(value, ..., sep=' ', end='\\n', file=sys.stdout, flush=False)\n",
      "    \n",
      "    Prints the values to a stream, or to sys.stdout by default.\n",
      "    Optional keyword arguments:\n",
      "    file:  a file-like object (stream); defaults to the current sys.stdout.\n",
      "    sep:   string inserted between values, default a space.\n",
      "    end:   string appended after the last value, default a newline.\n",
      "    flush: whether to forcibly flush the stream.\n",
      "\n"
     ]
    }
   ],
   "source": [
    "help(print)"
   ]
  },
  {
   "cell_type": "markdown",
   "metadata": {},
   "source": [
    "sequence of iteration >> 1st postional , 2nd default , 3rd varialble paramter\n",
    "below Example"
   ]
  },
  {
   "cell_type": "markdown",
   "metadata": {},
   "source": [
    "# variable position"
   ]
  },
  {
   "cell_type": "code",
   "execution_count": 41,
   "metadata": {},
   "outputs": [
    {
     "name": "stdout",
     "output_type": "stream",
     "text": [
      "([1, 2, 3, 4], {1: 1, 2: 2}, 20, 30, 40, 50)\n",
      "None\n",
      "()\n",
      "None\n",
      "(300,)\n",
      "None\n",
      "(300, 400, 500, 600, 700)\n",
      "None\n"
     ]
    }
   ],
   "source": [
    "def add(num1,num2=0,*args):\n",
    "    print(args)\n",
    "    #return sum(args)\n",
    "\n",
    "print(add(10,'python',[1,2,3,4],{1:1,2:2},20,30,40,50))\n",
    "print(add(100))\n",
    "print(add(100,200,300))\n",
    "print(add(100,200,300,400,500,600,700))"
   ]
  },
  {
   "cell_type": "code",
   "execution_count": null,
   "metadata": {},
   "outputs": [],
   "source": []
  },
  {
   "cell_type": "markdown",
   "metadata": {},
   "source": [
    "variable  keyward **kwargs ==> dict #datatype\n",
    "\n"
   ]
  },
  {
   "cell_type": "code",
   "execution_count": 71,
   "metadata": {},
   "outputs": [
    {
     "name": "stdout",
     "output_type": "stream",
     "text": [
      "{'username': 'suraj', 'email': 'abc@gamil.com', 'contact': '900214587', 'dob': '9/1/1998'}\n",
      "{'username': 'suraj', 'email': 'abc@gamil.com', 'dob': '9/1/1998'}\n",
      "{'username': 'suraj', 'contact': '900214587', 'dob': '9/1/1998'}\n"
     ]
    }
   ],
   "source": [
    "#username email contact dob\n",
    "\n",
    "def details(**kwargs):\n",
    "    print(kwargs)\n",
    "\n",
    "details(username = \"suraj\",email = \"abc@gamil.com\",contact = \"900214587\",dob = \"9/1/1998\")\n",
    "details(username = \"suraj\",email = \"abc@gamil.com\",dob = \"9/1/1998\")\n",
    "details(username = \"suraj\",contact = \"900214587\",dob = \"9/1/1998\")"
   ]
  },
  {
   "cell_type": "code",
   "execution_count": 72,
   "metadata": {},
   "outputs": [
    {
     "name": "stdout",
     "output_type": "stream",
     "text": [
      "50\n",
      "100\n"
     ]
    }
   ],
   "source": [
    "def add():\n",
    "    num1= 50\n",
    "    print(num1)\n",
    "num1 = 100\n",
    "add()\n",
    "print(num1)"
   ]
  },
  {
   "cell_type": "markdown",
   "metadata": {},
   "source": [
    "# Recursive functions"
   ]
  },
  {
   "cell_type": "code",
   "execution_count": null,
   "metadata": {},
   "outputs": [],
   "source": [
    "fact = 5\n",
    "binary_search()\n",
    "\n",
    "5 = 5 * 4 * 3 * 2 * 1\n",
    "    5 * 4!\n",
    "    5 * 4 * 3!\n",
    "    5 * 4 * 3 * 2 !\n",
    "    5 * 4 * 3 * 2 * 1!"
   ]
  },
  {
   "cell_type": "code",
   "execution_count": null,
   "metadata": {},
   "outputs": [],
   "source": [
    "fact(5)\n",
    "fact(1) => 1"
   ]
  },
  {
   "cell_type": "code",
   "execution_count": 73,
   "metadata": {},
   "outputs": [
    {
     "name": "stdout",
     "output_type": "stream",
     "text": [
      "120\n"
     ]
    }
   ],
   "source": [
    "def fact(num):\n",
    "    if num == 1 :\n",
    "        return 1\n",
    "    else:\n",
    "        return num * fact(num - 1)\n",
    "        \n",
    "num = 5\n",
    "print(fact(num))"
   ]
  },
  {
   "cell_type": "code",
   "execution_count": null,
   "metadata": {},
   "outputs": [],
   "source": []
  },
  {
   "cell_type": "code",
   "execution_count": 4,
   "metadata": {},
   "outputs": [
    {
     "name": "stdout",
     "output_type": "stream",
     "text": [
      "True\n"
     ]
    }
   ],
   "source": [
    "def binary_search(l,key):\n",
    "    mid = len(l) // 2\n",
    "    if l[mid] == key:\n",
    "        return True\n",
    "    elif key < l[mid]:\n",
    "        return binary_search(l[:mid],key)\n",
    "    else:\n",
    "        key > l[mid]\n",
    "        return binary_search(l[mid + 1:],key)\n",
    "        \n",
    "\n",
    "\n",
    "l = [100,200,300,400,500,600,700]\n",
    "key = 200\n",
    "print(binary_search(l,key))"
   ]
  },
  {
   "cell_type": "code",
   "execution_count": null,
   "metadata": {},
   "outputs": [],
   "source": [
    "__name__  ctrl + enter => main ==> __main__\n",
    "\n",
    "        #variable ->> its an internal process you will not mess up with that\n",
    "\n",
    "        # set by python itself"
   ]
  },
  {
   "cell_type": "code",
   "execution_count": 2,
   "metadata": {},
   "outputs": [
    {
     "ename": "NameError",
     "evalue": "name 'random' is not defined",
     "output_type": "error",
     "traceback": [
      "\u001b[1;31m---------------------------------------------------------------------------\u001b[0m",
      "\u001b[1;31mNameError\u001b[0m                                 Traceback (most recent call last)",
      "\u001b[1;32m<ipython-input-2-b272b36fabcc>\u001b[0m in \u001b[0;36m<module>\u001b[1;34m\u001b[0m\n\u001b[1;32m----> 1\u001b[1;33m \u001b[0mhelp\u001b[0m\u001b[1;33m(\u001b[0m\u001b[0mrandom\u001b[0m\u001b[1;33m)\u001b[0m\u001b[1;33m\u001b[0m\u001b[1;33m\u001b[0m\u001b[0m\n\u001b[0m",
      "\u001b[1;31mNameError\u001b[0m: name 'random' is not defined"
     ]
    }
   ],
   "source": [
    "help(random)"
   ]
  },
  {
   "cell_type": "markdown",
   "metadata": {},
   "source": [
    "#  if your module(.py file) is present in other folder then,\n",
    "\n"
   ]
  },
  {
   "cell_type": "code",
   "execution_count": null,
   "metadata": {},
   "outputs": [],
   "source": [
    "import folder.bs_new # folder_name.modulename "
   ]
  }
 ],
 "metadata": {
  "kernelspec": {
   "display_name": "Python 3",
   "language": "python",
   "name": "python3"
  },
  "language_info": {
   "codemirror_mode": {
    "name": "ipython",
    "version": 3
   },
   "file_extension": ".py",
   "mimetype": "text/x-python",
   "name": "python",
   "nbconvert_exporter": "python",
   "pygments_lexer": "ipython3",
   "version": "3.8.2"
  }
 },
 "nbformat": 4,
 "nbformat_minor": 4
}
